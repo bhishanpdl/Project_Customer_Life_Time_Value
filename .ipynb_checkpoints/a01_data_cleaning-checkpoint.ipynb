{
 "cells": [
  {
   "cell_type": "markdown",
   "id": "0fe0623b",
   "metadata": {
    "toc": true
   },
   "source": [
    "<h1>Table of Contents<span class=\"tocSkip\"></span></h1>\n",
    "<div class=\"toc\"><ul class=\"toc-item\"><li><span><a href=\"#Description\" data-toc-modified-id=\"Description-1\"><span class=\"toc-item-num\">1&nbsp;&nbsp;</span>Description</a></span></li><li><span><a href=\"#Load-the-libraries\" data-toc-modified-id=\"Load-the-libraries-2\"><span class=\"toc-item-num\">2&nbsp;&nbsp;</span>Load the libraries</a></span></li><li><span><a href=\"#Data-Cleaning\" data-toc-modified-id=\"Data-Cleaning-3\"><span class=\"toc-item-num\">3&nbsp;&nbsp;</span>Data Cleaning</a></span><ul class=\"toc-item\"><li><span><a href=\"#missing-values\" data-toc-modified-id=\"missing-values-3.1\"><span class=\"toc-item-num\">3.1&nbsp;&nbsp;</span>missing values</a></span></li><li><span><a href=\"#data-description\" data-toc-modified-id=\"data-description-3.2\"><span class=\"toc-item-num\">3.2&nbsp;&nbsp;</span>data description</a></span></li></ul></li><li><span><a href=\"#Script\" data-toc-modified-id=\"Script-4\"><span class=\"toc-item-num\">4&nbsp;&nbsp;</span>Script</a></span></li><li><span><a href=\"#Time-Taken\" data-toc-modified-id=\"Time-Taken-5\"><span class=\"toc-item-num\">5&nbsp;&nbsp;</span>Time Taken</a></span></li></ul></div>"
   ]
  },
  {
   "cell_type": "markdown",
   "id": "f9ccdbd0",
   "metadata": {},
   "source": [
    "# Description\n",
    "\n",
    "- Data source: [Online Retail Datset from UCI](https://archive.ics.uci.edu/ml/datasets/online+retail)\n",
    "\n",
    "This is a transnational data set which contains all the transactions occurring between 01/12/2010 and 09/12/2011 for a UK-based and registered non-store online retail.The company mainly sells unique all-occasion gifts. Many customers of the company are wholesalers."
   ]
  },
  {
   "cell_type": "markdown",
   "id": "f67f75c2",
   "metadata": {
    "ExecuteTime": {
     "end_time": "2021-08-06T02:41:31.101708Z",
     "start_time": "2021-08-06T02:41:31.094484Z"
    }
   },
   "source": [
    "<table style=\"width:100%\">\n",
    "    \n",
    "<tr>\n",
    "<th>Feature</th>\n",
    "<th>Description</th> \n",
    "</tr>\n",
    "<tr>\n",
    "  <td>InvoiceNo</td>\n",
    "  <td> Invoice number. Nominal, a 6-digit integral number uniquely assigned to each transaction. If this code starts with letter 'c', it indicates a cancellation. </td>\n",
    "</tr>\n",
    "<tr>\n",
    "  <td>StockCode</td>\n",
    "  <td> Product (item) code. Nominal, a 5-digit integral number uniquely assigned to each distinct product. </td>\n",
    "</tr>\n",
    "<tr>\n",
    "  <td>Description</td>\n",
    "  <td> Product (item) name. Nominal. </td>\n",
    "</tr>\n",
    "<tr>\n",
    "  <td>Quantity</td>\n",
    "  <td> The quantities of each product (item) per transaction. Numeric. </td>\n",
    "</tr>\n",
    "<tr>\n",
    "  <td>InvoiceDate</td>\n",
    "  <td> Invice Date and time. Numeric, the day and time when each transaction was generated. </td>\n",
    "</tr>\n",
    "<tr>\n",
    "  <td>UnitPrice</td>\n",
    "  <td> Unit price. Numeric, Product price per unit in sterling. </td>\n",
    "</tr>\n",
    "<tr>\n",
    "  <td>CustomerID</td>\n",
    "  <td> Customer number. Nominal, a 5-digit integral number uniquely assigned to each customer. </td>\n",
    "</tr>\n",
    "<tr>\n",
    "  <td>Country</td>\n",
    "  <td> Country name. Nominal, the name of the country where each customer resides.</td>\n",
    "</tr></table>"
   ]
  },
  {
   "cell_type": "markdown",
   "id": "02e13f83",
   "metadata": {},
   "source": [
    "![](data/raw/head.png)\n",
    "![](data/raw/mid.png)\n",
    "![](data/raw/tail.png)"
   ]
  },
  {
   "cell_type": "markdown",
   "id": "ce89bb02",
   "metadata": {},
   "source": [
    "# Load the libraries"
   ]
  },
  {
   "cell_type": "code",
   "execution_count": 1,
   "id": "db4de58e",
   "metadata": {
    "ExecuteTime": {
     "end_time": "2021-08-07T18:53:22.263857Z",
     "start_time": "2021-08-07T18:53:19.809685Z"
    }
   },
   "outputs": [
    {
     "name": "stdout",
     "output_type": "stream",
     "text": [
      "numpy    1.19.5\n",
      "autopep8 1.5.2\n",
      "json     2.0.9\n",
      "pandas   1.3.0\n",
      "seaborn  0.11.0\n",
      "re       2.2.1\n",
      "\n"
     ]
    }
   ],
   "source": [
    "import numpy as np\n",
    "import pandas as pd\n",
    "import os,sys,time\n",
    "import re\n",
    "\n",
    "time_start_notebook = time.time()\n",
    "\n",
    "# visualization\n",
    "import matplotlib.pyplot as plt\n",
    "import seaborn as sns\n",
    "sns.set()\n",
    "\n",
    "# settings\n",
    "SEED = 100\n",
    "pd.set_option('max_columns',100)\n",
    "\n",
    "%matplotlib inline\n",
    "%load_ext watermark\n",
    "%watermark -iv"
   ]
  },
  {
   "cell_type": "code",
   "execution_count": 2,
   "id": "b2e56e65",
   "metadata": {
    "ExecuteTime": {
     "end_time": "2021-08-07T18:53:22.409386Z",
     "start_time": "2021-08-07T18:53:22.267636Z"
    }
   },
   "outputs": [
    {
     "name": "stdout",
     "output_type": "stream",
     "text": [
      "Online Retail.xlsx         online_retail.parquet.gzip\r\n",
      "head.png                   tail.png\r\n",
      "mid.png\r\n"
     ]
    }
   ],
   "source": [
    "!ls data/raw"
   ]
  },
  {
   "cell_type": "code",
   "execution_count": 3,
   "id": "e567689d",
   "metadata": {
    "ExecuteTime": {
     "end_time": "2021-08-07T18:53:22.417222Z",
     "start_time": "2021-08-07T18:53:22.412608Z"
    }
   },
   "outputs": [],
   "source": [
    "# %%time\n",
    "\n",
    "# date_fmt = \"%m/%d/%y %H:%M\"\n",
    "# df = pd.read_excel(\"data/raw/Online Retail.xlsx\",parse_dates=['InvoiceDate'])\n",
    "# print(df.shape)\n",
    "# df.head().append(df.tail())\n",
    "\n",
    "# Wall time: 57.1 s"
   ]
  },
  {
   "cell_type": "code",
   "execution_count": 4,
   "id": "724029ef",
   "metadata": {
    "ExecuteTime": {
     "end_time": "2021-08-07T18:53:22.424878Z",
     "start_time": "2021-08-07T18:53:22.420879Z"
    }
   },
   "outputs": [],
   "source": [
    "# pd.read_excel?"
   ]
  },
  {
   "cell_type": "code",
   "execution_count": 5,
   "id": "684f797f",
   "metadata": {
    "ExecuteTime": {
     "end_time": "2021-08-07T18:53:22.434347Z",
     "start_time": "2021-08-07T18:53:22.430972Z"
    }
   },
   "outputs": [],
   "source": [
    "# df_orig = df.copy()"
   ]
  },
  {
   "cell_type": "code",
   "execution_count": 6,
   "id": "5b239180",
   "metadata": {
    "ExecuteTime": {
     "end_time": "2021-08-07T18:53:22.442379Z",
     "start_time": "2021-08-07T18:53:22.438613Z"
    }
   },
   "outputs": [],
   "source": [
    "# df.dtypes"
   ]
  },
  {
   "cell_type": "code",
   "execution_count": 7,
   "id": "6fc924e7",
   "metadata": {
    "ExecuteTime": {
     "end_time": "2021-08-07T18:53:22.450709Z",
     "start_time": "2021-08-07T18:53:22.445947Z"
    }
   },
   "outputs": [],
   "source": [
    "# df.isna().sum()"
   ]
  },
  {
   "cell_type": "code",
   "execution_count": 8,
   "id": "e1513da4",
   "metadata": {
    "ExecuteTime": {
     "end_time": "2021-08-07T18:53:22.457504Z",
     "start_time": "2021-08-07T18:53:22.453462Z"
    }
   },
   "outputs": [],
   "source": [
    "\"\"\"\n",
    "Note: we can write the data as parquet.\n",
    "some of the invoice number statrs with letter 'c' and it gives problem.\n",
    "\n",
    "\n",
    "df.to_parquet('data/raw/online_retail.parquet.gzip',compression='gzip')\n",
    "\n",
    "ArrowInvalid: (\"Could not convert 'C536379' with type str: tried to convert to int\",\n",
    "               'Conversion failed for column InvoiceNo with type object')\n",
    "               \n",
    "\"\"\";"
   ]
  },
  {
   "cell_type": "code",
   "execution_count": 9,
   "id": "f032b511",
   "metadata": {
    "ExecuteTime": {
     "end_time": "2021-08-07T18:53:22.463202Z",
     "start_time": "2021-08-07T18:53:22.459735Z"
    }
   },
   "outputs": [],
   "source": [
    "# df.columns"
   ]
  },
  {
   "cell_type": "code",
   "execution_count": 10,
   "id": "9ee80168",
   "metadata": {
    "ExecuteTime": {
     "end_time": "2021-08-07T18:53:22.468484Z",
     "start_time": "2021-08-07T18:53:22.465827Z"
    }
   },
   "outputs": [],
   "source": [
    "# cols_str = ['InvoiceNo', 'StockCode', 'Description', 'CustomerID', 'Country']\n",
    "# df[cols_str] = df[cols_str].astype(str)\n",
    "# df.to_parquet('data/raw/online_retail.parquet.gzip',compression='gzip')"
   ]
  },
  {
   "cell_type": "code",
   "execution_count": 11,
   "id": "67bf724d",
   "metadata": {
    "ExecuteTime": {
     "end_time": "2021-08-07T18:53:22.716810Z",
     "start_time": "2021-08-07T18:53:22.471183Z"
    }
   },
   "outputs": [
    {
     "name": "stdout",
     "output_type": "stream",
     "text": [
      "CPU times: user 266 ms, sys: 61.1 ms, total: 327 ms\n",
      "Wall time: 241 ms\n"
     ]
    }
   ],
   "source": [
    "%%time\n",
    "ifile = 'data/raw/online_retail.parquet.gzip'\n",
    "\n",
    "df = pd.read_parquet(ifile)"
   ]
  },
  {
   "cell_type": "code",
   "execution_count": 12,
   "id": "10b8b124",
   "metadata": {
    "ExecuteTime": {
     "end_time": "2021-08-07T18:53:22.746072Z",
     "start_time": "2021-08-07T18:53:22.723566Z"
    }
   },
   "outputs": [
    {
     "data": {
      "text/html": [
       "<div>\n",
       "<style scoped>\n",
       "    .dataframe tbody tr th:only-of-type {\n",
       "        vertical-align: middle;\n",
       "    }\n",
       "\n",
       "    .dataframe tbody tr th {\n",
       "        vertical-align: top;\n",
       "    }\n",
       "\n",
       "    .dataframe thead th {\n",
       "        text-align: right;\n",
       "    }\n",
       "</style>\n",
       "<table border=\"1\" class=\"dataframe\">\n",
       "  <thead>\n",
       "    <tr style=\"text-align: right;\">\n",
       "      <th></th>\n",
       "      <th>InvoiceNo</th>\n",
       "      <th>StockCode</th>\n",
       "      <th>Description</th>\n",
       "      <th>Quantity</th>\n",
       "      <th>InvoiceDate</th>\n",
       "      <th>UnitPrice</th>\n",
       "      <th>CustomerID</th>\n",
       "      <th>Country</th>\n",
       "    </tr>\n",
       "  </thead>\n",
       "  <tbody>\n",
       "    <tr>\n",
       "      <th>0</th>\n",
       "      <td>536365</td>\n",
       "      <td>85123A</td>\n",
       "      <td>WHITE HANGING HEART T-LIGHT HOLDER</td>\n",
       "      <td>6</td>\n",
       "      <td>2010-12-01 08:26:00</td>\n",
       "      <td>2.55</td>\n",
       "      <td>17850.0</td>\n",
       "      <td>United Kingdom</td>\n",
       "    </tr>\n",
       "    <tr>\n",
       "      <th>1</th>\n",
       "      <td>536365</td>\n",
       "      <td>71053</td>\n",
       "      <td>WHITE METAL LANTERN</td>\n",
       "      <td>6</td>\n",
       "      <td>2010-12-01 08:26:00</td>\n",
       "      <td>3.39</td>\n",
       "      <td>17850.0</td>\n",
       "      <td>United Kingdom</td>\n",
       "    </tr>\n",
       "    <tr>\n",
       "      <th>2</th>\n",
       "      <td>536365</td>\n",
       "      <td>84406B</td>\n",
       "      <td>CREAM CUPID HEARTS COAT HANGER</td>\n",
       "      <td>8</td>\n",
       "      <td>2010-12-01 08:26:00</td>\n",
       "      <td>2.75</td>\n",
       "      <td>17850.0</td>\n",
       "      <td>United Kingdom</td>\n",
       "    </tr>\n",
       "    <tr>\n",
       "      <th>3</th>\n",
       "      <td>536365</td>\n",
       "      <td>84029G</td>\n",
       "      <td>KNITTED UNION FLAG HOT WATER BOTTLE</td>\n",
       "      <td>6</td>\n",
       "      <td>2010-12-01 08:26:00</td>\n",
       "      <td>3.39</td>\n",
       "      <td>17850.0</td>\n",
       "      <td>United Kingdom</td>\n",
       "    </tr>\n",
       "    <tr>\n",
       "      <th>4</th>\n",
       "      <td>536365</td>\n",
       "      <td>84029E</td>\n",
       "      <td>RED WOOLLY HOTTIE WHITE HEART.</td>\n",
       "      <td>6</td>\n",
       "      <td>2010-12-01 08:26:00</td>\n",
       "      <td>3.39</td>\n",
       "      <td>17850.0</td>\n",
       "      <td>United Kingdom</td>\n",
       "    </tr>\n",
       "    <tr>\n",
       "      <th>541904</th>\n",
       "      <td>581587</td>\n",
       "      <td>22613</td>\n",
       "      <td>PACK OF 20 SPACEBOY NAPKINS</td>\n",
       "      <td>12</td>\n",
       "      <td>2011-12-09 12:50:00</td>\n",
       "      <td>0.85</td>\n",
       "      <td>12680.0</td>\n",
       "      <td>France</td>\n",
       "    </tr>\n",
       "    <tr>\n",
       "      <th>541905</th>\n",
       "      <td>581587</td>\n",
       "      <td>22899</td>\n",
       "      <td>CHILDREN'S APRON DOLLY GIRL</td>\n",
       "      <td>6</td>\n",
       "      <td>2011-12-09 12:50:00</td>\n",
       "      <td>2.10</td>\n",
       "      <td>12680.0</td>\n",
       "      <td>France</td>\n",
       "    </tr>\n",
       "    <tr>\n",
       "      <th>541906</th>\n",
       "      <td>581587</td>\n",
       "      <td>23254</td>\n",
       "      <td>CHILDRENS CUTLERY DOLLY GIRL</td>\n",
       "      <td>4</td>\n",
       "      <td>2011-12-09 12:50:00</td>\n",
       "      <td>4.15</td>\n",
       "      <td>12680.0</td>\n",
       "      <td>France</td>\n",
       "    </tr>\n",
       "    <tr>\n",
       "      <th>541907</th>\n",
       "      <td>581587</td>\n",
       "      <td>23255</td>\n",
       "      <td>CHILDRENS CUTLERY CIRCUS PARADE</td>\n",
       "      <td>4</td>\n",
       "      <td>2011-12-09 12:50:00</td>\n",
       "      <td>4.15</td>\n",
       "      <td>12680.0</td>\n",
       "      <td>France</td>\n",
       "    </tr>\n",
       "    <tr>\n",
       "      <th>541908</th>\n",
       "      <td>581587</td>\n",
       "      <td>22138</td>\n",
       "      <td>BAKING SET 9 PIECE RETROSPOT</td>\n",
       "      <td>3</td>\n",
       "      <td>2011-12-09 12:50:00</td>\n",
       "      <td>4.95</td>\n",
       "      <td>12680.0</td>\n",
       "      <td>France</td>\n",
       "    </tr>\n",
       "  </tbody>\n",
       "</table>\n",
       "</div>"
      ],
      "text/plain": [
       "       InvoiceNo StockCode                          Description  Quantity  \\\n",
       "0         536365    85123A   WHITE HANGING HEART T-LIGHT HOLDER         6   \n",
       "1         536365     71053                  WHITE METAL LANTERN         6   \n",
       "2         536365    84406B       CREAM CUPID HEARTS COAT HANGER         8   \n",
       "3         536365    84029G  KNITTED UNION FLAG HOT WATER BOTTLE         6   \n",
       "4         536365    84029E       RED WOOLLY HOTTIE WHITE HEART.         6   \n",
       "541904    581587     22613          PACK OF 20 SPACEBOY NAPKINS        12   \n",
       "541905    581587     22899         CHILDREN'S APRON DOLLY GIRL          6   \n",
       "541906    581587     23254        CHILDRENS CUTLERY DOLLY GIRL          4   \n",
       "541907    581587     23255      CHILDRENS CUTLERY CIRCUS PARADE         4   \n",
       "541908    581587     22138        BAKING SET 9 PIECE RETROSPOT          3   \n",
       "\n",
       "               InvoiceDate  UnitPrice CustomerID         Country  \n",
       "0      2010-12-01 08:26:00       2.55    17850.0  United Kingdom  \n",
       "1      2010-12-01 08:26:00       3.39    17850.0  United Kingdom  \n",
       "2      2010-12-01 08:26:00       2.75    17850.0  United Kingdom  \n",
       "3      2010-12-01 08:26:00       3.39    17850.0  United Kingdom  \n",
       "4      2010-12-01 08:26:00       3.39    17850.0  United Kingdom  \n",
       "541904 2011-12-09 12:50:00       0.85    12680.0          France  \n",
       "541905 2011-12-09 12:50:00       2.10    12680.0          France  \n",
       "541906 2011-12-09 12:50:00       4.15    12680.0          France  \n",
       "541907 2011-12-09 12:50:00       4.15    12680.0          France  \n",
       "541908 2011-12-09 12:50:00       4.95    12680.0          France  "
      ]
     },
     "execution_count": 12,
     "metadata": {},
     "output_type": "execute_result"
    }
   ],
   "source": [
    "df.head().append(df.tail())"
   ]
  },
  {
   "cell_type": "code",
   "execution_count": 13,
   "id": "ca4d307b",
   "metadata": {
    "ExecuteTime": {
     "end_time": "2021-08-07T18:53:22.764435Z",
     "start_time": "2021-08-07T18:53:22.753693Z"
    }
   },
   "outputs": [
    {
     "data": {
      "text/plain": [
       "InvoiceNo              object\n",
       "StockCode              object\n",
       "Description            object\n",
       "Quantity                int64\n",
       "InvoiceDate    datetime64[ns]\n",
       "UnitPrice             float64\n",
       "CustomerID             object\n",
       "Country                object\n",
       "dtype: object"
      ]
     },
     "execution_count": 13,
     "metadata": {},
     "output_type": "execute_result"
    }
   ],
   "source": [
    "df.dtypes"
   ]
  },
  {
   "cell_type": "markdown",
   "id": "04927a3a",
   "metadata": {},
   "source": [
    "# Data Cleaning"
   ]
  },
  {
   "cell_type": "code",
   "execution_count": 14,
   "id": "a2fcd2ca",
   "metadata": {
    "ExecuteTime": {
     "end_time": "2021-08-07T18:53:22.828303Z",
     "start_time": "2021-08-07T18:53:22.778912Z"
    }
   },
   "outputs": [
    {
     "data": {
      "text/plain": [
       "United Kingdom          495478\n",
       "Germany                   9495\n",
       "France                    8557\n",
       "EIRE                      8196\n",
       "Spain                     2533\n",
       "Netherlands               2371\n",
       "Belgium                   2069\n",
       "Switzerland               2002\n",
       "Portugal                  1519\n",
       "Australia                 1259\n",
       "Norway                    1086\n",
       "Italy                      803\n",
       "Channel Islands            758\n",
       "Finland                    695\n",
       "Cyprus                     622\n",
       "Sweden                     462\n",
       "Unspecified                446\n",
       "Austria                    401\n",
       "Denmark                    389\n",
       "Japan                      358\n",
       "Poland                     341\n",
       "Israel                     297\n",
       "USA                        291\n",
       "Hong Kong                  288\n",
       "Singapore                  229\n",
       "Iceland                    182\n",
       "Canada                     151\n",
       "Greece                     146\n",
       "Malta                      127\n",
       "United Arab Emirates        68\n",
       "European Community          61\n",
       "RSA                         58\n",
       "Lebanon                     45\n",
       "Lithuania                   35\n",
       "Brazil                      32\n",
       "Czech Republic              30\n",
       "Bahrain                     19\n",
       "Saudi Arabia                10\n",
       "Name: Country, dtype: int64"
      ]
     },
     "execution_count": 14,
     "metadata": {},
     "output_type": "execute_result"
    }
   ],
   "source": [
    "df.Country.value_counts()"
   ]
  },
  {
   "cell_type": "code",
   "execution_count": 15,
   "id": "da6fc37a",
   "metadata": {
    "ExecuteTime": {
     "end_time": "2021-08-07T18:53:22.948880Z",
     "start_time": "2021-08-07T18:53:22.830618Z"
    }
   },
   "outputs": [],
   "source": [
    "# choose only UK data\n",
    "df = df.query(\"Country == 'United Kingdom'\")\n",
    "\n",
    "# remove unwanted columns\n",
    "cols_drop = ['Country','Description','StockCode']\n",
    "df = df.drop(cols_drop,axis=1)"
   ]
  },
  {
   "cell_type": "code",
   "execution_count": 16,
   "id": "21798f6b",
   "metadata": {
    "ExecuteTime": {
     "end_time": "2021-08-07T18:53:22.957973Z",
     "start_time": "2021-08-07T18:53:22.952779Z"
    }
   },
   "outputs": [],
   "source": [
    "# convert CamelCase to snake_case"
   ]
  },
  {
   "cell_type": "code",
   "execution_count": 17,
   "id": "1478291a",
   "metadata": {
    "ExecuteTime": {
     "end_time": "2021-08-07T18:53:22.970541Z",
     "start_time": "2021-08-07T18:53:22.960594Z"
    }
   },
   "outputs": [
    {
     "data": {
      "text/plain": [
       "Index(['InvoiceNo', 'Quantity', 'InvoiceDate', 'UnitPrice', 'CustomerID'], dtype='object')"
      ]
     },
     "execution_count": 17,
     "metadata": {},
     "output_type": "execute_result"
    }
   ],
   "source": [
    "df.columns"
   ]
  },
  {
   "cell_type": "code",
   "execution_count": 18,
   "id": "4923fab8",
   "metadata": {
    "ExecuteTime": {
     "end_time": "2021-08-07T18:53:22.981495Z",
     "start_time": "2021-08-07T18:53:22.975785Z"
    }
   },
   "outputs": [],
   "source": [
    "# df.columns = ['invoice_no', 'quantity', 'invoice_date', 'unit_price', 'customer_id']"
   ]
  },
  {
   "cell_type": "code",
   "execution_count": 19,
   "id": "7743e845",
   "metadata": {
    "ExecuteTime": {
     "end_time": "2021-08-07T18:53:23.007136Z",
     "start_time": "2021-08-07T18:53:22.986330Z"
    }
   },
   "outputs": [],
   "source": [
    "df = df.rename(columns=lambda x: re.sub(r'(?!^)([A-Z]+)',r'_\\1',x))\n",
    "df.columns = df.columns.str.lower()"
   ]
  },
  {
   "cell_type": "code",
   "execution_count": 20,
   "id": "4d5be91c",
   "metadata": {
    "ExecuteTime": {
     "end_time": "2021-08-07T18:53:23.022361Z",
     "start_time": "2021-08-07T18:53:23.012811Z"
    }
   },
   "outputs": [
    {
     "data": {
      "text/plain": [
       "Index(['invoice_no', 'quantity', 'invoice_date', 'unit_price', 'customer_id'], dtype='object')"
      ]
     },
     "execution_count": 20,
     "metadata": {},
     "output_type": "execute_result"
    }
   ],
   "source": [
    "df.columns"
   ]
  },
  {
   "cell_type": "code",
   "execution_count": 21,
   "id": "a92cee9e",
   "metadata": {
    "ExecuteTime": {
     "end_time": "2021-08-07T18:53:23.082765Z",
     "start_time": "2021-08-07T18:53:23.025192Z"
    }
   },
   "outputs": [
    {
     "data": {
      "text/html": [
       "<div>\n",
       "<style scoped>\n",
       "    .dataframe tbody tr th:only-of-type {\n",
       "        vertical-align: middle;\n",
       "    }\n",
       "\n",
       "    .dataframe tbody tr th {\n",
       "        vertical-align: top;\n",
       "    }\n",
       "\n",
       "    .dataframe thead th {\n",
       "        text-align: right;\n",
       "    }\n",
       "</style>\n",
       "<table border=\"1\" class=\"dataframe\">\n",
       "  <thead>\n",
       "    <tr style=\"text-align: right;\">\n",
       "      <th></th>\n",
       "      <th>customer_id</th>\n",
       "      <th>invoice_no</th>\n",
       "      <th>invoice_date</th>\n",
       "      <th>quantity</th>\n",
       "      <th>unit_price</th>\n",
       "    </tr>\n",
       "  </thead>\n",
       "  <tbody>\n",
       "    <tr>\n",
       "      <th>0</th>\n",
       "      <td>17850.0</td>\n",
       "      <td>536365</td>\n",
       "      <td>2010-12-01 08:26:00</td>\n",
       "      <td>6</td>\n",
       "      <td>2.55</td>\n",
       "    </tr>\n",
       "    <tr>\n",
       "      <th>1</th>\n",
       "      <td>17850.0</td>\n",
       "      <td>536365</td>\n",
       "      <td>2010-12-01 08:26:00</td>\n",
       "      <td>6</td>\n",
       "      <td>3.39</td>\n",
       "    </tr>\n",
       "    <tr>\n",
       "      <th>2</th>\n",
       "      <td>17850.0</td>\n",
       "      <td>536365</td>\n",
       "      <td>2010-12-01 08:26:00</td>\n",
       "      <td>8</td>\n",
       "      <td>2.75</td>\n",
       "    </tr>\n",
       "    <tr>\n",
       "      <th>3</th>\n",
       "      <td>17850.0</td>\n",
       "      <td>536365</td>\n",
       "      <td>2010-12-01 08:26:00</td>\n",
       "      <td>6</td>\n",
       "      <td>3.39</td>\n",
       "    </tr>\n",
       "    <tr>\n",
       "      <th>4</th>\n",
       "      <td>17850.0</td>\n",
       "      <td>536365</td>\n",
       "      <td>2010-12-01 08:26:00</td>\n",
       "      <td>6</td>\n",
       "      <td>3.39</td>\n",
       "    </tr>\n",
       "  </tbody>\n",
       "</table>\n",
       "</div>"
      ],
      "text/plain": [
       "  customer_id invoice_no        invoice_date  quantity  unit_price\n",
       "0     17850.0     536365 2010-12-01 08:26:00         6        2.55\n",
       "1     17850.0     536365 2010-12-01 08:26:00         6        3.39\n",
       "2     17850.0     536365 2010-12-01 08:26:00         8        2.75\n",
       "3     17850.0     536365 2010-12-01 08:26:00         6        3.39\n",
       "4     17850.0     536365 2010-12-01 08:26:00         6        3.39"
      ]
     },
     "execution_count": 21,
     "metadata": {},
     "output_type": "execute_result"
    }
   ],
   "source": [
    "# re-arrange columns\n",
    "cols = ['customer_id', 'invoice_no', 'invoice_date', 'quantity', 'unit_price']\n",
    "df = df[cols]\n",
    "df.head()"
   ]
  },
  {
   "cell_type": "code",
   "execution_count": 22,
   "id": "66fe6b2d",
   "metadata": {
    "ExecuteTime": {
     "end_time": "2021-08-07T18:53:23.096314Z",
     "start_time": "2021-08-07T18:53:23.088790Z"
    }
   },
   "outputs": [],
   "source": [
    "# create new feature\n",
    "df['total_sales'] = df['quantity'] * df['unit_price']"
   ]
  },
  {
   "cell_type": "code",
   "execution_count": 23,
   "id": "b4c240f1",
   "metadata": {
    "ExecuteTime": {
     "end_time": "2021-08-07T18:53:23.199282Z",
     "start_time": "2021-08-07T18:53:23.111896Z"
    }
   },
   "outputs": [
    {
     "data": {
      "text/html": [
       "<div>\n",
       "<style scoped>\n",
       "    .dataframe tbody tr th:only-of-type {\n",
       "        vertical-align: middle;\n",
       "    }\n",
       "\n",
       "    .dataframe tbody tr th {\n",
       "        vertical-align: top;\n",
       "    }\n",
       "\n",
       "    .dataframe thead th {\n",
       "        text-align: right;\n",
       "    }\n",
       "</style>\n",
       "<table border=\"1\" class=\"dataframe\">\n",
       "  <thead>\n",
       "    <tr style=\"text-align: right;\">\n",
       "      <th></th>\n",
       "      <th>quantity</th>\n",
       "      <th>unit_price</th>\n",
       "      <th>total_sales</th>\n",
       "    </tr>\n",
       "  </thead>\n",
       "  <tbody>\n",
       "    <tr>\n",
       "      <th>count</th>\n",
       "      <td>495478.000000</td>\n",
       "      <td>495478.000000</td>\n",
       "      <td>495478.000000</td>\n",
       "    </tr>\n",
       "    <tr>\n",
       "      <th>mean</th>\n",
       "      <td>8.605486</td>\n",
       "      <td>4.532422</td>\n",
       "      <td>16.525065</td>\n",
       "    </tr>\n",
       "    <tr>\n",
       "      <th>std</th>\n",
       "      <td>227.588756</td>\n",
       "      <td>99.315438</td>\n",
       "      <td>394.839116</td>\n",
       "    </tr>\n",
       "    <tr>\n",
       "      <th>min</th>\n",
       "      <td>-80995.000000</td>\n",
       "      <td>-11062.060000</td>\n",
       "      <td>-168469.600000</td>\n",
       "    </tr>\n",
       "    <tr>\n",
       "      <th>25%</th>\n",
       "      <td>1.000000</td>\n",
       "      <td>1.250000</td>\n",
       "      <td>3.290000</td>\n",
       "    </tr>\n",
       "    <tr>\n",
       "      <th>50%</th>\n",
       "      <td>3.000000</td>\n",
       "      <td>2.100000</td>\n",
       "      <td>8.290000</td>\n",
       "    </tr>\n",
       "    <tr>\n",
       "      <th>75%</th>\n",
       "      <td>10.000000</td>\n",
       "      <td>4.130000</td>\n",
       "      <td>16.630000</td>\n",
       "    </tr>\n",
       "    <tr>\n",
       "      <th>max</th>\n",
       "      <td>80995.000000</td>\n",
       "      <td>38970.000000</td>\n",
       "      <td>168469.600000</td>\n",
       "    </tr>\n",
       "  </tbody>\n",
       "</table>\n",
       "</div>"
      ],
      "text/plain": [
       "            quantity     unit_price    total_sales\n",
       "count  495478.000000  495478.000000  495478.000000\n",
       "mean        8.605486       4.532422      16.525065\n",
       "std       227.588756      99.315438     394.839116\n",
       "min    -80995.000000  -11062.060000 -168469.600000\n",
       "25%         1.000000       1.250000       3.290000\n",
       "50%         3.000000       2.100000       8.290000\n",
       "75%        10.000000       4.130000      16.630000\n",
       "max     80995.000000   38970.000000  168469.600000"
      ]
     },
     "execution_count": 23,
     "metadata": {},
     "output_type": "execute_result"
    }
   ],
   "source": [
    "df.describe()"
   ]
  },
  {
   "cell_type": "code",
   "execution_count": 24,
   "id": "4fd97e30",
   "metadata": {
    "ExecuteTime": {
     "end_time": "2021-08-07T18:53:23.210764Z",
     "start_time": "2021-08-07T18:53:23.207609Z"
    }
   },
   "outputs": [],
   "source": [
    "\"\"\"\n",
    "Observation:\n",
    "\n",
    "1. We can see some -ve quantity values, these might be due to discount or\n",
    "item returns.\n",
    "\n",
    "2. But, here we are interested in life time value, and we choose only +ve values.\n",
    "\n",
    "\"\"\";"
   ]
  },
  {
   "cell_type": "code",
   "execution_count": 25,
   "id": "cbbaaee1",
   "metadata": {
    "ExecuteTime": {
     "end_time": "2021-08-07T18:53:23.244929Z",
     "start_time": "2021-08-07T18:53:23.215299Z"
    }
   },
   "outputs": [
    {
     "data": {
      "text/plain": [
       "9192"
      ]
     },
     "execution_count": 25,
     "metadata": {},
     "output_type": "execute_result"
    }
   ],
   "source": [
    "n_before = df.shape[0]\n",
    "df = df[df.quantity>0]\n",
    "n_after = df.shape[0]\n",
    "\n",
    "n_before-n_after"
   ]
  },
  {
   "cell_type": "code",
   "execution_count": 27,
   "id": "1ad05b95",
   "metadata": {
    "ExecuteTime": {
     "end_time": "2021-08-07T18:57:18.260721Z",
     "start_time": "2021-08-07T18:57:18.216693Z"
    }
   },
   "outputs": [
    {
     "data": {
      "text/plain": [
       "1163"
      ]
     },
     "execution_count": 27,
     "metadata": {},
     "output_type": "execute_result"
    }
   ],
   "source": [
    "n_before = df.shape[0]\n",
    "df = df[df.total_sales>0]\n",
    "n_after = df.shape[0]\n",
    "\n",
    "n_before-n_after"
   ]
  },
  {
   "cell_type": "code",
   "execution_count": null,
   "id": "674e9680",
   "metadata": {
    "ExecuteTime": {
     "end_time": "2021-08-07T18:53:23.487567Z",
     "start_time": "2021-08-07T18:53:19.538Z"
    }
   },
   "outputs": [],
   "source": [
    "df.describe()"
   ]
  },
  {
   "cell_type": "markdown",
   "id": "e4f63786",
   "metadata": {},
   "source": [
    "## missing values"
   ]
  },
  {
   "cell_type": "code",
   "execution_count": null,
   "id": "854c9cbe",
   "metadata": {
    "ExecuteTime": {
     "end_time": "2021-08-07T18:53:23.489967Z",
     "start_time": "2021-08-07T18:53:19.544Z"
    }
   },
   "outputs": [],
   "source": [
    "df.isna().sum()"
   ]
  },
  {
   "cell_type": "markdown",
   "id": "a8211bd4",
   "metadata": {},
   "source": [
    "## data description"
   ]
  },
  {
   "cell_type": "code",
   "execution_count": null,
   "id": "c00207b3",
   "metadata": {
    "ExecuteTime": {
     "end_time": "2021-08-07T18:53:23.492282Z",
     "start_time": "2021-08-07T18:53:19.551Z"
    }
   },
   "outputs": [],
   "source": [
    "df.head()"
   ]
  },
  {
   "cell_type": "code",
   "execution_count": null,
   "id": "e7ab3bd4",
   "metadata": {
    "ExecuteTime": {
     "end_time": "2021-08-07T18:53:23.493990Z",
     "start_time": "2021-08-07T18:53:19.568Z"
    }
   },
   "outputs": [],
   "source": [
    "df.agg({\n",
    "    'invoice_date':[min,max,sum,pd.Series.nunique],\n",
    "    'customer_id': pd.Series.nunique,\n",
    "    'quantity': sum,\n",
    "    'revenue': sum\n",
    "}).round(0).fillna('').replace(pd.NaT,'')"
   ]
  },
  {
   "cell_type": "code",
   "execution_count": null,
   "id": "15f0d0f8",
   "metadata": {
    "ExecuteTime": {
     "end_time": "2021-08-07T18:53:23.497835Z",
     "start_time": "2021-08-07T18:53:19.571Z"
    }
   },
   "outputs": [],
   "source": [
    "\"\"\"\n",
    "Observation:\n",
    "\n",
    "1. We have data from 2010 December 1 to 2011 Dec 9.\n",
    "\n",
    "We have 3921 unique customers.\n",
    "\n",
    "\"\"\";"
   ]
  },
  {
   "cell_type": "markdown",
   "id": "66988dda",
   "metadata": {},
   "source": [
    "# Script"
   ]
  },
  {
   "cell_type": "code",
   "execution_count": null,
   "id": "4cb4a545",
   "metadata": {
    "ExecuteTime": {
     "end_time": "2021-08-07T18:53:23.501858Z",
     "start_time": "2021-08-07T18:53:19.573Z"
    }
   },
   "outputs": [],
   "source": [
    "import numpy as np\n",
    "import pandas as pd\n",
    "\n",
    "ifile = 'data/raw/online_retail.parquet.gzip'\n",
    "\n",
    "df = pd.read_parquet(ifile)\n",
    "\n",
    "# choose only UK data\n",
    "df = df.query(\"Country == 'United Kingdom'\")\n",
    "\n",
    "# remove unwanted columns\n",
    "cols_drop = ['Country','Description','StockCode']\n",
    "df = df.drop(cols_drop,axis=1)\n",
    "\n",
    "# make snake_case columns\n",
    "df = df.rename(columns=lambda x: re.sub(r'(?!^)([A-Z]+)',r'_\\1',x))\n",
    "df.columns = df.columns.str.lower()\n",
    "\n",
    "# re-arrange columns\n",
    "cols = ['customer_id', 'invoice_no', 'invoice_date', 'quantity', 'unit_price']\n",
    "df = df[cols]\n",
    "\n",
    "# customer id must not be null\n",
    "df = df.dropna(how='any',subset=['customer_id'])\n",
    "df = df.query(\"customer_id != 'nan'\")\n",
    "\n",
    "# create new feature\n",
    "df['total_sales'] = df['quantity'] * df['unit_price']\n",
    "\n",
    "# filter only positive data\n",
    "df = df[df.quantity>0]\n",
    "df = df[df.total_sales>0]\n",
    "\n",
    "# write parquet format (3MB)\n",
    "df.to_parquet('data/processed/online_retail.parquet.gzip',compression='gzip')\n",
    "\n",
    "# write hdf5 (12MB)\n",
    "# df.to_hdf('data/processed/online_retail.h5', key='online_retail', mode='w',complevel=9)"
   ]
  },
  {
   "cell_type": "code",
   "execution_count": null,
   "id": "6cec7461",
   "metadata": {
    "ExecuteTime": {
     "end_time": "2021-08-07T18:53:23.505976Z",
     "start_time": "2021-08-07T18:53:19.576Z"
    }
   },
   "outputs": [],
   "source": [
    "df.dtypes"
   ]
  },
  {
   "cell_type": "code",
   "execution_count": null,
   "id": "1ba457f5",
   "metadata": {
    "ExecuteTime": {
     "end_time": "2021-08-07T18:53:23.509387Z",
     "start_time": "2021-08-07T18:53:19.591Z"
    }
   },
   "outputs": [],
   "source": [
    "df.query(\"customer_id == 'nan'\").shape"
   ]
  },
  {
   "cell_type": "markdown",
   "id": "2b69467c",
   "metadata": {},
   "source": [
    "# Time Taken"
   ]
  },
  {
   "cell_type": "code",
   "execution_count": null,
   "id": "4128cc11",
   "metadata": {
    "ExecuteTime": {
     "end_time": "2021-08-07T18:53:23.514519Z",
     "start_time": "2021-08-07T18:53:19.593Z"
    }
   },
   "outputs": [],
   "source": [
    "time_taken = time.time() - time_start_notebook\n",
    "h,m = divmod(time_taken,60*60)\n",
    "print('Time taken to run whole notebook: {:.0f} hr '\\\n",
    "      '{:.0f} min {:.0f} secs'.format(h, *divmod(m,60)))"
   ]
  }
 ],
 "metadata": {
  "kernelspec": {
   "display_name": "Python (dataSc)",
   "language": "python",
   "name": "datasc"
  },
  "language_info": {
   "codemirror_mode": {
    "name": "ipython",
    "version": 3
   },
   "file_extension": ".py",
   "mimetype": "text/x-python",
   "name": "python",
   "nbconvert_exporter": "python",
   "pygments_lexer": "ipython3",
   "version": "3.7.7"
  },
  "toc": {
   "base_numbering": 1,
   "nav_menu": {},
   "number_sections": true,
   "sideBar": true,
   "skip_h1_title": false,
   "title_cell": "Table of Contents",
   "title_sidebar": "Contents",
   "toc_cell": true,
   "toc_position": {},
   "toc_section_display": true,
   "toc_window_display": false
  }
 },
 "nbformat": 4,
 "nbformat_minor": 5
}
