{
 "cells": [
  {
   "cell_type": "markdown",
   "id": "0fe0623b",
   "metadata": {
    "toc": true
   },
   "source": [
    "<h1>Table of Contents<span class=\"tocSkip\"></span></h1>\n",
    "<div class=\"toc\"><ul class=\"toc-item\"><li><span><a href=\"#Description\" data-toc-modified-id=\"Description-1\"><span class=\"toc-item-num\">1&nbsp;&nbsp;</span>Description</a></span></li><li><span><a href=\"#Load-the-libraries\" data-toc-modified-id=\"Load-the-libraries-2\"><span class=\"toc-item-num\">2&nbsp;&nbsp;</span>Load the libraries</a></span></li><li><span><a href=\"#Read-the-clean-data\" data-toc-modified-id=\"Read-the-clean-data-3\"><span class=\"toc-item-num\">3&nbsp;&nbsp;</span>Read the clean data</a></span></li><li><span><a href=\"#Data-Processing\" data-toc-modified-id=\"Data-Processing-4\"><span class=\"toc-item-num\">4&nbsp;&nbsp;</span>Data Processing</a></span><ul class=\"toc-item\"><li><span><a href=\"#Create-datetime-features\" data-toc-modified-id=\"Create-datetime-features-4.1\"><span class=\"toc-item-num\">4.1&nbsp;&nbsp;</span>Create datetime features</a></span></li><li><span><a href=\"#Create-transaction-data\" data-toc-modified-id=\"Create-transaction-data-4.2\"><span class=\"toc-item-num\">4.2&nbsp;&nbsp;</span>Create transaction data</a></span></li><li><span><a href=\"#Get-RFM-data\" data-toc-modified-id=\"Get-RFM-data-4.3\"><span class=\"toc-item-num\">4.3&nbsp;&nbsp;</span>Get RFM data</a></span></li></ul></li><li><span><a href=\"#Modelling-01:-Statistical-method-BG/NBD-+-GammaGamma\" data-toc-modified-id=\"Modelling-01:-Statistical-method-BG/NBD-+-GammaGamma-5\"><span class=\"toc-item-num\">5&nbsp;&nbsp;</span>Modelling 01: Statistical method BG/NBD + GammaGamma</a></span><ul class=\"toc-item\"><li><span><a href=\"#Prediction\" data-toc-modified-id=\"Prediction-5.1\"><span class=\"toc-item-num\">5.1&nbsp;&nbsp;</span>Prediction</a></span></li><li><span><a href=\"#Evaluation\" data-toc-modified-id=\"Evaluation-5.2\"><span class=\"toc-item-num\">5.2&nbsp;&nbsp;</span>Evaluation</a></span></li></ul></li><li><span><a href=\"#Modelling-02:-ML-Approach\" data-toc-modified-id=\"Modelling-02:-ML-Approach-6\"><span class=\"toc-item-num\">6&nbsp;&nbsp;</span>Modelling 02: ML Approach</a></span><ul class=\"toc-item\"><li><span><a href=\"#Feature-Engineering\" data-toc-modified-id=\"Feature-Engineering-6.1\"><span class=\"toc-item-num\">6.1&nbsp;&nbsp;</span>Feature Engineering</a></span></li><li><span><a href=\"#Modelling-DNN\" data-toc-modified-id=\"Modelling-DNN-6.2\"><span class=\"toc-item-num\">6.2&nbsp;&nbsp;</span>Modelling DNN</a></span></li><li><span><a href=\"#Modelling-XGBoost\" data-toc-modified-id=\"Modelling-XGBoost-6.3\"><span class=\"toc-item-num\">6.3&nbsp;&nbsp;</span>Modelling XGBoost</a></span></li></ul></li><li><span><a href=\"#Time-Taken\" data-toc-modified-id=\"Time-Taken-7\"><span class=\"toc-item-num\">7&nbsp;&nbsp;</span>Time Taken</a></span></li></ul></div>"
   ]
  },
  {
   "cell_type": "markdown",
   "id": "f9ccdbd0",
   "metadata": {},
   "source": [
    "# Description\n",
    "\n",
    "- Data source: [Online Retail Datset from UCI](https://archive.ics.uci.edu/ml/datasets/online+retail)\n",
    "\n",
    "This is a transnational data set which contains all the transactions occurring between 01/12/2010 and 09/12/2011 for a UK-based and registered non-store online retail.The company mainly sells unique all-occasion gifts. Many customers of the company are wholesalers.\n",
    "\n",
    "**References** \n",
    "- [Deep Neural Networks for Customer Lifetime Value](https://antonsruberts.github.io/DNN-for-CLV/)\n",
    "- [tensorflow core: Overfit and underfit](https://www.tensorflow.org/tutorials/keras/overfit_and_underfit)"
   ]
  },
  {
   "cell_type": "markdown",
   "id": "f67f75c2",
   "metadata": {
    "ExecuteTime": {
     "end_time": "2021-08-06T02:41:31.101708Z",
     "start_time": "2021-08-06T02:41:31.094484Z"
    }
   },
   "source": [
    "<table style=\"width:100%\">\n",
    "    \n",
    "<tr>\n",
    "<th>Feature</th>\n",
    "<th>Description</th> \n",
    "</tr>\n",
    "<tr>\n",
    "  <td>InvoiceNo</td>\n",
    "  <td> Invoice number. Nominal, a 6-digit integral number uniquely assigned to each transaction. If this code starts with letter 'c', it indicates a cancellation. </td>\n",
    "</tr>\n",
    "<tr>\n",
    "  <td>StockCode</td>\n",
    "  <td> Product (item) code. Nominal, a 5-digit integral number uniquely assigned to each distinct product. </td>\n",
    "</tr>\n",
    "<tr>\n",
    "  <td>Description</td>\n",
    "  <td> Product (item) name. Nominal. </td>\n",
    "</tr>\n",
    "<tr>\n",
    "  <td>Quantity</td>\n",
    "  <td> The quantities of each product (item) per transaction. Numeric. </td>\n",
    "</tr>\n",
    "<tr>\n",
    "  <td>InvoiceDate</td>\n",
    "  <td> Invice Date and time. Numeric, the day and time when each transaction was generated. </td>\n",
    "</tr>\n",
    "<tr>\n",
    "  <td>UnitPrice</td>\n",
    "  <td> Unit price. Numeric, Product price per unit in sterling. </td>\n",
    "</tr>\n",
    "<tr>\n",
    "  <td>CustomerID</td>\n",
    "  <td> Customer number. Nominal, a 5-digit integral number uniquely assigned to each customer. </td>\n",
    "</tr>\n",
    "<tr>\n",
    "  <td>Country</td>\n",
    "  <td> Country name. Nominal, the name of the country where each customer resides.</td>\n",
    "</tr></table>"
   ]
  },
  {
   "cell_type": "markdown",
   "id": "02e13f83",
   "metadata": {},
   "source": [
    "![](data/raw/head.png)\n",
    "![](data/raw/mid.png)\n",
    "![](data/raw/tail.png)"
   ]
  },
  {
   "cell_type": "markdown",
   "id": "ce89bb02",
   "metadata": {},
   "source": [
    "# Load the libraries"
   ]
  },
  {
   "cell_type": "code",
   "execution_count": 33,
   "id": "db4de58e",
   "metadata": {
    "ExecuteTime": {
     "end_time": "2021-08-07T20:47:31.097254Z",
     "start_time": "2021-08-07T20:47:31.051699Z"
    }
   },
   "outputs": [
    {
     "name": "stdout",
     "output_type": "stream",
     "text": [
      "The watermark extension is already loaded. To reload it, use:\n",
      "  %reload_ext watermark\n",
      "numpy          : 1.21.1\n",
      "lifetimes      : 0.11.3\n",
      "xgboost        : 1.4.2\n",
      "sklearn        : 0.24.2\n",
      "pandas         : 1.2.5\n",
      "autopep8       : 1.5.7\n",
      "tensorflow_docs: 0.0.0ab165fda010d80d82548b3797c1eaaf5803a00e8-\n",
      "sys            : 3.9.5 (default, May 18 2021, 12:31:01) \n",
      "[Clang 10.0.0 ]\n",
      "tensorflow     : 2.5.0\n",
      "re             : 2.2.1\n",
      "json           : 2.0.9\n",
      "seaborn        : 0.11.1\n",
      "bhishan        : 0.6\n",
      "matplotlib     : 3.3.4\n",
      "\n"
     ]
    }
   ],
   "source": [
    "import numpy as np\n",
    "import pandas as pd\n",
    "import os,sys,time\n",
    "import re\n",
    "from datetime import datetime\n",
    "\n",
    "time_start_notebook = time.time()\n",
    "\n",
    "# visualization\n",
    "import matplotlib.pyplot as plt\n",
    "import seaborn as sns\n",
    "sns.set()\n",
    "\n",
    "# settings\n",
    "SEED = 100\n",
    "pd.set_option('max_columns',100)\n",
    "pd.set_option('max_colwidth',200)\n",
    "\n",
    "# Statistical LTV\n",
    "import lifetimes\n",
    "from lifetimes import BetaGeoFitter, GammaGammaFitter\n",
    "from lifetimes.utils import calibration_and_holdout_data, summary_data_from_transaction_data\n",
    "\n",
    "# ML Approach to LTV\n",
    "import tensorflow as tf\n",
    "from tensorflow import keras\n",
    "from tensorflow.keras import layers\n",
    "\n",
    "import tensorflow_docs as tfdocs\n",
    "import tensorflow_docs.modeling\n",
    "import tensorflow_docs.plots\n",
    "\n",
    "import xgboost\n",
    "\n",
    "# Evaluation\n",
    "from sklearn.metrics import r2_score\n",
    "from sklearn.metrics import mean_absolute_error\n",
    "\n",
    "%matplotlib inline\n",
    "%load_ext watermark\n",
    "%watermark -iv"
   ]
  },
  {
   "cell_type": "code",
   "execution_count": 2,
   "id": "80767991",
   "metadata": {
    "ExecuteTime": {
     "end_time": "2021-08-07T20:47:20.116325Z",
     "start_time": "2021-08-07T20:47:18.963291Z"
    }
   },
   "outputs": [],
   "source": [
    "# my local library\n",
    "import sys\n",
    "sys.path.append(\"/Users/poudel/Dropbox/a00_Bhishan_Modules/bp/\")\n",
    "sys.path.append(\"/Users/poudel/Dropbox/a00_Bhishan_Modules/bp/bhishan\")\n",
    "from bhishan import bp"
   ]
  },
  {
   "cell_type": "markdown",
   "id": "a74987f2",
   "metadata": {
    "ExecuteTime": {
     "end_time": "2021-08-07T15:18:56.328379Z",
     "start_time": "2021-08-07T15:18:56.187287Z"
    }
   },
   "source": [
    "# Read the clean data"
   ]
  },
  {
   "cell_type": "code",
   "execution_count": 3,
   "id": "ad9f2fe7",
   "metadata": {
    "ExecuteTime": {
     "end_time": "2021-08-07T20:47:20.338784Z",
     "start_time": "2021-08-07T20:47:20.118079Z"
    }
   },
   "outputs": [
    {
     "name": "stdout",
     "output_type": "stream",
     "text": [
      "(354321, 6)\n"
     ]
    },
    {
     "data": {
      "text/html": [
       "<div>\n",
       "<style scoped>\n",
       "    .dataframe tbody tr th:only-of-type {\n",
       "        vertical-align: middle;\n",
       "    }\n",
       "\n",
       "    .dataframe tbody tr th {\n",
       "        vertical-align: top;\n",
       "    }\n",
       "\n",
       "    .dataframe thead th {\n",
       "        text-align: right;\n",
       "    }\n",
       "</style>\n",
       "<table border=\"1\" class=\"dataframe\">\n",
       "  <thead>\n",
       "    <tr style=\"text-align: right;\">\n",
       "      <th></th>\n",
       "      <th>customer_id</th>\n",
       "      <th>invoice_no</th>\n",
       "      <th>invoice_date</th>\n",
       "      <th>quantity</th>\n",
       "      <th>unit_price</th>\n",
       "      <th>total_sales</th>\n",
       "    </tr>\n",
       "  </thead>\n",
       "  <tbody>\n",
       "    <tr>\n",
       "      <th>0</th>\n",
       "      <td>17850.0</td>\n",
       "      <td>536365</td>\n",
       "      <td>2010-12-01 08:26:00</td>\n",
       "      <td>6</td>\n",
       "      <td>2.55</td>\n",
       "      <td>15.30</td>\n",
       "    </tr>\n",
       "    <tr>\n",
       "      <th>1</th>\n",
       "      <td>17850.0</td>\n",
       "      <td>536365</td>\n",
       "      <td>2010-12-01 08:26:00</td>\n",
       "      <td>6</td>\n",
       "      <td>3.39</td>\n",
       "      <td>20.34</td>\n",
       "    </tr>\n",
       "    <tr>\n",
       "      <th>541892</th>\n",
       "      <td>13113.0</td>\n",
       "      <td>581586</td>\n",
       "      <td>2011-12-09 12:49:00</td>\n",
       "      <td>24</td>\n",
       "      <td>8.95</td>\n",
       "      <td>214.80</td>\n",
       "    </tr>\n",
       "    <tr>\n",
       "      <th>541893</th>\n",
       "      <td>13113.0</td>\n",
       "      <td>581586</td>\n",
       "      <td>2011-12-09 12:49:00</td>\n",
       "      <td>10</td>\n",
       "      <td>7.08</td>\n",
       "      <td>70.80</td>\n",
       "    </tr>\n",
       "  </tbody>\n",
       "</table>\n",
       "</div>"
      ],
      "text/plain": [
       "       customer_id invoice_no        invoice_date  quantity  unit_price  \\\n",
       "0          17850.0     536365 2010-12-01 08:26:00         6        2.55   \n",
       "1          17850.0     536365 2010-12-01 08:26:00         6        3.39   \n",
       "541892     13113.0     581586 2011-12-09 12:49:00        24        8.95   \n",
       "541893     13113.0     581586 2011-12-09 12:49:00        10        7.08   \n",
       "\n",
       "        total_sales  \n",
       "0             15.30  \n",
       "1             20.34  \n",
       "541892       214.80  \n",
       "541893        70.80  "
      ]
     },
     "execution_count": 3,
     "metadata": {},
     "output_type": "execute_result"
    }
   ],
   "source": [
    "ifile = \"data/processed/online_retail.parquet.gzip\"\n",
    "\n",
    "df = pd.read_parquet(ifile)\n",
    "\n",
    "print(df.shape)\n",
    "df.head(2).append(df.tail(2))"
   ]
  },
  {
   "cell_type": "markdown",
   "id": "e78fa025",
   "metadata": {},
   "source": [
    "# Data Processing"
   ]
  },
  {
   "cell_type": "markdown",
   "id": "6992c618",
   "metadata": {},
   "source": [
    "## Create datetime features"
   ]
  },
  {
   "cell_type": "code",
   "execution_count": 4,
   "id": "6fe035ac",
   "metadata": {
    "ExecuteTime": {
     "end_time": "2021-08-07T20:47:23.351456Z",
     "start_time": "2021-08-07T20:47:20.343763Z"
    }
   },
   "outputs": [],
   "source": [
    "df['date'] = pd.to_datetime(df.invoice_date.dt.date)\n",
    "df['time'] = df.invoice_date.dt.time\n",
    "df['hour'] = df['time'].apply(lambda x: x.hour)\n",
    "df['weekend'] = df['date'].apply(lambda x: x.weekday() in [5, 6])\n",
    "df['dayofweek'] = df['date'].apply(lambda x: x.dayofweek)"
   ]
  },
  {
   "cell_type": "code",
   "execution_count": 5,
   "id": "ebd2d613",
   "metadata": {
    "ExecuteTime": {
     "end_time": "2021-08-07T20:47:23.622228Z",
     "start_time": "2021-08-07T20:47:23.356839Z"
    }
   },
   "outputs": [
    {
     "data": {
      "text/plain": [
       "<AxesSubplot:xlabel='date'>"
      ]
     },
     "execution_count": 5,
     "metadata": {},
     "output_type": "execute_result"
    },
    {
     "data": {
      "image/png": "[encoded data removed]",
      "text/plain": [
       "<Figure size 432x288 with 1 Axes>"
      ]
     },
     "metadata": {},
     "output_type": "display_data"
    }
   ],
   "source": [
    "df.groupby('date')['quantity'].sum().plot()"
   ]
  },
  {
   "cell_type": "markdown",
   "id": "af8b29ea",
   "metadata": {},
   "source": [
    "## Create transaction data"
   ]
  },
  {
   "cell_type": "code",
   "execution_count": 6,
   "id": "364f4463",
   "metadata": {
    "ExecuteTime": {
     "end_time": "2021-08-07T20:47:23.731678Z",
     "start_time": "2021-08-07T20:47:23.624345Z"
    }
   },
   "outputs": [
    {
     "data": {
      "text/html": [
       "<div>\n",
       "<style scoped>\n",
       "    .dataframe tbody tr th:only-of-type {\n",
       "        vertical-align: middle;\n",
       "    }\n",
       "\n",
       "    .dataframe tbody tr th {\n",
       "        vertical-align: top;\n",
       "    }\n",
       "\n",
       "    .dataframe thead th {\n",
       "        text-align: right;\n",
       "    }\n",
       "</style>\n",
       "<table border=\"1\" class=\"dataframe\">\n",
       "  <thead>\n",
       "    <tr style=\"text-align: right;\">\n",
       "      <th></th>\n",
       "      <th>customer_id</th>\n",
       "      <th>date</th>\n",
       "    </tr>\n",
       "    <tr>\n",
       "      <th>invoice_no</th>\n",
       "      <th></th>\n",
       "      <th></th>\n",
       "    </tr>\n",
       "  </thead>\n",
       "  <tbody>\n",
       "    <tr>\n",
       "      <th>536365</th>\n",
       "      <td>17850.0</td>\n",
       "      <td>2010-12-01</td>\n",
       "    </tr>\n",
       "    <tr>\n",
       "      <th>536366</th>\n",
       "      <td>17850.0</td>\n",
       "      <td>2010-12-01</td>\n",
       "    </tr>\n",
       "    <tr>\n",
       "      <th>536367</th>\n",
       "      <td>13047.0</td>\n",
       "      <td>2010-12-01</td>\n",
       "    </tr>\n",
       "    <tr>\n",
       "      <th>536368</th>\n",
       "      <td>13047.0</td>\n",
       "      <td>2010-12-01</td>\n",
       "    </tr>\n",
       "    <tr>\n",
       "      <th>536369</th>\n",
       "      <td>13047.0</td>\n",
       "      <td>2010-12-01</td>\n",
       "    </tr>\n",
       "  </tbody>\n",
       "</table>\n",
       "</div>"
      ],
      "text/plain": [
       "           customer_id       date\n",
       "invoice_no                       \n",
       "536365         17850.0 2010-12-01\n",
       "536366         17850.0 2010-12-01\n",
       "536367         13047.0 2010-12-01\n",
       "536368         13047.0 2010-12-01\n",
       "536369         13047.0 2010-12-01"
      ]
     },
     "execution_count": 6,
     "metadata": {},
     "output_type": "execute_result"
    }
   ],
   "source": [
    "df_lookup = df[['customer_id', 'invoice_no', 'date']]\n",
    "df_lookup = df_lookup.drop_duplicates()\n",
    "df_lookup = df_lookup.set_index('invoice_no')\n",
    "\n",
    "df_lookup.head()"
   ]
  },
  {
   "cell_type": "code",
   "execution_count": 7,
   "id": "0ba3b48c",
   "metadata": {
    "ExecuteTime": {
     "end_time": "2021-08-07T20:47:23.806875Z",
     "start_time": "2021-08-07T20:47:23.733910Z"
    }
   },
   "outputs": [
    {
     "data": {
      "text/html": [
       "<div>\n",
       "<style scoped>\n",
       "    .dataframe tbody tr th:only-of-type {\n",
       "        vertical-align: middle;\n",
       "    }\n",
       "\n",
       "    .dataframe tbody tr th {\n",
       "        vertical-align: top;\n",
       "    }\n",
       "\n",
       "    .dataframe thead th {\n",
       "        text-align: right;\n",
       "    }\n",
       "</style>\n",
       "<table border=\"1\" class=\"dataframe\">\n",
       "  <thead>\n",
       "    <tr style=\"text-align: right;\">\n",
       "      <th></th>\n",
       "      <th>total_sales</th>\n",
       "    </tr>\n",
       "    <tr>\n",
       "      <th>invoice_no</th>\n",
       "      <th></th>\n",
       "    </tr>\n",
       "  </thead>\n",
       "  <tbody>\n",
       "    <tr>\n",
       "      <th>536365</th>\n",
       "      <td>139.12</td>\n",
       "    </tr>\n",
       "    <tr>\n",
       "      <th>536366</th>\n",
       "      <td>22.20</td>\n",
       "    </tr>\n",
       "    <tr>\n",
       "      <th>536367</th>\n",
       "      <td>278.73</td>\n",
       "    </tr>\n",
       "    <tr>\n",
       "      <th>536368</th>\n",
       "      <td>70.05</td>\n",
       "    </tr>\n",
       "    <tr>\n",
       "      <th>536369</th>\n",
       "      <td>17.85</td>\n",
       "    </tr>\n",
       "  </tbody>\n",
       "</table>\n",
       "</div>"
      ],
      "text/plain": [
       "            total_sales\n",
       "invoice_no             \n",
       "536365           139.12\n",
       "536366            22.20\n",
       "536367           278.73\n",
       "536368            70.05\n",
       "536369            17.85"
      ]
     },
     "execution_count": 7,
     "metadata": {},
     "output_type": "execute_result"
    }
   ],
   "source": [
    "df_invoice_sales = df.groupby('invoice_no')[['total_sales']].sum()\n",
    "df_invoice_sales.head()"
   ]
  },
  {
   "cell_type": "code",
   "execution_count": 8,
   "id": "eb81b026",
   "metadata": {
    "ExecuteTime": {
     "end_time": "2021-08-07T20:47:23.830402Z",
     "start_time": "2021-08-07T20:47:23.809193Z"
    }
   },
   "outputs": [
    {
     "data": {
      "text/html": [
       "<div>\n",
       "<style scoped>\n",
       "    .dataframe tbody tr th:only-of-type {\n",
       "        vertical-align: middle;\n",
       "    }\n",
       "\n",
       "    .dataframe tbody tr th {\n",
       "        vertical-align: top;\n",
       "    }\n",
       "\n",
       "    .dataframe thead th {\n",
       "        text-align: right;\n",
       "    }\n",
       "</style>\n",
       "<table border=\"1\" class=\"dataframe\">\n",
       "  <thead>\n",
       "    <tr style=\"text-align: right;\">\n",
       "      <th></th>\n",
       "      <th>customer_id</th>\n",
       "      <th>date</th>\n",
       "      <th>total_sales</th>\n",
       "    </tr>\n",
       "    <tr>\n",
       "      <th>invoice_no</th>\n",
       "      <th></th>\n",
       "      <th></th>\n",
       "      <th></th>\n",
       "    </tr>\n",
       "  </thead>\n",
       "  <tbody>\n",
       "    <tr>\n",
       "      <th>536365</th>\n",
       "      <td>17850.0</td>\n",
       "      <td>2010-12-01</td>\n",
       "      <td>139.12</td>\n",
       "    </tr>\n",
       "    <tr>\n",
       "      <th>536366</th>\n",
       "      <td>17850.0</td>\n",
       "      <td>2010-12-01</td>\n",
       "      <td>22.20</td>\n",
       "    </tr>\n",
       "    <tr>\n",
       "      <th>536367</th>\n",
       "      <td>13047.0</td>\n",
       "      <td>2010-12-01</td>\n",
       "      <td>278.73</td>\n",
       "    </tr>\n",
       "    <tr>\n",
       "      <th>536368</th>\n",
       "      <td>13047.0</td>\n",
       "      <td>2010-12-01</td>\n",
       "      <td>70.05</td>\n",
       "    </tr>\n",
       "    <tr>\n",
       "      <th>536369</th>\n",
       "      <td>13047.0</td>\n",
       "      <td>2010-12-01</td>\n",
       "      <td>17.85</td>\n",
       "    </tr>\n",
       "  </tbody>\n",
       "</table>\n",
       "</div>"
      ],
      "text/plain": [
       "           customer_id       date  total_sales\n",
       "invoice_no                                    \n",
       "536365         17850.0 2010-12-01       139.12\n",
       "536366         17850.0 2010-12-01        22.20\n",
       "536367         13047.0 2010-12-01       278.73\n",
       "536368         13047.0 2010-12-01        70.05\n",
       "536369         13047.0 2010-12-01        17.85"
      ]
     },
     "execution_count": 8,
     "metadata": {},
     "output_type": "execute_result"
    }
   ],
   "source": [
    "df_tran = df_lookup.join(df_invoice_sales)\n",
    "df_tran.head()"
   ]
  },
  {
   "cell_type": "markdown",
   "id": "bc47da5e",
   "metadata": {},
   "source": [
    "## Get RFM data"
   ]
  },
  {
   "cell_type": "code",
   "execution_count": 9,
   "id": "e1036086",
   "metadata": {
    "ExecuteTime": {
     "end_time": "2021-08-07T20:47:23.838887Z",
     "start_time": "2021-08-07T20:47:23.834868Z"
    }
   },
   "outputs": [],
   "source": [
    "from lifetimes.utils import calibration_and_holdout_data"
   ]
  },
  {
   "cell_type": "code",
   "execution_count": 10,
   "id": "6c53d1d9",
   "metadata": {
    "ExecuteTime": {
     "end_time": "2021-08-07T20:47:24.503413Z",
     "start_time": "2021-08-07T20:47:23.841511Z"
    }
   },
   "outputs": [
    {
     "data": {
      "text/html": [
       "<div>\n",
       "<style scoped>\n",
       "    .dataframe tbody tr th:only-of-type {\n",
       "        vertical-align: middle;\n",
       "    }\n",
       "\n",
       "    .dataframe tbody tr th {\n",
       "        vertical-align: top;\n",
       "    }\n",
       "\n",
       "    .dataframe thead th {\n",
       "        text-align: right;\n",
       "    }\n",
       "</style>\n",
       "<table border=\"1\" class=\"dataframe\">\n",
       "  <thead>\n",
       "    <tr style=\"text-align: right;\">\n",
       "      <th></th>\n",
       "      <th>frequency_cal</th>\n",
       "      <th>recency_cal</th>\n",
       "      <th>T_cal</th>\n",
       "      <th>monetary_value_cal</th>\n",
       "      <th>frequency_holdout</th>\n",
       "      <th>monetary_value_holdout</th>\n",
       "      <th>duration_holdout</th>\n",
       "    </tr>\n",
       "    <tr>\n",
       "      <th>customer_id</th>\n",
       "      <th></th>\n",
       "      <th></th>\n",
       "      <th></th>\n",
       "      <th></th>\n",
       "      <th></th>\n",
       "      <th></th>\n",
       "      <th></th>\n",
       "    </tr>\n",
       "  </thead>\n",
       "  <tbody>\n",
       "    <tr>\n",
       "      <th>12747.0</th>\n",
       "      <td>7.0</td>\n",
       "      <td>260.0</td>\n",
       "      <td>279.0</td>\n",
       "      <td>344.405714</td>\n",
       "      <td>3.0</td>\n",
       "      <td>475.536667</td>\n",
       "      <td>90.0</td>\n",
       "    </tr>\n",
       "    <tr>\n",
       "      <th>12748.0</th>\n",
       "      <td>73.0</td>\n",
       "      <td>282.0</td>\n",
       "      <td>283.0</td>\n",
       "      <td>193.189041</td>\n",
       "      <td>39.0</td>\n",
       "      <td>254.701039</td>\n",
       "      <td>90.0</td>\n",
       "    </tr>\n",
       "  </tbody>\n",
       "</table>\n",
       "</div>"
      ],
      "text/plain": [
       "             frequency_cal  recency_cal  T_cal  monetary_value_cal  \\\n",
       "customer_id                                                          \n",
       "12747.0                7.0        260.0  279.0          344.405714   \n",
       "12748.0               73.0        282.0  283.0          193.189041   \n",
       "\n",
       "             frequency_holdout  monetary_value_holdout  duration_holdout  \n",
       "customer_id                                                               \n",
       "12747.0                    3.0              475.536667              90.0  \n",
       "12748.0                   39.0              254.701039              90.0  "
      ]
     },
     "execution_count": 10,
     "metadata": {},
     "output_type": "execute_result"
    }
   ],
   "source": [
    "df_rfm = calibration_and_holdout_data(\n",
    "    df_tran,'customer_id','date',\n",
    "    calibration_period_end='2011-09-10',\n",
    "    monetary_value_col='total_sales'\n",
    ")   \n",
    "\n",
    "# select only +ve monetary for gamma-gamma model\n",
    "df_rfm = df_rfm.loc[df_rfm['monetary_value_cal'] > 0, :]\n",
    "\n",
    "df_rfm.head(2)"
   ]
  },
  {
   "cell_type": "markdown",
   "id": "e9e5d238",
   "metadata": {
    "ExecuteTime": {
     "end_time": "2021-08-07T19:45:18.074775Z",
     "start_time": "2021-08-07T19:45:18.060819Z"
    }
   },
   "source": [
    "# Modelling 01: Statistical method BG/NBD + GammaGamma"
   ]
  },
  {
   "cell_type": "code",
   "execution_count": 11,
   "id": "a2526645",
   "metadata": {
    "ExecuteTime": {
     "end_time": "2021-08-07T20:47:24.511228Z",
     "start_time": "2021-08-07T20:47:24.507654Z"
    }
   },
   "outputs": [],
   "source": [
    "from lifetimes import BetaGeoFitter"
   ]
  },
  {
   "cell_type": "code",
   "execution_count": 12,
   "id": "94daa636",
   "metadata": {
    "ExecuteTime": {
     "end_time": "2021-08-07T20:47:24.658244Z",
     "start_time": "2021-08-07T20:47:24.517541Z"
    }
   },
   "outputs": [
    {
     "data": {
      "text/html": [
       "<div>\n",
       "<style scoped>\n",
       "    .dataframe tbody tr th:only-of-type {\n",
       "        vertical-align: middle;\n",
       "    }\n",
       "\n",
       "    .dataframe tbody tr th {\n",
       "        vertical-align: top;\n",
       "    }\n",
       "\n",
       "    .dataframe thead th {\n",
       "        text-align: right;\n",
       "    }\n",
       "</style>\n",
       "<table border=\"1\" class=\"dataframe\">\n",
       "  <thead>\n",
       "    <tr style=\"text-align: right;\">\n",
       "      <th></th>\n",
       "      <th>coef</th>\n",
       "      <th>se(coef)</th>\n",
       "      <th>lower 95% bound</th>\n",
       "      <th>upper 95% bound</th>\n",
       "    </tr>\n",
       "  </thead>\n",
       "  <tbody>\n",
       "    <tr>\n",
       "      <th>r</th>\n",
       "      <td>1.001046</td>\n",
       "      <td>0.028732</td>\n",
       "      <td>0.944731</td>\n",
       "      <td>1.057361</td>\n",
       "    </tr>\n",
       "    <tr>\n",
       "      <th>alpha</th>\n",
       "      <td>53.749212</td>\n",
       "      <td>2.160589</td>\n",
       "      <td>49.514458</td>\n",
       "      <td>57.983966</td>\n",
       "    </tr>\n",
       "    <tr>\n",
       "      <th>a</th>\n",
       "      <td>0.005329</td>\n",
       "      <td>0.003397</td>\n",
       "      <td>-0.001329</td>\n",
       "      <td>0.011986</td>\n",
       "    </tr>\n",
       "    <tr>\n",
       "      <th>b</th>\n",
       "      <td>0.075781</td>\n",
       "      <td>0.043000</td>\n",
       "      <td>-0.008500</td>\n",
       "      <td>0.160062</td>\n",
       "    </tr>\n",
       "  </tbody>\n",
       "</table>\n",
       "</div>"
      ],
      "text/plain": [
       "            coef  se(coef)  lower 95% bound  upper 95% bound\n",
       "r       1.001046  0.028732         0.944731         1.057361\n",
       "alpha  53.749212  2.160589        49.514458        57.983966\n",
       "a       0.005329  0.003397        -0.001329         0.011986\n",
       "b       0.075781  0.043000        -0.008500         0.160062"
      ]
     },
     "execution_count": 12,
     "metadata": {},
     "output_type": "execute_result"
    }
   ],
   "source": [
    "bgf = BetaGeoFitter(penalizer_coef=0.1)\n",
    "bgf.fit(df_rfm['frequency_cal'],\n",
    "        df_rfm['recency_cal'],\n",
    "        df_rfm['T_cal'])\n",
    "\n",
    "bgf.summary"
   ]
  },
  {
   "cell_type": "code",
   "execution_count": 13,
   "id": "dbcd76d8",
   "metadata": {
    "ExecuteTime": {
     "end_time": "2021-08-07T20:47:24.671920Z",
     "start_time": "2021-08-07T20:47:24.666662Z"
    }
   },
   "outputs": [],
   "source": [
    "# To fit Gamma-Gamma model, we first need to make sure that\n",
    "# the monetary value and frequency are not correlated\n",
    "# as this is one of the basi assumptions of the model."
   ]
  },
  {
   "cell_type": "code",
   "execution_count": 14,
   "id": "1caa1bfa",
   "metadata": {
    "ExecuteTime": {
     "end_time": "2021-08-07T20:47:24.696313Z",
     "start_time": "2021-08-07T20:47:24.677420Z"
    }
   },
   "outputs": [
    {
     "data": {
      "text/html": [
       "<div>\n",
       "<style scoped>\n",
       "    .dataframe tbody tr th:only-of-type {\n",
       "        vertical-align: middle;\n",
       "    }\n",
       "\n",
       "    .dataframe tbody tr th {\n",
       "        vertical-align: top;\n",
       "    }\n",
       "\n",
       "    .dataframe thead th {\n",
       "        text-align: right;\n",
       "    }\n",
       "</style>\n",
       "<table border=\"1\" class=\"dataframe\">\n",
       "  <thead>\n",
       "    <tr style=\"text-align: right;\">\n",
       "      <th></th>\n",
       "      <th>monetary_value_cal</th>\n",
       "      <th>frequency_cal</th>\n",
       "    </tr>\n",
       "  </thead>\n",
       "  <tbody>\n",
       "    <tr>\n",
       "      <th>monetary_value_cal</th>\n",
       "      <td>1.000000</td>\n",
       "      <td>0.078159</td>\n",
       "    </tr>\n",
       "    <tr>\n",
       "      <th>frequency_cal</th>\n",
       "      <td>0.078159</td>\n",
       "      <td>1.000000</td>\n",
       "    </tr>\n",
       "  </tbody>\n",
       "</table>\n",
       "</div>"
      ],
      "text/plain": [
       "                    monetary_value_cal  frequency_cal\n",
       "monetary_value_cal            1.000000       0.078159\n",
       "frequency_cal                 0.078159       1.000000"
      ]
     },
     "execution_count": 14,
     "metadata": {},
     "output_type": "execute_result"
    }
   ],
   "source": [
    "df_rfm[['monetary_value_cal', 'frequency_cal']].corr()"
   ]
  },
  {
   "cell_type": "code",
   "execution_count": 15,
   "id": "a2898b55",
   "metadata": {
    "ExecuteTime": {
     "end_time": "2021-08-07T20:47:24.826143Z",
     "start_time": "2021-08-07T20:47:24.715956Z"
    }
   },
   "outputs": [
    {
     "data": {
      "text/html": [
       "<div>\n",
       "<style scoped>\n",
       "    .dataframe tbody tr th:only-of-type {\n",
       "        vertical-align: middle;\n",
       "    }\n",
       "\n",
       "    .dataframe tbody tr th {\n",
       "        vertical-align: top;\n",
       "    }\n",
       "\n",
       "    .dataframe thead th {\n",
       "        text-align: right;\n",
       "    }\n",
       "</style>\n",
       "<table border=\"1\" class=\"dataframe\">\n",
       "  <thead>\n",
       "    <tr style=\"text-align: right;\">\n",
       "      <th></th>\n",
       "      <th>coef</th>\n",
       "      <th>se(coef)</th>\n",
       "      <th>lower 95% bound</th>\n",
       "      <th>upper 95% bound</th>\n",
       "    </tr>\n",
       "  </thead>\n",
       "  <tbody>\n",
       "    <tr>\n",
       "      <th>p</th>\n",
       "      <td>2.301668</td>\n",
       "      <td>0.150103</td>\n",
       "      <td>2.007466</td>\n",
       "      <td>2.595871</td>\n",
       "    </tr>\n",
       "    <tr>\n",
       "      <th>q</th>\n",
       "      <td>3.716938</td>\n",
       "      <td>0.194718</td>\n",
       "      <td>3.335291</td>\n",
       "      <td>4.098585</td>\n",
       "    </tr>\n",
       "    <tr>\n",
       "      <th>v</th>\n",
       "      <td>453.716003</td>\n",
       "      <td>49.860609</td>\n",
       "      <td>355.989209</td>\n",
       "      <td>551.442798</td>\n",
       "    </tr>\n",
       "  </tbody>\n",
       "</table>\n",
       "</div>"
      ],
      "text/plain": [
       "         coef   se(coef)  lower 95% bound  upper 95% bound\n",
       "p    2.301668   0.150103         2.007466         2.595871\n",
       "q    3.716938   0.194718         3.335291         4.098585\n",
       "v  453.716003  49.860609       355.989209       551.442798"
      ]
     },
     "execution_count": 15,
     "metadata": {},
     "output_type": "execute_result"
    }
   ],
   "source": [
    "ggf = GammaGammaFitter(penalizer_coef = 0)\n",
    "ggf.fit(df_rfm['frequency_cal'],\n",
    "        df_rfm['monetary_value_cal']);\n",
    "\n",
    "ggf.summary"
   ]
  },
  {
   "cell_type": "markdown",
   "id": "67202487",
   "metadata": {},
   "source": [
    "## Prediction\n",
    "\n",
    "Prediction is done in three steps:\n",
    "1. Predict the expected number of transactions\n",
    "1. Predict the average order value\n",
    "1. Multiply number of transations by the average order value"
   ]
  },
  {
   "cell_type": "code",
   "execution_count": 16,
   "id": "ce829860",
   "metadata": {
    "ExecuteTime": {
     "end_time": "2021-08-07T20:47:24.859364Z",
     "start_time": "2021-08-07T20:47:24.828635Z"
    }
   },
   "outputs": [
    {
     "data": {
      "text/plain": [
       "customer_id\n",
       "12747.0     747.715246\n",
       "12748.0    3834.958257\n",
       "dtype: float64"
      ]
     },
     "execution_count": 16,
     "metadata": {},
     "output_type": "execute_result"
    }
   ],
   "source": [
    "t = 89 # number of next days\n",
    "pred_num_sales = bgf.predict(t,\n",
    "                        df_rfm['frequency_cal'], \n",
    "                        df_rfm['recency_cal'], \n",
    "                        df_rfm['T_cal'])\n",
    "pred_num_sales = pred_num_sales.fillna(0)\n",
    "\n",
    "\n",
    "# Predict the average order value\n",
    "pred_monetary = ggf.conditional_expected_average_profit(\n",
    "    df_rfm['frequency_cal'],\n",
    "    df_rfm['monetary_value_cal'])\n",
    "\n",
    "# Putting it all together\n",
    "pred_sales = pred_num_sales * pred_monetary\n",
    "\n",
    "pred_sales.head(2)"
   ]
  },
  {
   "cell_type": "markdown",
   "id": "e2b01255",
   "metadata": {
    "ExecuteTime": {
     "end_time": "2021-08-07T20:10:41.873413Z",
     "start_time": "2021-08-07T20:10:41.869096Z"
    }
   },
   "source": [
    "## Evaluation"
   ]
  },
  {
   "cell_type": "code",
   "execution_count": 17,
   "id": "396f009d",
   "metadata": {
    "ExecuteTime": {
     "end_time": "2021-08-07T20:47:24.866835Z",
     "start_time": "2021-08-07T20:47:24.862318Z"
    }
   },
   "outputs": [],
   "source": [
    "from sklearn import metrics as skmetrics"
   ]
  },
  {
   "cell_type": "code",
   "execution_count": 18,
   "id": "9db2c365",
   "metadata": {
    "ExecuteTime": {
     "end_time": "2021-08-07T20:47:24.888480Z",
     "start_time": "2021-08-07T20:47:24.869251Z"
    }
   },
   "outputs": [
    {
     "data": {
      "text/html": [
       "<div>\n",
       "<style scoped>\n",
       "    .dataframe tbody tr th:only-of-type {\n",
       "        vertical-align: middle;\n",
       "    }\n",
       "\n",
       "    .dataframe tbody tr th {\n",
       "        vertical-align: top;\n",
       "    }\n",
       "\n",
       "    .dataframe thead th {\n",
       "        text-align: right;\n",
       "    }\n",
       "</style>\n",
       "<table border=\"1\" class=\"dataframe\">\n",
       "  <thead>\n",
       "    <tr style=\"text-align: right;\">\n",
       "      <th></th>\n",
       "      <th>frequency_cal</th>\n",
       "      <th>recency_cal</th>\n",
       "      <th>T_cal</th>\n",
       "      <th>monetary_value_cal</th>\n",
       "      <th>frequency_holdout</th>\n",
       "      <th>monetary_value_holdout</th>\n",
       "      <th>duration_holdout</th>\n",
       "    </tr>\n",
       "    <tr>\n",
       "      <th>customer_id</th>\n",
       "      <th></th>\n",
       "      <th></th>\n",
       "      <th></th>\n",
       "      <th></th>\n",
       "      <th></th>\n",
       "      <th></th>\n",
       "      <th></th>\n",
       "    </tr>\n",
       "  </thead>\n",
       "  <tbody>\n",
       "    <tr>\n",
       "      <th>12747.0</th>\n",
       "      <td>7.0</td>\n",
       "      <td>260.0</td>\n",
       "      <td>279.0</td>\n",
       "      <td>344.405714</td>\n",
       "      <td>3.0</td>\n",
       "      <td>475.536667</td>\n",
       "      <td>90.0</td>\n",
       "    </tr>\n",
       "    <tr>\n",
       "      <th>12748.0</th>\n",
       "      <td>73.0</td>\n",
       "      <td>282.0</td>\n",
       "      <td>283.0</td>\n",
       "      <td>193.189041</td>\n",
       "      <td>39.0</td>\n",
       "      <td>254.701039</td>\n",
       "      <td>90.0</td>\n",
       "    </tr>\n",
       "  </tbody>\n",
       "</table>\n",
       "</div>"
      ],
      "text/plain": [
       "             frequency_cal  recency_cal  T_cal  monetary_value_cal  \\\n",
       "customer_id                                                          \n",
       "12747.0                7.0        260.0  279.0          344.405714   \n",
       "12748.0               73.0        282.0  283.0          193.189041   \n",
       "\n",
       "             frequency_holdout  monetary_value_holdout  duration_holdout  \n",
       "customer_id                                                               \n",
       "12747.0                    3.0              475.536667              90.0  \n",
       "12748.0                   39.0              254.701039              90.0  "
      ]
     },
     "execution_count": 18,
     "metadata": {},
     "output_type": "execute_result"
    }
   ],
   "source": [
    "df_rfm.head(2)"
   ]
  },
  {
   "cell_type": "code",
   "execution_count": 19,
   "id": "258770a0",
   "metadata": {
    "ExecuteTime": {
     "end_time": "2021-08-07T20:47:24.907791Z",
     "start_time": "2021-08-07T20:47:24.890595Z"
    }
   },
   "outputs": [
    {
     "data": {
      "text/plain": [
       "customer_id\n",
       "12747.0    1426.610000\n",
       "12748.0    9933.340519\n",
       "dtype: float64"
      ]
     },
     "execution_count": 19,
     "metadata": {},
     "output_type": "execute_result"
    }
   ],
   "source": [
    "actual_sales = df_rfm['monetary_value_holdout'] * df_rfm['frequency_holdout']\n",
    "actual_sales.head(2)"
   ]
  },
  {
   "cell_type": "code",
   "execution_count": 20,
   "id": "70bcd7e0",
   "metadata": {
    "ExecuteTime": {
     "end_time": "2021-08-07T20:47:25.096414Z",
     "start_time": "2021-08-07T20:47:24.911566Z"
    }
   },
   "outputs": [
    {
     "name": "stdout",
     "output_type": "stream",
     "text": [
      "MAE     : 578.14\n",
      "MSE     : 4,072,183\n",
      "R2-score: 0.45\n"
     ]
    },
    {
     "data": {
      "image/png": "[encoded data removed]",
      "text/plain": [
       "<Figure size 432x288 with 1 Axes>"
      ]
     },
     "metadata": {},
     "output_type": "display_data"
    }
   ],
   "source": [
    "def evaluate(actual_sales, pred_sales):\n",
    "    mae = skmetrics.mean_absolute_error(actual_sales, pred_sales)\n",
    "    mse = skmetrics.mean_squared_error(actual_sales, pred_sales)\n",
    "    r2 = skmetrics.r2_score(actual_sales,pred_sales)\n",
    "    \n",
    "    print(f\"MAE     : {mae:,.2f}\")\n",
    "    print(f\"MSE     : {mse:,.0f}\")\n",
    "    print(f\"R2-score: {r2:,.2f}\")\n",
    "    \n",
    "    plt.scatter(x=range(len(actual_sales)),y=actual_sales-pred_sales)\n",
    "    plt.show()\n",
    "\n",
    "evaluate(actual_sales, pred_sales)"
   ]
  },
  {
   "cell_type": "markdown",
   "id": "3338a942",
   "metadata": {},
   "source": [
    "# Modelling 02: ML Approach "
   ]
  },
  {
   "cell_type": "code",
   "execution_count": 21,
   "id": "e2d6f3d6",
   "metadata": {
    "ExecuteTime": {
     "end_time": "2021-08-07T20:47:25.117679Z",
     "start_time": "2021-08-07T20:47:25.098596Z"
    }
   },
   "outputs": [
    {
     "data": {
      "text/html": [
       "<div>\n",
       "<style scoped>\n",
       "    .dataframe tbody tr th:only-of-type {\n",
       "        vertical-align: middle;\n",
       "    }\n",
       "\n",
       "    .dataframe tbody tr th {\n",
       "        vertical-align: top;\n",
       "    }\n",
       "\n",
       "    .dataframe thead th {\n",
       "        text-align: right;\n",
       "    }\n",
       "</style>\n",
       "<table border=\"1\" class=\"dataframe\">\n",
       "  <thead>\n",
       "    <tr style=\"text-align: right;\">\n",
       "      <th></th>\n",
       "      <th>customer_id</th>\n",
       "      <th>invoice_no</th>\n",
       "      <th>invoice_date</th>\n",
       "      <th>quantity</th>\n",
       "      <th>unit_price</th>\n",
       "      <th>total_sales</th>\n",
       "      <th>date</th>\n",
       "      <th>time</th>\n",
       "      <th>hour</th>\n",
       "      <th>weekend</th>\n",
       "      <th>dayofweek</th>\n",
       "    </tr>\n",
       "  </thead>\n",
       "  <tbody>\n",
       "    <tr>\n",
       "      <th>0</th>\n",
       "      <td>17850.0</td>\n",
       "      <td>536365</td>\n",
       "      <td>2010-12-01 08:26:00</td>\n",
       "      <td>6</td>\n",
       "      <td>2.55</td>\n",
       "      <td>15.30</td>\n",
       "      <td>2010-12-01</td>\n",
       "      <td>08:26:00</td>\n",
       "      <td>8</td>\n",
       "      <td>False</td>\n",
       "      <td>2</td>\n",
       "    </tr>\n",
       "    <tr>\n",
       "      <th>1</th>\n",
       "      <td>17850.0</td>\n",
       "      <td>536365</td>\n",
       "      <td>2010-12-01 08:26:00</td>\n",
       "      <td>6</td>\n",
       "      <td>3.39</td>\n",
       "      <td>20.34</td>\n",
       "      <td>2010-12-01</td>\n",
       "      <td>08:26:00</td>\n",
       "      <td>8</td>\n",
       "      <td>False</td>\n",
       "      <td>2</td>\n",
       "    </tr>\n",
       "  </tbody>\n",
       "</table>\n",
       "</div>"
      ],
      "text/plain": [
       "  customer_id invoice_no        invoice_date  quantity  unit_price  \\\n",
       "0     17850.0     536365 2010-12-01 08:26:00         6        2.55   \n",
       "1     17850.0     536365 2010-12-01 08:26:00         6        3.39   \n",
       "\n",
       "   total_sales       date      time  hour  weekend  dayofweek  \n",
       "0        15.30 2010-12-01  08:26:00     8    False          2  \n",
       "1        20.34 2010-12-01  08:26:00     8    False          2  "
      ]
     },
     "execution_count": 21,
     "metadata": {},
     "output_type": "execute_result"
    }
   ],
   "source": [
    "df.head(2)"
   ]
  },
  {
   "cell_type": "code",
   "execution_count": 22,
   "id": "d0f09d78",
   "metadata": {
    "ExecuteTime": {
     "end_time": "2021-08-07T20:47:25.145146Z",
     "start_time": "2021-08-07T20:47:25.129097Z"
    }
   },
   "outputs": [
    {
     "data": {
      "text/html": [
       "<div>\n",
       "<style scoped>\n",
       "    .dataframe tbody tr th:only-of-type {\n",
       "        vertical-align: middle;\n",
       "    }\n",
       "\n",
       "    .dataframe tbody tr th {\n",
       "        vertical-align: top;\n",
       "    }\n",
       "\n",
       "    .dataframe thead th {\n",
       "        text-align: right;\n",
       "    }\n",
       "</style>\n",
       "<table border=\"1\" class=\"dataframe\">\n",
       "  <thead>\n",
       "    <tr style=\"text-align: right;\">\n",
       "      <th></th>\n",
       "      <th>frequency_cal</th>\n",
       "      <th>recency_cal</th>\n",
       "      <th>T_cal</th>\n",
       "      <th>monetary_value_cal</th>\n",
       "      <th>frequency_holdout</th>\n",
       "      <th>monetary_value_holdout</th>\n",
       "      <th>duration_holdout</th>\n",
       "    </tr>\n",
       "    <tr>\n",
       "      <th>customer_id</th>\n",
       "      <th></th>\n",
       "      <th></th>\n",
       "      <th></th>\n",
       "      <th></th>\n",
       "      <th></th>\n",
       "      <th></th>\n",
       "      <th></th>\n",
       "    </tr>\n",
       "  </thead>\n",
       "  <tbody>\n",
       "    <tr>\n",
       "      <th>12747.0</th>\n",
       "      <td>7.0</td>\n",
       "      <td>260.0</td>\n",
       "      <td>279.0</td>\n",
       "      <td>344.405714</td>\n",
       "      <td>3.0</td>\n",
       "      <td>475.536667</td>\n",
       "      <td>90.0</td>\n",
       "    </tr>\n",
       "    <tr>\n",
       "      <th>12748.0</th>\n",
       "      <td>73.0</td>\n",
       "      <td>282.0</td>\n",
       "      <td>283.0</td>\n",
       "      <td>193.189041</td>\n",
       "      <td>39.0</td>\n",
       "      <td>254.701039</td>\n",
       "      <td>90.0</td>\n",
       "    </tr>\n",
       "  </tbody>\n",
       "</table>\n",
       "</div>"
      ],
      "text/plain": [
       "             frequency_cal  recency_cal  T_cal  monetary_value_cal  \\\n",
       "customer_id                                                          \n",
       "12747.0                7.0        260.0  279.0          344.405714   \n",
       "12748.0               73.0        282.0  283.0          193.189041   \n",
       "\n",
       "             frequency_holdout  monetary_value_holdout  duration_holdout  \n",
       "customer_id                                                               \n",
       "12747.0                    3.0              475.536667              90.0  \n",
       "12748.0                   39.0              254.701039              90.0  "
      ]
     },
     "execution_count": 22,
     "metadata": {},
     "output_type": "execute_result"
    }
   ],
   "source": [
    "df_rfm.head(2)"
   ]
  },
  {
   "cell_type": "markdown",
   "id": "11c1e71a",
   "metadata": {},
   "source": [
    "## Feature Engineering"
   ]
  },
  {
   "cell_type": "code",
   "execution_count": 23,
   "id": "71dd726b",
   "metadata": {
    "ExecuteTime": {
     "end_time": "2021-08-07T20:47:25.579548Z",
     "start_time": "2021-08-07T20:47:25.150325Z"
    }
   },
   "outputs": [
    {
     "name": "stdout",
     "output_type": "stream",
     "text": [
      "Using df from 161 days to predict 89 days.\n",
      "Using df from 161 days to predict 89 days.\n"
     ]
    },
    {
     "data": {
      "text/html": [
       "<div>\n",
       "<style scoped>\n",
       "    .dataframe tbody tr th:only-of-type {\n",
       "        vertical-align: middle;\n",
       "    }\n",
       "\n",
       "    .dataframe tbody tr th {\n",
       "        vertical-align: top;\n",
       "    }\n",
       "\n",
       "    .dataframe thead th {\n",
       "        text-align: right;\n",
       "    }\n",
       "</style>\n",
       "<table border=\"1\" class=\"dataframe\">\n",
       "  <thead>\n",
       "    <tr style=\"text-align: right;\">\n",
       "      <th></th>\n",
       "      <th>total_revenue</th>\n",
       "      <th>recency</th>\n",
       "      <th>frequency</th>\n",
       "      <th>t</th>\n",
       "      <th>time_between</th>\n",
       "      <th>avg_basket_value</th>\n",
       "      <th>avg_basket_Size</th>\n",
       "      <th>num_returns</th>\n",
       "      <th>purchase_hour_med</th>\n",
       "      <th>purchase_dow_med</th>\n",
       "      <th>purchase_weekend_prop</th>\n",
       "    </tr>\n",
       "    <tr>\n",
       "      <th>customer_id</th>\n",
       "      <th></th>\n",
       "      <th></th>\n",
       "      <th></th>\n",
       "      <th></th>\n",
       "      <th></th>\n",
       "      <th></th>\n",
       "      <th></th>\n",
       "      <th></th>\n",
       "      <th></th>\n",
       "      <th></th>\n",
       "      <th></th>\n",
       "    </tr>\n",
       "  </thead>\n",
       "  <tbody>\n",
       "    <tr>\n",
       "      <th>12747.0</th>\n",
       "      <td>1385.13</td>\n",
       "      <td>125.0</td>\n",
       "      <td>40.0</td>\n",
       "      <td>142.0</td>\n",
       "      <td>3.550000</td>\n",
       "      <td>34.628250</td>\n",
       "      <td>12.375000</td>\n",
       "      <td>0.0</td>\n",
       "      <td>14.0</td>\n",
       "      <td>2.0</td>\n",
       "      <td>0.000000</td>\n",
       "    </tr>\n",
       "    <tr>\n",
       "      <th>12748.0</th>\n",
       "      <td>5790.12</td>\n",
       "      <td>156.0</td>\n",
       "      <td>752.0</td>\n",
       "      <td>157.0</td>\n",
       "      <td>0.208777</td>\n",
       "      <td>7.699628</td>\n",
       "      <td>4.414894</td>\n",
       "      <td>0.0</td>\n",
       "      <td>14.0</td>\n",
       "      <td>4.0</td>\n",
       "      <td>0.276596</td>\n",
       "    </tr>\n",
       "    <tr>\n",
       "      <th>12749.0</th>\n",
       "      <td>859.10</td>\n",
       "      <td>0.0</td>\n",
       "      <td>43.0</td>\n",
       "      <td>32.0</td>\n",
       "      <td>0.744186</td>\n",
       "      <td>19.979070</td>\n",
       "      <td>6.093023</td>\n",
       "      <td>0.0</td>\n",
       "      <td>15.0</td>\n",
       "      <td>1.0</td>\n",
       "      <td>0.000000</td>\n",
       "    </tr>\n",
       "    <tr>\n",
       "      <th>12823.0</th>\n",
       "      <td>994.50</td>\n",
       "      <td>42.0</td>\n",
       "      <td>3.0</td>\n",
       "      <td>115.0</td>\n",
       "      <td>38.333333</td>\n",
       "      <td>331.500000</td>\n",
       "      <td>43.333333</td>\n",
       "      <td>0.0</td>\n",
       "      <td>12.0</td>\n",
       "      <td>2.0</td>\n",
       "      <td>0.000000</td>\n",
       "    </tr>\n",
       "    <tr>\n",
       "      <th>12826.0</th>\n",
       "      <td>542.10</td>\n",
       "      <td>8.0</td>\n",
       "      <td>40.0</td>\n",
       "      <td>143.0</td>\n",
       "      <td>3.575000</td>\n",
       "      <td>13.552500</td>\n",
       "      <td>13.325000</td>\n",
       "      <td>0.0</td>\n",
       "      <td>12.0</td>\n",
       "      <td>3.0</td>\n",
       "      <td>0.000000</td>\n",
       "    </tr>\n",
       "  </tbody>\n",
       "</table>\n",
       "</div>"
      ],
      "text/plain": [
       "             total_revenue  recency  frequency      t  time_between  \\\n",
       "customer_id                                                           \n",
       "12747.0            1385.13    125.0       40.0  142.0      3.550000   \n",
       "12748.0            5790.12    156.0      752.0  157.0      0.208777   \n",
       "12749.0             859.10      0.0       43.0   32.0      0.744186   \n",
       "12823.0             994.50     42.0        3.0  115.0     38.333333   \n",
       "12826.0             542.10      8.0       40.0  143.0      3.575000   \n",
       "\n",
       "             avg_basket_value  avg_basket_Size  num_returns  \\\n",
       "customer_id                                                   \n",
       "12747.0             34.628250        12.375000          0.0   \n",
       "12748.0              7.699628         4.414894          0.0   \n",
       "12749.0             19.979070         6.093023          0.0   \n",
       "12823.0            331.500000        43.333333          0.0   \n",
       "12826.0             13.552500        13.325000          0.0   \n",
       "\n",
       "             purchase_hour_med  purchase_dow_med  purchase_weekend_prop  \n",
       "customer_id                                                              \n",
       "12747.0                   14.0               2.0               0.000000  \n",
       "12748.0                   14.0               4.0               0.276596  \n",
       "12749.0                   15.0               1.0               0.000000  \n",
       "12823.0                   12.0               2.0               0.000000  \n",
       "12826.0                   12.0               3.0               0.000000  "
      ]
     },
     "execution_count": 23,
     "metadata": {},
     "output_type": "execute_result"
    }
   ],
   "source": [
    "def get_features(df, df_rfm, feature_start, feature_end,\n",
    "                 target_start,target_end):\n",
    "    # periods length\n",
    "    features_df = df.loc[(df.date >= feature_start) & (df.date <= feature_end), :]\n",
    "    print(f'Using df from {(pd.to_datetime(feature_end) - pd.to_datetime(feature_start)).days} days',end=' ')\n",
    "    print(f'to predict {(pd.to_datetime(target_end) - pd.to_datetime(target_start)).days} days.')\n",
    "\n",
    "    #Transactions df features\n",
    "    total_rev = features_df.groupby('customer_id')['total_sales'].sum().rename('total_revenue')\n",
    "    recency = (features_df.groupby('customer_id')['date'].max() - features_df.groupby('customer_id')['date'].min()).apply(lambda x: x.days).rename('recency')\n",
    "    frequency = features_df.groupby('customer_id')['invoice_no'].count().rename('frequency')\n",
    "    t = features_df.groupby('customer_id')['date'].min().apply(lambda x: (datetime(2011, 6, 11) - x).days).rename('t')\n",
    "    time_between = (t / frequency).rename('time_between')\n",
    "    avg_basket_value = (total_rev / frequency).rename('avg_basket_value')\n",
    "    avg_basket_size = (features_df.groupby('customer_id')['quantity'].sum() / frequency).rename('avg_basket_Size')\n",
    "    returns = features_df.loc[features_df['total_sales'] < 0, :].groupby('customer_id')['invoice_no'].count().rename('num_returns')\n",
    "    hour = features_df.groupby('customer_id')['hour'].median().rename('purchase_hour_med')\n",
    "    dow = features_df.groupby('customer_id')['dayofweek'].median().rename('purchase_dow_med')\n",
    "    weekend =  features_df.groupby('customer_id')['weekend'].mean().rename('purchase_weekend_prop')\n",
    "\n",
    "    train_df = pd.DataFrame(index = df_rfm.index)\n",
    "    train_df = train_df.join([total_rev, recency, frequency, t, time_between, avg_basket_value, avg_basket_size, returns, hour, dow, weekend])\n",
    "    train_df = train_df.fillna(0)\n",
    "\n",
    "    #Target df\n",
    "    target_df = df.loc[(df.date >= target_start) & (df.date <= target_end), :]\n",
    "    target_quant = target_df.groupby(['customer_id'])['date'].nunique()\n",
    "    target_rev = target_df.groupby(['customer_id'])['total_sales'].sum().rename('target_rev')\n",
    "    train_df = train_df.join(target_rev).fillna(0)\n",
    "    \n",
    "    return train_df.iloc[:, :-1], train_df.iloc[:, -1]\n",
    "\n",
    "\n",
    "# train-test split\n",
    "X_train, y_train = get_features(df, df_rfm, '2011-01-01', '2011-06-11', '2011-06-12', '2011-09-09')\n",
    "X_test, y_test = get_features(df, df_rfm, '2011-04-02', '2011-09-10', '2011-09-11', '2011-12-09')\n",
    "\n",
    "X_train.head()"
   ]
  },
  {
   "cell_type": "code",
   "execution_count": 24,
   "id": "71627a61",
   "metadata": {
    "ExecuteTime": {
     "end_time": "2021-08-07T20:47:25.589936Z",
     "start_time": "2021-08-07T20:47:25.582409Z"
    }
   },
   "outputs": [
    {
     "data": {
      "text/plain": [
       "customer_id\n",
       "12747.0     678.00\n",
       "12748.0    4089.50\n",
       "12749.0    1896.13\n",
       "12823.0     229.50\n",
       "12826.0     121.52\n",
       "Name: target_rev, dtype: float64"
      ]
     },
     "execution_count": 24,
     "metadata": {},
     "output_type": "execute_result"
    }
   ],
   "source": [
    "y_train.head()"
   ]
  },
  {
   "cell_type": "markdown",
   "id": "e8b01de9",
   "metadata": {},
   "source": [
    "## Modelling DNN"
   ]
  },
  {
   "cell_type": "code",
   "execution_count": 53,
   "id": "67db07b4",
   "metadata": {
    "ExecuteTime": {
     "end_time": "2021-08-07T20:56:59.046368Z",
     "start_time": "2021-08-07T20:56:55.771109Z"
    }
   },
   "outputs": [
    {
     "name": "stdout",
     "output_type": "stream",
     "text": [
      "\n",
      "Epoch: 0, loss:1973503.1250,  mae:529.3196,  mse:1973503.1250,  val_loss:5649310.5000,  val_mae:659.9467,  val_mse:5649310.5000,  \n",
      ".......................(23, 6)\n"
     ]
    },
    {
     "data": {
      "text/html": [
       "<div>\n",
       "<style scoped>\n",
       "    .dataframe tbody tr th:only-of-type {\n",
       "        vertical-align: middle;\n",
       "    }\n",
       "\n",
       "    .dataframe tbody tr th {\n",
       "        vertical-align: top;\n",
       "    }\n",
       "\n",
       "    .dataframe thead th {\n",
       "        text-align: right;\n",
       "    }\n",
       "</style>\n",
       "<table border=\"1\" class=\"dataframe\">\n",
       "  <thead>\n",
       "    <tr style=\"text-align: right;\">\n",
       "      <th></th>\n",
       "      <th>loss</th>\n",
       "      <th>mae</th>\n",
       "      <th>mse</th>\n",
       "      <th>val_loss</th>\n",
       "      <th>val_mae</th>\n",
       "      <th>val_mse</th>\n",
       "    </tr>\n",
       "  </thead>\n",
       "  <tbody>\n",
       "    <tr>\n",
       "      <th>0</th>\n",
       "      <td>1973503.125</td>\n",
       "      <td>529.319580</td>\n",
       "      <td>1973503.125</td>\n",
       "      <td>5649310.5</td>\n",
       "      <td>659.946716</td>\n",
       "      <td>5649310.5</td>\n",
       "    </tr>\n",
       "    <tr>\n",
       "      <th>1</th>\n",
       "      <td>1582560.875</td>\n",
       "      <td>490.506653</td>\n",
       "      <td>1582560.875</td>\n",
       "      <td>5247932.0</td>\n",
       "      <td>644.530151</td>\n",
       "      <td>5247932.0</td>\n",
       "    </tr>\n",
       "    <tr>\n",
       "      <th>2</th>\n",
       "      <td>1408744.125</td>\n",
       "      <td>472.717102</td>\n",
       "      <td>1408744.125</td>\n",
       "      <td>4885743.0</td>\n",
       "      <td>634.136780</td>\n",
       "      <td>4885743.0</td>\n",
       "    </tr>\n",
       "    <tr>\n",
       "      <th>3</th>\n",
       "      <td>1535116.125</td>\n",
       "      <td>498.226593</td>\n",
       "      <td>1535116.125</td>\n",
       "      <td>6669162.5</td>\n",
       "      <td>696.565186</td>\n",
       "      <td>6669162.5</td>\n",
       "    </tr>\n",
       "    <tr>\n",
       "      <th>4</th>\n",
       "      <td>1429936.125</td>\n",
       "      <td>491.151611</td>\n",
       "      <td>1429936.125</td>\n",
       "      <td>5466815.0</td>\n",
       "      <td>658.880249</td>\n",
       "      <td>5466815.0</td>\n",
       "    </tr>\n",
       "  </tbody>\n",
       "</table>\n",
       "</div>"
      ],
      "text/plain": [
       "          loss         mae          mse   val_loss     val_mae    val_mse\n",
       "0  1973503.125  529.319580  1973503.125  5649310.5  659.946716  5649310.5\n",
       "1  1582560.875  490.506653  1582560.875  5247932.0  644.530151  5247932.0\n",
       "2  1408744.125  472.717102  1408744.125  4885743.0  634.136780  4885743.0\n",
       "3  1535116.125  498.226593  1535116.125  6669162.5  696.565186  6669162.5\n",
       "4  1429936.125  491.151611  1429936.125  5466815.0  658.880249  5466815.0"
      ]
     },
     "metadata": {},
     "output_type": "display_data"
    },
    {
     "name": "stdout",
     "output_type": "stream",
     "text": [
      "MAE     : 769.21\n",
      "MSE     : 13,356,743\n",
      "R2-score: 0.41\n"
     ]
    },
    {
     "data": {
      "image/png": "[encoded data removed]",
      "text/plain": [
       "<Figure size 432x288 with 1 Axes>"
      ]
     },
     "metadata": {
      "needs_background": "light"
     },
     "output_type": "display_data"
    }
   ],
   "source": [
    "def build_model():\n",
    "    model = keras.Sequential([\n",
    "    \n",
    "    # first layer\n",
    "    layers.Dense(128, activation='relu', input_shape=[len(X_train.columns), ]),\n",
    "    layers.Dropout(0.2),\n",
    "        \n",
    "    # hidden layer\n",
    "    layers.Dense(64, activation='relu'),\n",
    "    layers.Dropout(0.2),\n",
    "\n",
    "    # hidden layer\n",
    "    layers.Dense(32, activation='relu'),\n",
    "    layers.Dropout(0.2),\n",
    "        \n",
    "    # output layer\n",
    "    layers.Dense(1)\n",
    "    ])\n",
    "\n",
    "    optimizer = tf.keras.optimizers.Adam(0.001)\n",
    "\n",
    "    model.compile(loss='mse',\n",
    "            optimizer=optimizer,\n",
    "            metrics=['mae', 'mse'])\n",
    "    \n",
    "    return model\n",
    "\n",
    "# callbacks\n",
    "early_stop = keras.callbacks.EarlyStopping(monitor='val_loss', patience=20)\n",
    "EPOCHS = 100\n",
    "\n",
    "# build the model\n",
    "model = build_model()\n",
    "\n",
    "# fit the model\n",
    "history = model.fit(X_train, y_train, \n",
    "                    epochs=EPOCHS, validation_split = 0.2, verbose=0, \n",
    "                    callbacks=[early_stop, tfdocs.modeling.EpochDots()])\n",
    "\n",
    "# results\n",
    "df_history = pd.DataFrame(history.history)\n",
    "print(df_history.shape)\n",
    "display(df_history.head())\n",
    "df_history[['loss','val_loss']].plot.line();\n",
    "\n",
    "# predicton\n",
    "dnn_preds = model.predict(X_test).ravel()\n",
    "\n",
    "# model evaluation\n",
    "evaluate(y_test, dnn_preds)"
   ]
  },
  {
   "cell_type": "markdown",
   "id": "63a6252e",
   "metadata": {},
   "source": [
    "## Modelling XGBoost"
   ]
  },
  {
   "cell_type": "code",
   "execution_count": 31,
   "id": "48412b98",
   "metadata": {
    "ExecuteTime": {
     "end_time": "2021-08-07T20:47:31.039114Z",
     "start_time": "2021-08-07T20:47:30.684315Z"
    }
   },
   "outputs": [],
   "source": [
    "import xgboost as xgb"
   ]
  },
  {
   "cell_type": "code",
   "execution_count": 36,
   "id": "4050a189",
   "metadata": {
    "ExecuteTime": {
     "end_time": "2021-08-07T20:48:56.879577Z",
     "start_time": "2021-08-07T20:48:56.876385Z"
    }
   },
   "outputs": [],
   "source": [
    "# xgb.XGBRegressor?"
   ]
  },
  {
   "cell_type": "code",
   "execution_count": 65,
   "id": "97eccbdf",
   "metadata": {
    "ExecuteTime": {
     "end_time": "2021-08-07T21:05:47.649765Z",
     "start_time": "2021-08-07T21:05:46.306645Z"
    }
   },
   "outputs": [
    {
     "name": "stdout",
     "output_type": "stream",
     "text": [
      "MAE     : 923.95\n",
      "MSE     : 12,439,437\n",
      "R2-score: 0.45\n"
     ]
    },
    {
     "data": {
      "image/png": "[encoded data removed]",
      "text/plain": [
       "<Figure size 432x288 with 1 Axes>"
      ]
     },
     "metadata": {
      "needs_background": "light"
     },
     "output_type": "display_data"
    }
   ],
   "source": [
    "model = xgb.XGBRegressor(random_state=100,max_depth=3,n_estimators=1000)\n",
    "\n",
    "model.fit(X_train,y_train)\n",
    "\n",
    "y_preds = model.predict(X_test).ravel()\n",
    "evaluate(y_test,y_preds)"
   ]
  },
  {
   "cell_type": "markdown",
   "id": "5d4e8fa2",
   "metadata": {},
   "source": [
    "# Time Taken"
   ]
  },
  {
   "cell_type": "code",
   "execution_count": 32,
   "id": "60cdef03",
   "metadata": {
    "ExecuteTime": {
     "end_time": "2021-08-07T20:47:31.047238Z",
     "start_time": "2021-08-07T20:47:31.040792Z"
    }
   },
   "outputs": [
    {
     "name": "stdout",
     "output_type": "stream",
     "text": [
      "Time taken to run whole notebook: 0 hr 0 min 17 secs\n"
     ]
    }
   ],
   "source": [
    "time_taken = time.time() - time_start_notebook\n",
    "h,m = divmod(time_taken,60*60)\n",
    "print('Time taken to run whole notebook: {:.0f} hr '\\\n",
    "      '{:.0f} min {:.0f} secs'.format(h, *divmod(m,60)))"
   ]
  }
 ],
 "metadata": {
  "kernelspec": {
   "display_name": "Python3.9 (fin)",
   "language": "python",
   "name": "fin"
  },
  "language_info": {
   "codemirror_mode": {
    "name": "ipython",
    "version": 3
   },
   "file_extension": ".py",
   "mimetype": "text/x-python",
   "name": "python",
   "nbconvert_exporter": "python",
   "pygments_lexer": "ipython3",
   "version": "3.9.5"
  },
  "toc": {
   "base_numbering": 1,
   "nav_menu": {},
   "number_sections": true,
   "sideBar": true,
   "skip_h1_title": false,
   "title_cell": "Table of Contents",
   "title_sidebar": "Contents",
   "toc_cell": true,
   "toc_position": {},
   "toc_section_display": true,
   "toc_window_display": false
  }
 },
 "nbformat": 4,
 "nbformat_minor": 5
}
