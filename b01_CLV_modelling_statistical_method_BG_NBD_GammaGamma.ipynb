{
 "cells": [
  {
   "cell_type": "markdown",
   "id": "0fe0623b",
   "metadata": {
    "toc": true
   },
   "source": [
    "<h1>Table of Contents<span class=\"tocSkip\"></span></h1>\n",
    "<div class=\"toc\"><ul class=\"toc-item\"><li><span><a href=\"#Description\" data-toc-modified-id=\"Description-1\"><span class=\"toc-item-num\">1&nbsp;&nbsp;</span>Description</a></span></li><li><span><a href=\"#Load-the-libraries\" data-toc-modified-id=\"Load-the-libraries-2\"><span class=\"toc-item-num\">2&nbsp;&nbsp;</span>Load the libraries</a></span></li><li><span><a href=\"#Read-the-clean-data\" data-toc-modified-id=\"Read-the-clean-data-3\"><span class=\"toc-item-num\">3&nbsp;&nbsp;</span>Read the clean data</a></span></li><li><span><a href=\"#Method-01:-Aggregate-Model\" data-toc-modified-id=\"Method-01:-Aggregate-Model-4\"><span class=\"toc-item-num\">4&nbsp;&nbsp;</span>Method 01: Aggregate Model</a></span><ul class=\"toc-item\"><li><span><a href=\"#aggregate-the-data-per-customer\" data-toc-modified-id=\"aggregate-the-data-per-customer-4.1\"><span class=\"toc-item-num\">4.1&nbsp;&nbsp;</span>aggregate the data per customer</a></span></li><li><span><a href=\"#calculate-CLV-variables\" data-toc-modified-id=\"calculate-CLV-variables-4.2\"><span class=\"toc-item-num\">4.2&nbsp;&nbsp;</span>calculate CLV variables</a></span></li></ul></li><li><span><a href=\"#Method-02:-Cohort-Model\" data-toc-modified-id=\"Method-02:-Cohort-Model-5\"><span class=\"toc-item-num\">5&nbsp;&nbsp;</span>Method 02: Cohort Model</a></span></li><li><span><a href=\"#Method-03:-BG/NBD-Model-+-Gamma-Gamma-Model\" data-toc-modified-id=\"Method-03:-BG/NBD-Model-+-Gamma-Gamma-Model-6\"><span class=\"toc-item-num\">6&nbsp;&nbsp;</span>Method 03: BG/NBD Model + Gamma-Gamma Model</a></span><ul class=\"toc-item\"><li><span><a href=\"#Get-RFM-summary-data\" data-toc-modified-id=\"Get-RFM-summary-data-6.1\"><span class=\"toc-item-num\">6.1&nbsp;&nbsp;</span>Get RFM summary data</a></span></li><li><span><a href=\"#BG/NBD-Fitting-to-get-expected-number-of-purchases\" data-toc-modified-id=\"BG/NBD-Fitting-to-get-expected-number-of-purchases-6.2\"><span class=\"toc-item-num\">6.2&nbsp;&nbsp;</span>BG/NBD Fitting to get expected number of purchases</a></span><ul class=\"toc-item\"><li><span><a href=\"#Customer-alive-probability\" data-toc-modified-id=\"Customer-alive-probability-6.2.1\"><span class=\"toc-item-num\">6.2.1&nbsp;&nbsp;</span>Customer alive probability</a></span></li><li><span><a href=\"#Calculate-expected-number-of-purchase-upto-time\" data-toc-modified-id=\"Calculate-expected-number-of-purchase-upto-time-6.2.2\"><span class=\"toc-item-num\">6.2.2&nbsp;&nbsp;</span>Calculate expected number of purchase upto time</a></span></li></ul></li><li><span><a href=\"#Gamma-Gamma-Modelling-for-Monetary-Value\" data-toc-modified-id=\"Gamma-Gamma-Modelling-for-Monetary-Value-6.3\"><span class=\"toc-item-num\">6.3&nbsp;&nbsp;</span>Gamma-Gamma Modelling for Monetary Value</a></span></li><li><span><a href=\"#Fitting-GammaGamma-Model\" data-toc-modified-id=\"Fitting-GammaGamma-Model-6.4\"><span class=\"toc-item-num\">6.4&nbsp;&nbsp;</span>Fitting GammaGamma Model</a></span></li><li><span><a href=\"#Predict-cutomer-life-time-value-using-ggf\" data-toc-modified-id=\"Predict-cutomer-life-time-value-using-ggf-6.5\"><span class=\"toc-item-num\">6.5&nbsp;&nbsp;</span>Predict cutomer life time value using ggf</a></span></li></ul></li><li><span><a href=\"#Time-Taken\" data-toc-modified-id=\"Time-Taken-7\"><span class=\"toc-item-num\">7&nbsp;&nbsp;</span>Time Taken</a></span></li></ul></div>"
   ]
  },
  {
   "cell_type": "markdown",
   "id": "f9ccdbd0",
   "metadata": {},
   "source": [
    "# Description\n",
    "\n",
    "- Data source: [Online Retail Datset from UCI](https://archive.ics.uci.edu/ml/datasets/online+retail)\n",
    "\n",
    "This is a transnational data set which contains all the transactions occurring between 01/12/2010 and 09/12/2011 for a UK-based and registered non-store online retail.The company mainly sells unique all-occasion gifts. Many customers of the company are wholesalers."
   ]
  },
  {
   "cell_type": "markdown",
   "id": "f67f75c2",
   "metadata": {
    "ExecuteTime": {
     "end_time": "2021-08-06T02:41:31.101708Z",
     "start_time": "2021-08-06T02:41:31.094484Z"
    }
   },
   "source": [
    "<table style=\"width:100%\">\n",
    "    \n",
    "<tr>\n",
    "<th>Feature</th>\n",
    "<th>Description</th> \n",
    "</tr>\n",
    "<tr>\n",
    "  <td>InvoiceNo</td>\n",
    "  <td> Invoice number. Nominal, a 6-digit integral number uniquely assigned to each transaction. If this code starts with letter 'c', it indicates a cancellation. </td>\n",
    "</tr>\n",
    "<tr>\n",
    "  <td>StockCode</td>\n",
    "  <td> Product (item) code. Nominal, a 5-digit integral number uniquely assigned to each distinct product. </td>\n",
    "</tr>\n",
    "<tr>\n",
    "  <td>Description</td>\n",
    "  <td> Product (item) name. Nominal. </td>\n",
    "</tr>\n",
    "<tr>\n",
    "  <td>Quantity</td>\n",
    "  <td> The quantities of each product (item) per transaction. Numeric. </td>\n",
    "</tr>\n",
    "<tr>\n",
    "  <td>InvoiceDate</td>\n",
    "  <td> Invice Date and time. Numeric, the day and time when each transaction was generated. </td>\n",
    "</tr>\n",
    "<tr>\n",
    "  <td>UnitPrice</td>\n",
    "  <td> Unit price. Numeric, Product price per unit in sterling. </td>\n",
    "</tr>\n",
    "<tr>\n",
    "  <td>CustomerID</td>\n",
    "  <td> Customer number. Nominal, a 5-digit integral number uniquely assigned to each customer. </td>\n",
    "</tr>\n",
    "<tr>\n",
    "  <td>Country</td>\n",
    "  <td> Country name. Nominal, the name of the country where each customer resides.</td>\n",
    "</tr></table>"
   ]
  },
  {
   "cell_type": "markdown",
   "id": "02e13f83",
   "metadata": {},
   "source": [
    "![](data/raw/head.png)\n",
    "![](data/raw/mid.png)\n",
    "![](data/raw/tail.png)"
   ]
  },
  {
   "cell_type": "markdown",
   "id": "ce89bb02",
   "metadata": {},
   "source": [
    "# Load the libraries"
   ]
  },
  {
   "cell_type": "code",
   "execution_count": 1,
   "id": "db4de58e",
   "metadata": {
    "ExecuteTime": {
     "end_time": "2021-08-07T18:53:26.834586Z",
     "start_time": "2021-08-07T18:53:25.619898Z"
    }
   },
   "outputs": [
    {
     "name": "stdout",
     "output_type": "stream",
     "text": [
      "autopep8  : 1.5.7\n",
      "re        : 2.2.1\n",
      "json      : 2.0.9\n",
      "matplotlib: 3.3.4\n",
      "lifetimes : 0.11.3\n",
      "seaborn   : 0.11.1\n",
      "pandas    : 1.2.5\n",
      "numpy     : 1.21.1\n",
      "sys       : 3.9.5 (default, May 18 2021, 12:31:01) \n",
      "[Clang 10.0.0 ]\n",
      "\n"
     ]
    }
   ],
   "source": [
    "import numpy as np\n",
    "import pandas as pd\n",
    "import os,sys,time\n",
    "import re\n",
    "\n",
    "time_start_notebook = time.time()\n",
    "\n",
    "# visualization\n",
    "import matplotlib.pyplot as plt\n",
    "import seaborn as sns\n",
    "sns.set()\n",
    "\n",
    "# settings\n",
    "SEED = 100\n",
    "pd.set_option('max_columns',100)\n",
    "pd.set_option('max_colwidth',200)\n",
    "\n",
    "# special\n",
    "import lifetimes\n",
    "\n",
    "%matplotlib inline\n",
    "%load_ext watermark\n",
    "%watermark -iv"
   ]
  },
  {
   "cell_type": "code",
   "execution_count": 2,
   "id": "b2dbb714",
   "metadata": {
    "ExecuteTime": {
     "end_time": "2021-08-07T18:53:28.071878Z",
     "start_time": "2021-08-07T18:53:26.836776Z"
    }
   },
   "outputs": [],
   "source": [
    "# my local library\n",
    "import sys\n",
    "sys.path.append(\"/Users/poudel/Dropbox/a00_Bhishan_Modules/bp/\")\n",
    "sys.path.append(\"/Users/poudel/Dropbox/a00_Bhishan_Modules/bp/bhishan\")\n",
    "from bhishan import bp"
   ]
  },
  {
   "cell_type": "markdown",
   "id": "22347f99",
   "metadata": {
    "ExecuteTime": {
     "end_time": "2021-08-07T15:18:56.328379Z",
     "start_time": "2021-08-07T15:18:56.187287Z"
    }
   },
   "source": [
    "# Read the clean data"
   ]
  },
  {
   "cell_type": "code",
   "execution_count": 3,
   "id": "ac693905",
   "metadata": {
    "ExecuteTime": {
     "end_time": "2021-08-07T18:53:28.346617Z",
     "start_time": "2021-08-07T18:53:28.073997Z"
    }
   },
   "outputs": [
    {
     "name": "stdout",
     "output_type": "stream",
     "text": [
      "(354321, 6)\n"
     ]
    },
    {
     "data": {
      "text/html": [
       "<div>\n",
       "<style scoped>\n",
       "    .dataframe tbody tr th:only-of-type {\n",
       "        vertical-align: middle;\n",
       "    }\n",
       "\n",
       "    .dataframe tbody tr th {\n",
       "        vertical-align: top;\n",
       "    }\n",
       "\n",
       "    .dataframe thead th {\n",
       "        text-align: right;\n",
       "    }\n",
       "</style>\n",
       "<table border=\"1\" class=\"dataframe\">\n",
       "  <thead>\n",
       "    <tr style=\"text-align: right;\">\n",
       "      <th></th>\n",
       "      <th>customer_id</th>\n",
       "      <th>invoice_no</th>\n",
       "      <th>invoice_date</th>\n",
       "      <th>quantity</th>\n",
       "      <th>unit_price</th>\n",
       "      <th>total_sales</th>\n",
       "    </tr>\n",
       "  </thead>\n",
       "  <tbody>\n",
       "    <tr>\n",
       "      <th>0</th>\n",
       "      <td>17850.0</td>\n",
       "      <td>536365</td>\n",
       "      <td>2010-12-01 08:26:00</td>\n",
       "      <td>6</td>\n",
       "      <td>2.55</td>\n",
       "      <td>15.30</td>\n",
       "    </tr>\n",
       "    <tr>\n",
       "      <th>1</th>\n",
       "      <td>17850.0</td>\n",
       "      <td>536365</td>\n",
       "      <td>2010-12-01 08:26:00</td>\n",
       "      <td>6</td>\n",
       "      <td>3.39</td>\n",
       "      <td>20.34</td>\n",
       "    </tr>\n",
       "    <tr>\n",
       "      <th>541892</th>\n",
       "      <td>13113.0</td>\n",
       "      <td>581586</td>\n",
       "      <td>2011-12-09 12:49:00</td>\n",
       "      <td>24</td>\n",
       "      <td>8.95</td>\n",
       "      <td>214.80</td>\n",
       "    </tr>\n",
       "    <tr>\n",
       "      <th>541893</th>\n",
       "      <td>13113.0</td>\n",
       "      <td>581586</td>\n",
       "      <td>2011-12-09 12:49:00</td>\n",
       "      <td>10</td>\n",
       "      <td>7.08</td>\n",
       "      <td>70.80</td>\n",
       "    </tr>\n",
       "  </tbody>\n",
       "</table>\n",
       "</div>"
      ],
      "text/plain": [
       "       customer_id invoice_no        invoice_date  quantity  unit_price  \\\n",
       "0          17850.0     536365 2010-12-01 08:26:00         6        2.55   \n",
       "1          17850.0     536365 2010-12-01 08:26:00         6        3.39   \n",
       "541892     13113.0     581586 2011-12-09 12:49:00        24        8.95   \n",
       "541893     13113.0     581586 2011-12-09 12:49:00        10        7.08   \n",
       "\n",
       "        total_sales  \n",
       "0             15.30  \n",
       "1             20.34  \n",
       "541892       214.80  \n",
       "541893        70.80  "
      ]
     },
     "execution_count": 3,
     "metadata": {},
     "output_type": "execute_result"
    }
   ],
   "source": [
    "ifile = \"data/processed/online_retail.parquet.gzip\"\n",
    "\n",
    "df = pd.read_parquet(ifile)\n",
    "\n",
    "print(df.shape)\n",
    "df.head(2).append(df.tail(2))"
   ]
  },
  {
   "cell_type": "markdown",
   "id": "76847338",
   "metadata": {},
   "source": [
    "# Method 01: Aggregate Model\n",
    "\n",
    "The General Formula for calculating CLV is:\n",
    "\n",
    "```\n",
    "\n",
    "CLV = ((Average Sales X Purchase Frequency) / Churn) X Profit Margin\n",
    "\n",
    "Where,\n",
    "Average Sales = TotalSales/Total no. of orders\n",
    "Purchase Frequency = Total no. of orders/Total unique customers\n",
    "Retention rate = Total no. of orders greater than 1/ Total unique customers\n",
    "Churn = 1 - Retention rate\n",
    "Profit Margin = Based on business context (take 5% if not given)\n",
    "```"
   ]
  },
  {
   "cell_type": "markdown",
   "id": "98678ee3",
   "metadata": {},
   "source": [
    "## aggregate the data per customer"
   ]
  },
  {
   "cell_type": "code",
   "execution_count": 4,
   "id": "0566b9df",
   "metadata": {
    "ExecuteTime": {
     "end_time": "2021-08-07T18:53:29.280514Z",
     "start_time": "2021-08-07T18:53:28.350954Z"
    }
   },
   "outputs": [
    {
     "data": {
      "text/html": [
       "<div>\n",
       "<style scoped>\n",
       "    .dataframe tbody tr th:only-of-type {\n",
       "        vertical-align: middle;\n",
       "    }\n",
       "\n",
       "    .dataframe tbody tr th {\n",
       "        vertical-align: top;\n",
       "    }\n",
       "\n",
       "    .dataframe thead th {\n",
       "        text-align: right;\n",
       "    }\n",
       "</style>\n",
       "<table border=\"1\" class=\"dataframe\">\n",
       "  <thead>\n",
       "    <tr style=\"text-align: right;\">\n",
       "      <th></th>\n",
       "      <th>age</th>\n",
       "      <th>frequency</th>\n",
       "      <th>total_sales</th>\n",
       "    </tr>\n",
       "    <tr>\n",
       "      <th>customer_id</th>\n",
       "      <th></th>\n",
       "      <th></th>\n",
       "      <th></th>\n",
       "    </tr>\n",
       "  </thead>\n",
       "  <tbody>\n",
       "    <tr>\n",
       "      <th>12346.0</th>\n",
       "      <td>0</td>\n",
       "      <td>1</td>\n",
       "      <td>77183.60</td>\n",
       "    </tr>\n",
       "    <tr>\n",
       "      <th>12747.0</th>\n",
       "      <td>366</td>\n",
       "      <td>103</td>\n",
       "      <td>4196.01</td>\n",
       "    </tr>\n",
       "    <tr>\n",
       "      <th>12748.0</th>\n",
       "      <td>372</td>\n",
       "      <td>4595</td>\n",
       "      <td>33719.73</td>\n",
       "    </tr>\n",
       "    <tr>\n",
       "      <th>12749.0</th>\n",
       "      <td>209</td>\n",
       "      <td>199</td>\n",
       "      <td>4090.88</td>\n",
       "    </tr>\n",
       "    <tr>\n",
       "      <th>12820.0</th>\n",
       "      <td>323</td>\n",
       "      <td>59</td>\n",
       "      <td>942.34</td>\n",
       "    </tr>\n",
       "  </tbody>\n",
       "</table>\n",
       "</div>"
      ],
      "text/plain": [
       "             age  frequency  total_sales\n",
       "customer_id                             \n",
       "12346.0        0          1     77183.60\n",
       "12747.0      366        103      4196.01\n",
       "12748.0      372       4595     33719.73\n",
       "12749.0      209        199      4090.88\n",
       "12820.0      323         59       942.34"
      ]
     },
     "execution_count": 4,
     "metadata": {},
     "output_type": "execute_result"
    }
   ],
   "source": [
    "df_cust = df.groupby('customer_id').agg(\n",
    "    age = ('invoice_date', lambda x: (x.max()-x.min()).days),\n",
    "    frequency = ('invoice_no',len),\n",
    "    total_sales = ('total_sales','sum')\n",
    "    )\n",
    "\n",
    "df_cust.head()"
   ]
  },
  {
   "cell_type": "markdown",
   "id": "b479645d",
   "metadata": {},
   "source": [
    "## calculate CLV variables"
   ]
  },
  {
   "cell_type": "code",
   "execution_count": 5,
   "id": "fa7d2847",
   "metadata": {
    "ExecuteTime": {
     "end_time": "2021-08-07T18:53:29.304118Z",
     "start_time": "2021-08-07T18:53:29.285597Z"
    }
   },
   "outputs": [],
   "source": [
    "avg_sales = df_cust['total_sales'].mean()\n",
    "purchase_freq = df_cust['frequency'].mean()\n",
    "retention_rate = df_cust.query(\"frequency>1\").shape[0] / df_cust.shape[0]\n",
    "\n",
    "churn = 1 -retention_rate\n",
    "profit_margin = 0.05 # choose yourself"
   ]
  },
  {
   "cell_type": "code",
   "execution_count": 6,
   "id": "d9315627",
   "metadata": {
    "ExecuteTime": {
     "end_time": "2021-08-07T18:53:29.317554Z",
     "start_time": "2021-08-07T18:53:29.314580Z"
    }
   },
   "outputs": [
    {
     "name": "stdout",
     "output_type": "stream",
     "text": [
      "Cutomer Lifetime Value CLV = $471,851\n"
     ]
    }
   ],
   "source": [
    "CLV = avg_sales * purchase_freq / churn * profit_margin\n",
    "\n",
    "print(f\"Cutomer Lifetime Value CLV = ${CLV:,.0f}\")"
   ]
  },
  {
   "cell_type": "code",
   "execution_count": 7,
   "id": "43152815",
   "metadata": {
    "ExecuteTime": {
     "end_time": "2021-08-07T18:53:29.323371Z",
     "start_time": "2021-08-07T18:53:29.319721Z"
    }
   },
   "outputs": [],
   "source": [
    "\"\"\"\n",
    "Observation:\n",
    "\n",
    "This is aggregate model, it gives unrealistic CLV.\n",
    "\n",
    "\"\"\";"
   ]
  },
  {
   "cell_type": "code",
   "execution_count": 8,
   "id": "09b49a0c",
   "metadata": {
    "ExecuteTime": {
     "end_time": "2021-08-07T18:53:29.335410Z",
     "start_time": "2021-08-07T18:53:29.326348Z"
    }
   },
   "outputs": [
    {
     "data": {
      "text/plain": [
       "count      3920.000000\n",
       "mean       1864.385601\n",
       "std        7482.817477\n",
       "min           3.750000\n",
       "25%         300.280000\n",
       "50%         652.280000\n",
       "75%        1576.585000\n",
       "max      259657.300000\n",
       "Name: total_sales, dtype: float64"
      ]
     },
     "execution_count": 8,
     "metadata": {},
     "output_type": "execute_result"
    }
   ],
   "source": [
    "df_cust['total_sales'].describe()"
   ]
  },
  {
   "cell_type": "code",
   "execution_count": 9,
   "id": "49eb691b",
   "metadata": {
    "ExecuteTime": {
     "end_time": "2021-08-07T18:53:29.346476Z",
     "start_time": "2021-08-07T18:53:29.337458Z"
    }
   },
   "outputs": [],
   "source": [
    "\"\"\"\n",
    "Observation:\n",
    "\n",
    "1. The CLV using Aggregate method gives value 797k,\n",
    "\n",
    "But, 75% of customers have total sales less than 1.5k.\n",
    "\n",
    "We need to use other methods than Aggregate model to estimate the \n",
    "customer lifetime value.\n",
    "\n",
    "In the next section, we will use cohort method.\n",
    "\n",
    "\"\"\";"
   ]
  },
  {
   "cell_type": "markdown",
   "id": "91b81b87",
   "metadata": {},
   "source": [
    "# Method 02: Cohort Model\n",
    "\n",
    "- There are different methods to create cohorts from the full data.\n",
    "- Here, we are using monthly data and create 12 cohorts and calculate CLV for each cohorts."
   ]
  },
  {
   "cell_type": "code",
   "execution_count": 10,
   "id": "eb6eab0a",
   "metadata": {
    "ExecuteTime": {
     "end_time": "2021-08-07T18:53:29.366416Z",
     "start_time": "2021-08-07T18:53:29.356433Z"
    }
   },
   "outputs": [
    {
     "data": {
      "text/html": [
       "<div>\n",
       "<style scoped>\n",
       "    .dataframe tbody tr th:only-of-type {\n",
       "        vertical-align: middle;\n",
       "    }\n",
       "\n",
       "    .dataframe tbody tr th {\n",
       "        vertical-align: top;\n",
       "    }\n",
       "\n",
       "    .dataframe thead th {\n",
       "        text-align: right;\n",
       "    }\n",
       "</style>\n",
       "<table border=\"1\" class=\"dataframe\">\n",
       "  <thead>\n",
       "    <tr style=\"text-align: right;\">\n",
       "      <th></th>\n",
       "      <th>customer_id</th>\n",
       "      <th>invoice_no</th>\n",
       "      <th>invoice_date</th>\n",
       "      <th>quantity</th>\n",
       "      <th>unit_price</th>\n",
       "      <th>total_sales</th>\n",
       "    </tr>\n",
       "  </thead>\n",
       "  <tbody>\n",
       "    <tr>\n",
       "      <th>0</th>\n",
       "      <td>17850.0</td>\n",
       "      <td>536365</td>\n",
       "      <td>2010-12-01 08:26:00</td>\n",
       "      <td>6</td>\n",
       "      <td>2.55</td>\n",
       "      <td>15.30</td>\n",
       "    </tr>\n",
       "    <tr>\n",
       "      <th>1</th>\n",
       "      <td>17850.0</td>\n",
       "      <td>536365</td>\n",
       "      <td>2010-12-01 08:26:00</td>\n",
       "      <td>6</td>\n",
       "      <td>3.39</td>\n",
       "      <td>20.34</td>\n",
       "    </tr>\n",
       "  </tbody>\n",
       "</table>\n",
       "</div>"
      ],
      "text/plain": [
       "  customer_id invoice_no        invoice_date  quantity  unit_price  \\\n",
       "0     17850.0     536365 2010-12-01 08:26:00         6        2.55   \n",
       "1     17850.0     536365 2010-12-01 08:26:00         6        3.39   \n",
       "\n",
       "   total_sales  \n",
       "0        15.30  \n",
       "1        20.34  "
      ]
     },
     "execution_count": 10,
     "metadata": {},
     "output_type": "execute_result"
    }
   ],
   "source": [
    "df.head(2)"
   ]
  },
  {
   "cell_type": "code",
   "execution_count": 11,
   "id": "19b54a9c",
   "metadata": {
    "ExecuteTime": {
     "end_time": "2021-08-07T18:53:29.798452Z",
     "start_time": "2021-08-07T18:53:29.369661Z"
    }
   },
   "outputs": [
    {
     "data": {
      "text/html": [
       "<div>\n",
       "<style scoped>\n",
       "    .dataframe tbody tr th:only-of-type {\n",
       "        vertical-align: middle;\n",
       "    }\n",
       "\n",
       "    .dataframe tbody tr th {\n",
       "        vertical-align: top;\n",
       "    }\n",
       "\n",
       "    .dataframe thead th {\n",
       "        text-align: right;\n",
       "    }\n",
       "</style>\n",
       "<table border=\"1\" class=\"dataframe\">\n",
       "  <thead>\n",
       "    <tr style=\"text-align: right;\">\n",
       "      <th></th>\n",
       "      <th>start_month</th>\n",
       "      <th>frequency</th>\n",
       "      <th>total_sales</th>\n",
       "    </tr>\n",
       "    <tr>\n",
       "      <th>customer_id</th>\n",
       "      <th></th>\n",
       "      <th></th>\n",
       "      <th></th>\n",
       "    </tr>\n",
       "  </thead>\n",
       "  <tbody>\n",
       "    <tr>\n",
       "      <th>12346.0</th>\n",
       "      <td>1</td>\n",
       "      <td>1</td>\n",
       "      <td>77183.60</td>\n",
       "    </tr>\n",
       "    <tr>\n",
       "      <th>12747.0</th>\n",
       "      <td>12</td>\n",
       "      <td>103</td>\n",
       "      <td>4196.01</td>\n",
       "    </tr>\n",
       "    <tr>\n",
       "      <th>12748.0</th>\n",
       "      <td>12</td>\n",
       "      <td>4595</td>\n",
       "      <td>33719.73</td>\n",
       "    </tr>\n",
       "    <tr>\n",
       "      <th>12749.0</th>\n",
       "      <td>5</td>\n",
       "      <td>199</td>\n",
       "      <td>4090.88</td>\n",
       "    </tr>\n",
       "    <tr>\n",
       "      <th>12820.0</th>\n",
       "      <td>1</td>\n",
       "      <td>59</td>\n",
       "      <td>942.34</td>\n",
       "    </tr>\n",
       "  </tbody>\n",
       "</table>\n",
       "</div>"
      ],
      "text/plain": [
       "             start_month  frequency  total_sales\n",
       "customer_id                                     \n",
       "12346.0                1          1     77183.60\n",
       "12747.0               12        103      4196.01\n",
       "12748.0               12       4595     33719.73\n",
       "12749.0                5        199      4090.88\n",
       "12820.0                1         59       942.34"
      ]
     },
     "execution_count": 11,
     "metadata": {},
     "output_type": "execute_result"
    }
   ],
   "source": [
    "df_cust = df.groupby('customer_id').agg(\n",
    "    start_month = ('invoice_date', lambda x: x.min().month),\n",
    "    frequency = ('invoice_no',len),\n",
    "    total_sales = ('total_sales','sum')\n",
    ")\n",
    "\n",
    "df_cust.head()"
   ]
  },
  {
   "cell_type": "code",
   "execution_count": 12,
   "id": "17464447",
   "metadata": {
    "ExecuteTime": {
     "end_time": "2021-08-07T18:53:29.859227Z",
     "start_time": "2021-08-07T18:53:29.802599Z"
    }
   },
   "outputs": [],
   "source": [
    "months = ['Jan', 'Feb', 'March', 'Apr', 'May',\n",
    "          'Jun', 'Jul', 'Aug', 'Sep', 'Oct', 'Nov', 'Dec']\n",
    "\n",
    "clv_monthly = []\n",
    "\n",
    "for i in range(1,13):\n",
    "    dfc = df_cust.query(\"start_month==@i\")\n",
    "    \n",
    "    avg_sales = dfc['total_sales'].mean()\n",
    "    pur_freq = dfc['frequency'].mean()\n",
    "    ret_rate = dfc.query(\"frequency>1\").shape[0]/dfc.shape[0]\n",
    "    churn = 1-ret_rate\n",
    "    \n",
    "    CLV = avg_sales *pur_freq / churn *profit_margin\n",
    "    clv_monthly.append(CLV)"
   ]
  },
  {
   "cell_type": "code",
   "execution_count": 13,
   "id": "092538e4",
   "metadata": {
    "ExecuteTime": {
     "end_time": "2021-08-07T18:53:29.878090Z",
     "start_time": "2021-08-07T18:53:29.861371Z"
    }
   },
   "outputs": [
    {
     "data": {
      "text/html": [
       "<style  type=\"text/css\" >\n",
       "#T_69fee_row0_col1{\n",
       "            background-color:  #c2cbe2;\n",
       "            color:  #000000;\n",
       "        }#T_69fee_row1_col1{\n",
       "            background-color:  #f2ecf5;\n",
       "            color:  #000000;\n",
       "        }#T_69fee_row2_col1{\n",
       "            background-color:  #e7e3f0;\n",
       "            color:  #000000;\n",
       "        }#T_69fee_row3_col1{\n",
       "            background-color:  #f4edf6;\n",
       "            color:  #000000;\n",
       "        }#T_69fee_row4_col1,#T_69fee_row7_col1{\n",
       "            background-color:  #faf3f9;\n",
       "            color:  #000000;\n",
       "        }#T_69fee_row5_col1{\n",
       "            background-color:  #f1ebf5;\n",
       "            color:  #000000;\n",
       "        }#T_69fee_row6_col1{\n",
       "            background-color:  #fef6fb;\n",
       "            color:  #000000;\n",
       "        }#T_69fee_row8_col1{\n",
       "            background-color:  #f8f1f8;\n",
       "            color:  #000000;\n",
       "        }#T_69fee_row9_col1{\n",
       "            background-color:  #fdf5fa;\n",
       "            color:  #000000;\n",
       "        }#T_69fee_row10_col1{\n",
       "            background-color:  #fff7fb;\n",
       "            color:  #000000;\n",
       "        }#T_69fee_row11_col1{\n",
       "            background-color:  #023858;\n",
       "            color:  #f1f1f1;\n",
       "        }</style><table id=\"T_69fee_\" ><thead>    <tr>        <th class=\"blank level0\" ></th>        <th class=\"col_heading level0 col0\" >Month</th>        <th class=\"col_heading level0 col1\" >CLV</th>    </tr></thead><tbody>\n",
       "                <tr>\n",
       "                        <th id=\"T_69fee_level0_row0\" class=\"row_heading level0 row0\" >0</th>\n",
       "                        <td id=\"T_69fee_row0_col0\" class=\"data row0 col0\" >Jan</td>\n",
       "                        <td id=\"T_69fee_row0_col1\" class=\"data row0 col1\" >807795.771327</td>\n",
       "            </tr>\n",
       "            <tr>\n",
       "                        <th id=\"T_69fee_level0_row1\" class=\"row_heading level0 row1\" >1</th>\n",
       "                        <td id=\"T_69fee_row1_col0\" class=\"data row1 col0\" >Feb</td>\n",
       "                        <td id=\"T_69fee_row1_col1\" class=\"data row1 col1\" >272699.905100</td>\n",
       "            </tr>\n",
       "            <tr>\n",
       "                        <th id=\"T_69fee_level0_row2\" class=\"row_heading level0 row2\" >2</th>\n",
       "                        <td id=\"T_69fee_row2_col0\" class=\"data row2 col0\" >March</td>\n",
       "                        <td id=\"T_69fee_row2_col1\" class=\"data row2 col1\" >432619.978714</td>\n",
       "            </tr>\n",
       "            <tr>\n",
       "                        <th id=\"T_69fee_level0_row3\" class=\"row_heading level0 row3\" >3</th>\n",
       "                        <td id=\"T_69fee_row3_col0\" class=\"data row3 col0\" >Apr</td>\n",
       "                        <td id=\"T_69fee_row3_col1\" class=\"data row3 col1\" >239316.006912</td>\n",
       "            </tr>\n",
       "            <tr>\n",
       "                        <th id=\"T_69fee_level0_row4\" class=\"row_heading level0 row4\" >4</th>\n",
       "                        <td id=\"T_69fee_row4_col0\" class=\"data row4 col0\" >May</td>\n",
       "                        <td id=\"T_69fee_row4_col1\" class=\"data row4 col1\" >133384.514952</td>\n",
       "            </tr>\n",
       "            <tr>\n",
       "                        <th id=\"T_69fee_level0_row5\" class=\"row_heading level0 row5\" >5</th>\n",
       "                        <td id=\"T_69fee_row5_col0\" class=\"data row5 col0\" >Jun</td>\n",
       "                        <td id=\"T_69fee_row5_col1\" class=\"data row5 col1\" >286107.889868</td>\n",
       "            </tr>\n",
       "            <tr>\n",
       "                        <th id=\"T_69fee_level0_row6\" class=\"row_heading level0 row6\" >6</th>\n",
       "                        <td id=\"T_69fee_row6_col0\" class=\"data row6 col0\" >Jul</td>\n",
       "                        <td id=\"T_69fee_row6_col1\" class=\"data row6 col1\" >53007.355670</td>\n",
       "            </tr>\n",
       "            <tr>\n",
       "                        <th id=\"T_69fee_level0_row7\" class=\"row_heading level0 row7\" >7</th>\n",
       "                        <td id=\"T_69fee_row7_col0\" class=\"data row7 col0\" >Aug</td>\n",
       "                        <td id=\"T_69fee_row7_col1\" class=\"data row7 col1\" >134038.232234</td>\n",
       "            </tr>\n",
       "            <tr>\n",
       "                        <th id=\"T_69fee_level0_row8\" class=\"row_heading level0 row8\" >8</th>\n",
       "                        <td id=\"T_69fee_row8_col0\" class=\"data row8 col0\" >Sep</td>\n",
       "                        <td id=\"T_69fee_row8_col1\" class=\"data row8 col1\" >165834.460286</td>\n",
       "            </tr>\n",
       "            <tr>\n",
       "                        <th id=\"T_69fee_level0_row9\" class=\"row_heading level0 row9\" >9</th>\n",
       "                        <td id=\"T_69fee_row9_col0\" class=\"data row9 col0\" >Oct</td>\n",
       "                        <td id=\"T_69fee_row9_col1\" class=\"data row9 col1\" >86161.618740</td>\n",
       "            </tr>\n",
       "            <tr>\n",
       "                        <th id=\"T_69fee_level0_row10\" class=\"row_heading level0 row10\" >10</th>\n",
       "                        <td id=\"T_69fee_row10_col0\" class=\"data row10 col0\" >Nov</td>\n",
       "                        <td id=\"T_69fee_row10_col1\" class=\"data row10 col1\" >42638.784234</td>\n",
       "            </tr>\n",
       "            <tr>\n",
       "                        <th id=\"T_69fee_level0_row11\" class=\"row_heading level0 row11\" >11</th>\n",
       "                        <td id=\"T_69fee_row11_col0\" class=\"data row11 col0\" >Dec</td>\n",
       "                        <td id=\"T_69fee_row11_col1\" class=\"data row11 col1\" >2686916.911152</td>\n",
       "            </tr>\n",
       "    </tbody></table>"
      ],
      "text/plain": [
       "<pandas.io.formats.style.Styler at 0x7fd9a2f22a00>"
      ]
     },
     "execution_count": 13,
     "metadata": {},
     "output_type": "execute_result"
    }
   ],
   "source": [
    "df_clv_monthly = pd.DataFrame({'Month': months,\n",
    "                              'CLV': clv_monthly})\n",
    "\n",
    "df_clv_monthly.style.background_gradient()"
   ]
  },
  {
   "cell_type": "code",
   "execution_count": 14,
   "id": "f1dfaef2",
   "metadata": {
    "ExecuteTime": {
     "end_time": "2021-08-07T18:53:30.112419Z",
     "start_time": "2021-08-07T18:53:29.882928Z"
    }
   },
   "outputs": [
    {
     "data": {
      "text/plain": [
       "<AxesSubplot:xlabel='Month'>"
      ]
     },
     "execution_count": 14,
     "metadata": {},
     "output_type": "execute_result"
    },
    {
     "data": {
      "image/png": "[encoded data removed]",
      "text/plain": [
       "<Figure size 432x288 with 1 Axes>"
      ]
     },
     "metadata": {},
     "output_type": "display_data"
    }
   ],
   "source": [
    "df_clv_monthly.plot.bar(x='Month',y='CLV')"
   ]
  },
  {
   "cell_type": "code",
   "execution_count": 15,
   "id": "ba6b8ef8",
   "metadata": {
    "ExecuteTime": {
     "end_time": "2021-08-07T18:53:30.120286Z",
     "start_time": "2021-08-07T18:53:30.117048Z"
    }
   },
   "outputs": [],
   "source": [
    "\"\"\"\n",
    "Observation:\n",
    "\n",
    "1. We can see CLV is very in December,\n",
    "   this might be becasue of Christmas.\n",
    "\n",
    "\"\"\";"
   ]
  },
  {
   "cell_type": "markdown",
   "id": "0bba7959",
   "metadata": {},
   "source": [
    "# Method 03: BG/NBD Model + Gamma-Gamma Model\n",
    "\n",
    "- Install module lifetimes `conda install -y -n fin -c conda-forge lifetimes`\n",
    "\n",
    "- BG/NBD stands for Beta Geometric/Negative Binomial Distribution\n",
    "\n",
    "The BG/NBD modelling is one of the most used models as like Pareto/NBD model.\n",
    "\n",
    "These methods try to predict the future transactions of each customers.\n",
    "\n",
    "To calculate the monetary value we use gamma-gamma model.\n",
    "\n",
    "\n",
    "Assumptions of he BG/NBD model:\n",
    "1. When a user is active, number of transactions in a time t is described by Poisson distribution with rate lambda.\n",
    "1. Heterogeneity in transaction across users (difference in purchasing behavior across users) has Gamma distribution with shape parameter r and scale parameter a.\n",
    "1. Users may become inactive after any transaction with probability p and their dropout point is distributed between purchases with Geometric distribution.\n",
    "1. Heterogeneity in dropout probability has Beta distribution with the two shape parameters alpha and beta.\n",
    "1. Transaction rate and dropout probability vary independently across users.\n",
    "\n",
    "\n",
    "RFM Analysis:\n",
    "\n",
    "- RFM means Recency, Frequency, Monetary Value.\n",
    "\n",
    "```\n",
    "frequency - the number of repeat purchases (more than 1 purchases)\n",
    "recency - the time between the first and the last transaction\n",
    "T - the time between the first purchase and the end of the transaction period\n",
    "monetary_value - it is the mean of a given customers sales value\n",
    "```"
   ]
  },
  {
   "cell_type": "code",
   "execution_count": 16,
   "id": "ca29eca8",
   "metadata": {
    "ExecuteTime": {
     "end_time": "2021-08-07T18:53:30.126151Z",
     "start_time": "2021-08-07T18:53:30.122587Z"
    }
   },
   "outputs": [],
   "source": [
    "import lifetimes"
   ]
  },
  {
   "cell_type": "code",
   "execution_count": 17,
   "id": "e8ffa811",
   "metadata": {
    "ExecuteTime": {
     "end_time": "2021-08-07T18:53:30.146276Z",
     "start_time": "2021-08-07T18:53:30.128250Z"
    }
   },
   "outputs": [
    {
     "data": {
      "text/html": [
       "<div>\n",
       "<style scoped>\n",
       "    .dataframe tbody tr th:only-of-type {\n",
       "        vertical-align: middle;\n",
       "    }\n",
       "\n",
       "    .dataframe tbody tr th {\n",
       "        vertical-align: top;\n",
       "    }\n",
       "\n",
       "    .dataframe thead th {\n",
       "        text-align: right;\n",
       "    }\n",
       "</style>\n",
       "<table border=\"1\" class=\"dataframe\">\n",
       "  <thead>\n",
       "    <tr style=\"text-align: right;\">\n",
       "      <th></th>\n",
       "      <th>0</th>\n",
       "      <th>1</th>\n",
       "      <th>2</th>\n",
       "    </tr>\n",
       "  </thead>\n",
       "  <tbody>\n",
       "    <tr>\n",
       "      <th>0</th>\n",
       "      <td>BaseFitter</td>\n",
       "      <td>ModifiedBetaGeoFitter</td>\n",
       "      <td>generate_data</td>\n",
       "    </tr>\n",
       "    <tr>\n",
       "      <th>1</th>\n",
       "      <td>BetaGeoBetaBinomFitter</td>\n",
       "      <td>ParetoNBDFitter</td>\n",
       "      <td>utils</td>\n",
       "    </tr>\n",
       "    <tr>\n",
       "      <th>2</th>\n",
       "      <td>BetaGeoFitter</td>\n",
       "      <td>fitters</td>\n",
       "      <td>version</td>\n",
       "    </tr>\n",
       "    <tr>\n",
       "      <th>3</th>\n",
       "      <td>GammaGammaFitter</td>\n",
       "      <td></td>\n",
       "      <td></td>\n",
       "    </tr>\n",
       "  </tbody>\n",
       "</table>\n",
       "</div>"
      ],
      "text/plain": [
       "                        0                      1              2\n",
       "0              BaseFitter  ModifiedBetaGeoFitter  generate_data\n",
       "1  BetaGeoBetaBinomFitter        ParetoNBDFitter          utils\n",
       "2           BetaGeoFitter                fitters        version\n",
       "3        GammaGammaFitter                                      "
      ]
     },
     "execution_count": 17,
     "metadata": {},
     "output_type": "execute_result"
    }
   ],
   "source": [
    "bp.show_methods(lifetimes)"
   ]
  },
  {
   "cell_type": "code",
   "execution_count": 18,
   "id": "dbd21281",
   "metadata": {
    "ExecuteTime": {
     "end_time": "2021-08-07T18:53:30.165045Z",
     "start_time": "2021-08-07T18:53:30.149520Z"
    }
   },
   "outputs": [
    {
     "data": {
      "text/html": [
       "<div>\n",
       "<style scoped>\n",
       "    .dataframe tbody tr th:only-of-type {\n",
       "        vertical-align: middle;\n",
       "    }\n",
       "\n",
       "    .dataframe tbody tr th {\n",
       "        vertical-align: top;\n",
       "    }\n",
       "\n",
       "    .dataframe thead th {\n",
       "        text-align: right;\n",
       "    }\n",
       "</style>\n",
       "<table border=\"1\" class=\"dataframe\">\n",
       "  <thead>\n",
       "    <tr style=\"text-align: right;\">\n",
       "      <th></th>\n",
       "      <th>0</th>\n",
       "      <th>1</th>\n",
       "      <th>2</th>\n",
       "    </tr>\n",
       "  </thead>\n",
       "  <tbody>\n",
       "    <tr>\n",
       "      <th>0</th>\n",
       "      <td>ConvergenceError</td>\n",
       "      <td>dill</td>\n",
       "      <td>expected_cumulative_transactions</td>\n",
       "    </tr>\n",
       "    <tr>\n",
       "      <th>1</th>\n",
       "      <td>calculate_alive_path</td>\n",
       "      <td>division</td>\n",
       "      <td>summary_data_from_transaction_data</td>\n",
       "    </tr>\n",
       "    <tr>\n",
       "      <th>2</th>\n",
       "      <td>calibration_and_holdout_data</td>\n",
       "      <td></td>\n",
       "      <td></td>\n",
       "    </tr>\n",
       "  </tbody>\n",
       "</table>\n",
       "</div>"
      ],
      "text/plain": [
       "                              0         1                                   2\n",
       "0              ConvergenceError      dill    expected_cumulative_transactions\n",
       "1          calculate_alive_path  division  summary_data_from_transaction_data\n",
       "2  calibration_and_holdout_data                                              "
      ]
     },
     "execution_count": 18,
     "metadata": {},
     "output_type": "execute_result"
    }
   ],
   "source": [
    "bp.show_methods(lifetimes.utils)"
   ]
  },
  {
   "cell_type": "markdown",
   "id": "67e243ca",
   "metadata": {},
   "source": [
    "## Get RFM summary data"
   ]
  },
  {
   "cell_type": "code",
   "execution_count": 19,
   "id": "0084ad1c",
   "metadata": {
    "ExecuteTime": {
     "end_time": "2021-08-07T18:53:30.185367Z",
     "start_time": "2021-08-07T18:53:30.168355Z"
    }
   },
   "outputs": [
    {
     "name": "stdout",
     "output_type": "stream",
     "text": [
      "(354321, 6)\n"
     ]
    },
    {
     "data": {
      "text/html": [
       "<div>\n",
       "<style scoped>\n",
       "    .dataframe tbody tr th:only-of-type {\n",
       "        vertical-align: middle;\n",
       "    }\n",
       "\n",
       "    .dataframe tbody tr th {\n",
       "        vertical-align: top;\n",
       "    }\n",
       "\n",
       "    .dataframe thead th {\n",
       "        text-align: right;\n",
       "    }\n",
       "</style>\n",
       "<table border=\"1\" class=\"dataframe\">\n",
       "  <thead>\n",
       "    <tr style=\"text-align: right;\">\n",
       "      <th></th>\n",
       "      <th>customer_id</th>\n",
       "      <th>invoice_no</th>\n",
       "      <th>invoice_date</th>\n",
       "      <th>quantity</th>\n",
       "      <th>unit_price</th>\n",
       "      <th>total_sales</th>\n",
       "    </tr>\n",
       "  </thead>\n",
       "  <tbody>\n",
       "    <tr>\n",
       "      <th>0</th>\n",
       "      <td>17850.0</td>\n",
       "      <td>536365</td>\n",
       "      <td>2010-12-01 08:26:00</td>\n",
       "      <td>6</td>\n",
       "      <td>2.55</td>\n",
       "      <td>15.30</td>\n",
       "    </tr>\n",
       "    <tr>\n",
       "      <th>1</th>\n",
       "      <td>17850.0</td>\n",
       "      <td>536365</td>\n",
       "      <td>2010-12-01 08:26:00</td>\n",
       "      <td>6</td>\n",
       "      <td>3.39</td>\n",
       "      <td>20.34</td>\n",
       "    </tr>\n",
       "  </tbody>\n",
       "</table>\n",
       "</div>"
      ],
      "text/plain": [
       "  customer_id invoice_no        invoice_date  quantity  unit_price  \\\n",
       "0     17850.0     536365 2010-12-01 08:26:00         6        2.55   \n",
       "1     17850.0     536365 2010-12-01 08:26:00         6        3.39   \n",
       "\n",
       "   total_sales  \n",
       "0        15.30  \n",
       "1        20.34  "
      ]
     },
     "execution_count": 19,
     "metadata": {},
     "output_type": "execute_result"
    }
   ],
   "source": [
    "print(df.shape)\n",
    "df.head(2)"
   ]
  },
  {
   "cell_type": "code",
   "execution_count": 20,
   "id": "b6571cfd",
   "metadata": {
    "ExecuteTime": {
     "end_time": "2021-08-07T18:53:30.208750Z",
     "start_time": "2021-08-07T18:53:30.188157Z"
    }
   },
   "outputs": [
    {
     "data": {
      "text/plain": [
       "0"
      ]
     },
     "execution_count": 20,
     "metadata": {},
     "output_type": "execute_result"
    }
   ],
   "source": [
    "# make sure thare are no nans in customer id\n",
    "df['customer_id'].isna().sum()"
   ]
  },
  {
   "cell_type": "code",
   "execution_count": 21,
   "id": "fda28222",
   "metadata": {
    "ExecuteTime": {
     "end_time": "2021-08-07T18:53:30.221063Z",
     "start_time": "2021-08-07T18:53:30.211010Z"
    }
   },
   "outputs": [
    {
     "data": {
      "text/plain": [
       "dtype('O')"
      ]
     },
     "execution_count": 21,
     "metadata": {},
     "output_type": "execute_result"
    }
   ],
   "source": [
    "df.customer_id.dtype"
   ]
  },
  {
   "cell_type": "code",
   "execution_count": 22,
   "id": "0e0e5899",
   "metadata": {
    "ExecuteTime": {
     "end_time": "2021-08-07T18:53:30.238890Z",
     "start_time": "2021-08-07T18:53:30.223537Z"
    }
   },
   "outputs": [
    {
     "data": {
      "text/plain": [
       "(0, 6)"
      ]
     },
     "execution_count": 22,
     "metadata": {},
     "output_type": "execute_result"
    }
   ],
   "source": [
    "df.query(\"customer_id == 'nan'\").shape"
   ]
  },
  {
   "cell_type": "code",
   "execution_count": 23,
   "id": "897e9555",
   "metadata": {
    "ExecuteTime": {
     "end_time": "2021-08-07T18:53:30.571504Z",
     "start_time": "2021-08-07T18:53:30.251733Z"
    }
   },
   "outputs": [
    {
     "name": "stdout",
     "output_type": "stream",
     "text": [
      "(3920, 5)\n"
     ]
    },
    {
     "data": {
      "text/html": [
       "<div>\n",
       "<style scoped>\n",
       "    .dataframe tbody tr th:only-of-type {\n",
       "        vertical-align: middle;\n",
       "    }\n",
       "\n",
       "    .dataframe tbody tr th {\n",
       "        vertical-align: top;\n",
       "    }\n",
       "\n",
       "    .dataframe thead th {\n",
       "        text-align: right;\n",
       "    }\n",
       "</style>\n",
       "<table border=\"1\" class=\"dataframe\">\n",
       "  <thead>\n",
       "    <tr style=\"text-align: right;\">\n",
       "      <th></th>\n",
       "      <th>customer_id</th>\n",
       "      <th>frequency</th>\n",
       "      <th>recency</th>\n",
       "      <th>T</th>\n",
       "      <th>monetary_value</th>\n",
       "    </tr>\n",
       "  </thead>\n",
       "  <tbody>\n",
       "    <tr>\n",
       "      <th>0</th>\n",
       "      <td>12346.0</td>\n",
       "      <td>0.0</td>\n",
       "      <td>0.0</td>\n",
       "      <td>325.0</td>\n",
       "      <td>0.000</td>\n",
       "    </tr>\n",
       "    <tr>\n",
       "      <th>1</th>\n",
       "      <td>12747.0</td>\n",
       "      <td>10.0</td>\n",
       "      <td>367.0</td>\n",
       "      <td>369.0</td>\n",
       "      <td>383.745</td>\n",
       "    </tr>\n",
       "  </tbody>\n",
       "</table>\n",
       "</div>"
      ],
      "text/plain": [
       "  customer_id  frequency  recency      T  monetary_value\n",
       "0     12346.0        0.0      0.0  325.0           0.000\n",
       "1     12747.0       10.0    367.0  369.0         383.745"
      ]
     },
     "execution_count": 23,
     "metadata": {},
     "output_type": "execute_result"
    }
   ],
   "source": [
    "df_rfm = lifetimes.utils.summary_data_from_transaction_data(\n",
    "    df,'customer_id','invoice_date','total_sales')\n",
    "\n",
    "df_rfm = df_rfm.reset_index()\n",
    "\n",
    "print(df_rfm.shape)\n",
    "df_rfm.head(2)"
   ]
  },
  {
   "cell_type": "code",
   "execution_count": 24,
   "id": "4f7ecc1b",
   "metadata": {
    "ExecuteTime": {
     "end_time": "2021-08-07T18:53:30.619965Z",
     "start_time": "2021-08-07T18:53:30.616964Z"
    }
   },
   "outputs": [],
   "source": [
    "\"\"\"\n",
    "Observation:\n",
    "\n",
    "Here the value of 0 in frequency and recency means that,\n",
    "these are one time buyers.\n",
    "\n",
    "\"\"\";"
   ]
  },
  {
   "cell_type": "code",
   "execution_count": 25,
   "id": "3e958f06",
   "metadata": {
    "ExecuteTime": {
     "end_time": "2021-08-07T18:53:30.821714Z",
     "start_time": "2021-08-07T18:53:30.623542Z"
    }
   },
   "outputs": [
    {
     "data": {
      "text/plain": [
       "<AxesSubplot:>"
      ]
     },
     "execution_count": 25,
     "metadata": {},
     "output_type": "execute_result"
    },
    {
     "data": {
      "image/png": "[encoded data removed]",
      "text/plain": [
       "<Figure size 432x288 with 1 Axes>"
      ]
     },
     "metadata": {},
     "output_type": "display_data"
    }
   ],
   "source": [
    "df_rfm['frequency'].hist(bins=50)"
   ]
  },
  {
   "cell_type": "code",
   "execution_count": 26,
   "id": "bbb55da7",
   "metadata": {
    "ExecuteTime": {
     "end_time": "2021-08-07T18:53:30.841575Z",
     "start_time": "2021-08-07T18:53:30.824344Z"
    }
   },
   "outputs": [
    {
     "data": {
      "text/html": [
       "<div>\n",
       "<style scoped>\n",
       "    .dataframe tbody tr th:only-of-type {\n",
       "        vertical-align: middle;\n",
       "    }\n",
       "\n",
       "    .dataframe tbody tr th {\n",
       "        vertical-align: top;\n",
       "    }\n",
       "\n",
       "    .dataframe thead th {\n",
       "        text-align: right;\n",
       "    }\n",
       "</style>\n",
       "<table border=\"1\" class=\"dataframe\">\n",
       "  <thead>\n",
       "    <tr style=\"text-align: right;\">\n",
       "      <th></th>\n",
       "      <th>frequency</th>\n",
       "      <th>recency</th>\n",
       "      <th>T</th>\n",
       "      <th>monetary_value</th>\n",
       "    </tr>\n",
       "  </thead>\n",
       "  <tbody>\n",
       "    <tr>\n",
       "      <th>count</th>\n",
       "      <td>3920.000000</td>\n",
       "      <td>3920.000000</td>\n",
       "      <td>3920.000000</td>\n",
       "      <td>3920.000000</td>\n",
       "    </tr>\n",
       "    <tr>\n",
       "      <th>mean</th>\n",
       "      <td>2.850000</td>\n",
       "      <td>131.343622</td>\n",
       "      <td>223.085714</td>\n",
       "      <td>293.099532</td>\n",
       "    </tr>\n",
       "    <tr>\n",
       "      <th>std</th>\n",
       "      <td>5.713358</td>\n",
       "      <td>132.443948</td>\n",
       "      <td>118.037855</td>\n",
       "      <td>2734.951972</td>\n",
       "    </tr>\n",
       "    <tr>\n",
       "      <th>min</th>\n",
       "      <td>0.000000</td>\n",
       "      <td>0.000000</td>\n",
       "      <td>1.000000</td>\n",
       "      <td>0.000000</td>\n",
       "    </tr>\n",
       "    <tr>\n",
       "      <th>25%</th>\n",
       "      <td>0.000000</td>\n",
       "      <td>0.000000</td>\n",
       "      <td>112.000000</td>\n",
       "      <td>0.000000</td>\n",
       "    </tr>\n",
       "    <tr>\n",
       "      <th>50%</th>\n",
       "      <td>1.000000</td>\n",
       "      <td>94.000000</td>\n",
       "      <td>249.000000</td>\n",
       "      <td>173.625000</td>\n",
       "    </tr>\n",
       "    <tr>\n",
       "      <th>75%</th>\n",
       "      <td>3.000000</td>\n",
       "      <td>252.000000</td>\n",
       "      <td>327.000000</td>\n",
       "      <td>347.946042</td>\n",
       "    </tr>\n",
       "    <tr>\n",
       "      <th>max</th>\n",
       "      <td>112.000000</td>\n",
       "      <td>373.000000</td>\n",
       "      <td>373.000000</td>\n",
       "      <td>168469.600000</td>\n",
       "    </tr>\n",
       "  </tbody>\n",
       "</table>\n",
       "</div>"
      ],
      "text/plain": [
       "         frequency      recency            T  monetary_value\n",
       "count  3920.000000  3920.000000  3920.000000     3920.000000\n",
       "mean      2.850000   131.343622   223.085714      293.099532\n",
       "std       5.713358   132.443948   118.037855     2734.951972\n",
       "min       0.000000     0.000000     1.000000        0.000000\n",
       "25%       0.000000     0.000000   112.000000        0.000000\n",
       "50%       1.000000    94.000000   249.000000      173.625000\n",
       "75%       3.000000   252.000000   327.000000      347.946042\n",
       "max     112.000000   373.000000   373.000000   168469.600000"
      ]
     },
     "execution_count": 26,
     "metadata": {},
     "output_type": "execute_result"
    }
   ],
   "source": [
    "df_rfm.describe()"
   ]
  },
  {
   "cell_type": "markdown",
   "id": "a176ccf6",
   "metadata": {},
   "source": [
    "## BG/NBD Fitting to get expected number of purchases"
   ]
  },
  {
   "cell_type": "code",
   "execution_count": 27,
   "id": "15497286",
   "metadata": {
    "ExecuteTime": {
     "end_time": "2021-08-07T18:53:30.848807Z",
     "start_time": "2021-08-07T18:53:30.844119Z"
    }
   },
   "outputs": [],
   "source": [
    "# lifetimes.BetaGeoFitter?"
   ]
  },
  {
   "cell_type": "code",
   "execution_count": 28,
   "id": "812bf4c2",
   "metadata": {
    "ExecuteTime": {
     "end_time": "2021-08-07T18:53:31.082224Z",
     "start_time": "2021-08-07T18:53:30.855794Z"
    }
   },
   "outputs": [
    {
     "data": {
      "text/html": [
       "<div>\n",
       "<style scoped>\n",
       "    .dataframe tbody tr th:only-of-type {\n",
       "        vertical-align: middle;\n",
       "    }\n",
       "\n",
       "    .dataframe tbody tr th {\n",
       "        vertical-align: top;\n",
       "    }\n",
       "\n",
       "    .dataframe thead th {\n",
       "        text-align: right;\n",
       "    }\n",
       "</style>\n",
       "<table border=\"1\" class=\"dataframe\">\n",
       "  <thead>\n",
       "    <tr style=\"text-align: right;\">\n",
       "      <th></th>\n",
       "      <th>coef</th>\n",
       "      <th>se(coef)</th>\n",
       "      <th>lower 95% bound</th>\n",
       "      <th>upper 95% bound</th>\n",
       "    </tr>\n",
       "  </thead>\n",
       "  <tbody>\n",
       "    <tr>\n",
       "      <th>r</th>\n",
       "      <td>0.833433</td>\n",
       "      <td>0.028549</td>\n",
       "      <td>0.777477</td>\n",
       "      <td>0.889389</td>\n",
       "    </tr>\n",
       "    <tr>\n",
       "      <th>alpha</th>\n",
       "      <td>69.637792</td>\n",
       "      <td>2.788365</td>\n",
       "      <td>64.172597</td>\n",
       "      <td>75.102988</td>\n",
       "    </tr>\n",
       "    <tr>\n",
       "      <th>a</th>\n",
       "      <td>0.005493</td>\n",
       "      <td>0.013933</td>\n",
       "      <td>-0.021816</td>\n",
       "      <td>0.032802</td>\n",
       "    </tr>\n",
       "    <tr>\n",
       "      <th>b</th>\n",
       "      <td>7.955385</td>\n",
       "      <td>23.159843</td>\n",
       "      <td>-37.437907</td>\n",
       "      <td>53.348677</td>\n",
       "    </tr>\n",
       "  </tbody>\n",
       "</table>\n",
       "</div>"
      ],
      "text/plain": [
       "            coef   se(coef)  lower 95% bound  upper 95% bound\n",
       "r       0.833433   0.028549         0.777477         0.889389\n",
       "alpha  69.637792   2.788365        64.172597        75.102988\n",
       "a       0.005493   0.013933        -0.021816         0.032802\n",
       "b       7.955385  23.159843       -37.437907        53.348677"
      ]
     },
     "execution_count": 28,
     "metadata": {},
     "output_type": "execute_result"
    }
   ],
   "source": [
    "bgf = lifetimes.BetaGeoFitter(penalizer_coef=0.0)\n",
    "\n",
    "bgf.fit(df_rfm['frequency'],df_rfm['recency'],df_rfm['T']);\n",
    "\n",
    "bgf.summary"
   ]
  },
  {
   "cell_type": "markdown",
   "id": "b28041b5",
   "metadata": {},
   "source": [
    "### Customer alive probability"
   ]
  },
  {
   "cell_type": "code",
   "execution_count": 29,
   "id": "d24952f6",
   "metadata": {
    "ExecuteTime": {
     "end_time": "2021-08-07T18:53:31.100580Z",
     "start_time": "2021-08-07T18:53:31.085774Z"
    }
   },
   "outputs": [
    {
     "data": {
      "text/html": [
       "<div>\n",
       "<style scoped>\n",
       "    .dataframe tbody tr th:only-of-type {\n",
       "        vertical-align: middle;\n",
       "    }\n",
       "\n",
       "    .dataframe tbody tr th {\n",
       "        vertical-align: top;\n",
       "    }\n",
       "\n",
       "    .dataframe thead th {\n",
       "        text-align: right;\n",
       "    }\n",
       "</style>\n",
       "<table border=\"1\" class=\"dataframe\">\n",
       "  <thead>\n",
       "    <tr style=\"text-align: right;\">\n",
       "      <th></th>\n",
       "      <th>0</th>\n",
       "      <th>1</th>\n",
       "    </tr>\n",
       "  </thead>\n",
       "  <tbody>\n",
       "    <tr>\n",
       "      <th>0</th>\n",
       "      <td>conditional_expected_number_of_purchases_up_to_time</td>\n",
       "      <td>params_</td>\n",
       "    </tr>\n",
       "    <tr>\n",
       "      <th>1</th>\n",
       "      <td>conditional_probability_alive</td>\n",
       "      <td>penalizer_coef</td>\n",
       "    </tr>\n",
       "    <tr>\n",
       "      <th>2</th>\n",
       "      <td>conditional_probability_alive_matrix</td>\n",
       "      <td>predict</td>\n",
       "    </tr>\n",
       "    <tr>\n",
       "      <th>3</th>\n",
       "      <td>confidence_intervals_</td>\n",
       "      <td>probability_of_n_purchases_up_to_time</td>\n",
       "    </tr>\n",
       "    <tr>\n",
       "      <th>4</th>\n",
       "      <td>data</td>\n",
       "      <td>save_model</td>\n",
       "    </tr>\n",
       "    <tr>\n",
       "      <th>5</th>\n",
       "      <td>expected_number_of_purchases_up_to_time</td>\n",
       "      <td>standard_errors_</td>\n",
       "    </tr>\n",
       "    <tr>\n",
       "      <th>6</th>\n",
       "      <td>fit</td>\n",
       "      <td>summary</td>\n",
       "    </tr>\n",
       "    <tr>\n",
       "      <th>7</th>\n",
       "      <td>generate_new_data</td>\n",
       "      <td>variance_matrix_</td>\n",
       "    </tr>\n",
       "    <tr>\n",
       "      <th>8</th>\n",
       "      <td>load_model</td>\n",
       "      <td></td>\n",
       "    </tr>\n",
       "  </tbody>\n",
       "</table>\n",
       "</div>"
      ],
      "text/plain": [
       "                                                     0  \\\n",
       "0  conditional_expected_number_of_purchases_up_to_time   \n",
       "1                        conditional_probability_alive   \n",
       "2                 conditional_probability_alive_matrix   \n",
       "3                                confidence_intervals_   \n",
       "4                                                 data   \n",
       "5              expected_number_of_purchases_up_to_time   \n",
       "6                                                  fit   \n",
       "7                                    generate_new_data   \n",
       "8                                           load_model   \n",
       "\n",
       "                                       1  \n",
       "0                                params_  \n",
       "1                         penalizer_coef  \n",
       "2                                predict  \n",
       "3  probability_of_n_purchases_up_to_time  \n",
       "4                             save_model  \n",
       "5                       standard_errors_  \n",
       "6                                summary  \n",
       "7                       variance_matrix_  \n",
       "8                                         "
      ]
     },
     "execution_count": 29,
     "metadata": {},
     "output_type": "execute_result"
    }
   ],
   "source": [
    "bp.show_methods(bgf,2)"
   ]
  },
  {
   "cell_type": "code",
   "execution_count": 30,
   "id": "f77c76e4",
   "metadata": {
    "ExecuteTime": {
     "end_time": "2021-08-07T18:53:31.119313Z",
     "start_time": "2021-08-07T18:53:31.104280Z"
    }
   },
   "outputs": [
    {
     "data": {
      "text/html": [
       "<div>\n",
       "<style scoped>\n",
       "    .dataframe tbody tr th:only-of-type {\n",
       "        vertical-align: middle;\n",
       "    }\n",
       "\n",
       "    .dataframe tbody tr th {\n",
       "        vertical-align: top;\n",
       "    }\n",
       "\n",
       "    .dataframe thead th {\n",
       "        text-align: right;\n",
       "    }\n",
       "</style>\n",
       "<table border=\"1\" class=\"dataframe\">\n",
       "  <thead>\n",
       "    <tr style=\"text-align: right;\">\n",
       "      <th></th>\n",
       "      <th>0</th>\n",
       "      <th>1</th>\n",
       "    </tr>\n",
       "  </thead>\n",
       "  <tbody>\n",
       "    <tr>\n",
       "      <th>0</th>\n",
       "      <td>calculate_alive_path</td>\n",
       "      <td>plot_frequency_recency_matrix</td>\n",
       "    </tr>\n",
       "    <tr>\n",
       "      <th>1</th>\n",
       "      <td>coalesce</td>\n",
       "      <td>plot_history_alive</td>\n",
       "    </tr>\n",
       "    <tr>\n",
       "      <th>2</th>\n",
       "      <td>expected_cumulative_transactions</td>\n",
       "      <td>plot_incremental_transactions</td>\n",
       "    </tr>\n",
       "    <tr>\n",
       "      <th>3</th>\n",
       "      <td>forceAspect</td>\n",
       "      <td>plot_period_transactions</td>\n",
       "    </tr>\n",
       "    <tr>\n",
       "      <th>4</th>\n",
       "      <td>plot_calibration_purchases_vs_holdout_purchases</td>\n",
       "      <td>plot_probability_alive_matrix</td>\n",
       "    </tr>\n",
       "    <tr>\n",
       "      <th>5</th>\n",
       "      <td>plot_cumulative_transactions</td>\n",
       "      <td>plot_transaction_rate_heterogeneity</td>\n",
       "    </tr>\n",
       "    <tr>\n",
       "      <th>6</th>\n",
       "      <td>plot_dropout_rate_heterogeneity</td>\n",
       "      <td>stats</td>\n",
       "    </tr>\n",
       "    <tr>\n",
       "      <th>7</th>\n",
       "      <td>plot_expected_repeat_purchases</td>\n",
       "      <td></td>\n",
       "    </tr>\n",
       "  </tbody>\n",
       "</table>\n",
       "</div>"
      ],
      "text/plain": [
       "                                                 0  \\\n",
       "0                             calculate_alive_path   \n",
       "1                                         coalesce   \n",
       "2                 expected_cumulative_transactions   \n",
       "3                                      forceAspect   \n",
       "4  plot_calibration_purchases_vs_holdout_purchases   \n",
       "5                     plot_cumulative_transactions   \n",
       "6                  plot_dropout_rate_heterogeneity   \n",
       "7                   plot_expected_repeat_purchases   \n",
       "\n",
       "                                     1  \n",
       "0        plot_frequency_recency_matrix  \n",
       "1                   plot_history_alive  \n",
       "2        plot_incremental_transactions  \n",
       "3             plot_period_transactions  \n",
       "4        plot_probability_alive_matrix  \n",
       "5  plot_transaction_rate_heterogeneity  \n",
       "6                                stats  \n",
       "7                                       "
      ]
     },
     "execution_count": 30,
     "metadata": {},
     "output_type": "execute_result"
    }
   ],
   "source": [
    "import lifetimes.plotting\n",
    "bp.show_methods(lifetimes.plotting,2)"
   ]
  },
  {
   "cell_type": "code",
   "execution_count": 31,
   "id": "dd79c19a",
   "metadata": {
    "ExecuteTime": {
     "end_time": "2021-08-07T18:53:31.137730Z",
     "start_time": "2021-08-07T18:53:31.121803Z"
    }
   },
   "outputs": [
    {
     "data": {
      "text/html": [
       "<div>\n",
       "<style scoped>\n",
       "    .dataframe tbody tr th:only-of-type {\n",
       "        vertical-align: middle;\n",
       "    }\n",
       "\n",
       "    .dataframe tbody tr th {\n",
       "        vertical-align: top;\n",
       "    }\n",
       "\n",
       "    .dataframe thead th {\n",
       "        text-align: right;\n",
       "    }\n",
       "</style>\n",
       "<table border=\"1\" class=\"dataframe\">\n",
       "  <thead>\n",
       "    <tr style=\"text-align: right;\">\n",
       "      <th></th>\n",
       "      <th>customer_id</th>\n",
       "      <th>frequency</th>\n",
       "      <th>recency</th>\n",
       "      <th>T</th>\n",
       "      <th>monetary_value</th>\n",
       "      <th>prob_alive</th>\n",
       "    </tr>\n",
       "  </thead>\n",
       "  <tbody>\n",
       "    <tr>\n",
       "      <th>0</th>\n",
       "      <td>12346.0</td>\n",
       "      <td>0.0</td>\n",
       "      <td>0.0</td>\n",
       "      <td>325.0</td>\n",
       "      <td>0.000000</td>\n",
       "      <td>1.000000</td>\n",
       "    </tr>\n",
       "    <tr>\n",
       "      <th>1</th>\n",
       "      <td>12747.0</td>\n",
       "      <td>10.0</td>\n",
       "      <td>367.0</td>\n",
       "      <td>369.0</td>\n",
       "      <td>383.745000</td>\n",
       "      <td>0.999660</td>\n",
       "    </tr>\n",
       "    <tr>\n",
       "      <th>2</th>\n",
       "      <td>12748.0</td>\n",
       "      <td>112.0</td>\n",
       "      <td>373.0</td>\n",
       "      <td>373.0</td>\n",
       "      <td>301.024821</td>\n",
       "      <td>0.999954</td>\n",
       "    </tr>\n",
       "    <tr>\n",
       "      <th>3</th>\n",
       "      <td>12749.0</td>\n",
       "      <td>3.0</td>\n",
       "      <td>210.0</td>\n",
       "      <td>213.0</td>\n",
       "      <td>1077.260000</td>\n",
       "      <td>0.999426</td>\n",
       "    </tr>\n",
       "    <tr>\n",
       "      <th>4</th>\n",
       "      <td>12820.0</td>\n",
       "      <td>3.0</td>\n",
       "      <td>323.0</td>\n",
       "      <td>326.0</td>\n",
       "      <td>257.293333</td>\n",
       "      <td>0.999432</td>\n",
       "    </tr>\n",
       "  </tbody>\n",
       "</table>\n",
       "</div>"
      ],
      "text/plain": [
       "  customer_id  frequency  recency      T  monetary_value  prob_alive\n",
       "0     12346.0        0.0      0.0  325.0        0.000000    1.000000\n",
       "1     12747.0       10.0    367.0  369.0      383.745000    0.999660\n",
       "2     12748.0      112.0    373.0  373.0      301.024821    0.999954\n",
       "3     12749.0        3.0    210.0  213.0     1077.260000    0.999426\n",
       "4     12820.0        3.0    323.0  326.0      257.293333    0.999432"
      ]
     },
     "execution_count": 31,
     "metadata": {},
     "output_type": "execute_result"
    }
   ],
   "source": [
    "df_rfm['prob_alive'] = bgf.conditional_probability_alive(\n",
    "    df_rfm['frequency'],\n",
    "    df_rfm['recency'],\n",
    "    df_rfm['T']\n",
    ")\n",
    "df_rfm.head()"
   ]
  },
  {
   "cell_type": "code",
   "execution_count": 32,
   "id": "979564ac",
   "metadata": {
    "ExecuteTime": {
     "end_time": "2021-08-07T18:53:31.144455Z",
     "start_time": "2021-08-07T18:53:31.140161Z"
    }
   },
   "outputs": [],
   "source": [
    "\"\"\"\n",
    "Note:\n",
    "\n",
    "The probabilty of being alive is calculated based on\n",
    "  the recency and frequency of a customer.\n",
    "  \n",
    "So, If a customer has bought multiple times (frequency)\n",
    "    and the time between first & last transaction is high (recency),\n",
    "    then their probability of being alive is high.\n",
    "\n",
    "\"\"\";"
   ]
  },
  {
   "cell_type": "code",
   "execution_count": 33,
   "id": "4adf34e0",
   "metadata": {
    "ExecuteTime": {
     "end_time": "2021-08-07T18:53:31.528406Z",
     "start_time": "2021-08-07T18:53:31.146623Z"
    }
   },
   "outputs": [
    {
     "data": {
      "image/png": "[encoded data removed]",
      "text/plain": [
       "<Figure size 864x576 with 2 Axes>"
      ]
     },
     "metadata": {},
     "output_type": "display_data"
    }
   ],
   "source": [
    "from lifetimes.plotting import plot_probability_alive_matrix\n",
    "\n",
    "fig = plt.figure(figsize=(12,8))\n",
    "plot_probability_alive_matrix(bgf);"
   ]
  },
  {
   "cell_type": "markdown",
   "id": "2cee197d",
   "metadata": {},
   "source": [
    "### Calculate expected number of purchase upto time"
   ]
  },
  {
   "cell_type": "code",
   "execution_count": 34,
   "id": "81317d7b",
   "metadata": {
    "ExecuteTime": {
     "end_time": "2021-08-07T18:53:31.558474Z",
     "start_time": "2021-08-07T18:53:31.532770Z"
    }
   },
   "outputs": [
    {
     "data": {
      "text/html": [
       "<div>\n",
       "<style scoped>\n",
       "    .dataframe tbody tr th:only-of-type {\n",
       "        vertical-align: middle;\n",
       "    }\n",
       "\n",
       "    .dataframe tbody tr th {\n",
       "        vertical-align: top;\n",
       "    }\n",
       "\n",
       "    .dataframe thead th {\n",
       "        text-align: right;\n",
       "    }\n",
       "</style>\n",
       "<table border=\"1\" class=\"dataframe\">\n",
       "  <thead>\n",
       "    <tr style=\"text-align: right;\">\n",
       "      <th></th>\n",
       "      <th>customer_id</th>\n",
       "      <th>frequency</th>\n",
       "      <th>recency</th>\n",
       "      <th>T</th>\n",
       "      <th>monetary_value</th>\n",
       "      <th>prob_alive</th>\n",
       "      <th>exp_num_purchases</th>\n",
       "    </tr>\n",
       "  </thead>\n",
       "  <tbody>\n",
       "    <tr>\n",
       "      <th>2</th>\n",
       "      <td>12748.0</td>\n",
       "      <td>112.0</td>\n",
       "      <td>373.0</td>\n",
       "      <td>373.0</td>\n",
       "      <td>301.024821</td>\n",
       "      <td>0.999954</td>\n",
       "      <td>7.645667</td>\n",
       "    </tr>\n",
       "    <tr>\n",
       "      <th>3593</th>\n",
       "      <td>17841.0</td>\n",
       "      <td>111.0</td>\n",
       "      <td>372.0</td>\n",
       "      <td>373.0</td>\n",
       "      <td>364.452162</td>\n",
       "      <td>0.999940</td>\n",
       "      <td>7.577803</td>\n",
       "    </tr>\n",
       "    <tr>\n",
       "      <th>1771</th>\n",
       "      <td>15311.0</td>\n",
       "      <td>89.0</td>\n",
       "      <td>373.0</td>\n",
       "      <td>373.0</td>\n",
       "      <td>677.729438</td>\n",
       "      <td>0.999943</td>\n",
       "      <td>6.087118</td>\n",
       "    </tr>\n",
       "    <tr>\n",
       "      <th>1267</th>\n",
       "      <td>14606.0</td>\n",
       "      <td>88.0</td>\n",
       "      <td>372.0</td>\n",
       "      <td>373.0</td>\n",
       "      <td>135.890114</td>\n",
       "      <td>0.999929</td>\n",
       "      <td>6.019278</td>\n",
       "    </tr>\n",
       "    <tr>\n",
       "      <th>110</th>\n",
       "      <td>12971.0</td>\n",
       "      <td>70.0</td>\n",
       "      <td>369.0</td>\n",
       "      <td>372.0</td>\n",
       "      <td>159.211286</td>\n",
       "      <td>0.999884</td>\n",
       "      <td>4.810275</td>\n",
       "    </tr>\n",
       "  </tbody>\n",
       "</table>\n",
       "</div>"
      ],
      "text/plain": [
       "     customer_id  frequency  recency      T  monetary_value  prob_alive  \\\n",
       "2        12748.0      112.0    373.0  373.0      301.024821    0.999954   \n",
       "3593     17841.0      111.0    372.0  373.0      364.452162    0.999940   \n",
       "1771     15311.0       89.0    373.0  373.0      677.729438    0.999943   \n",
       "1267     14606.0       88.0    372.0  373.0      135.890114    0.999929   \n",
       "110      12971.0       70.0    369.0  372.0      159.211286    0.999884   \n",
       "\n",
       "      exp_num_purchases  \n",
       "2              7.645667  \n",
       "3593           7.577803  \n",
       "1771           6.087118  \n",
       "1267           6.019278  \n",
       "110            4.810275  "
      ]
     },
     "execution_count": 34,
     "metadata": {},
     "output_type": "execute_result"
    }
   ],
   "source": [
    "t = 30 # next n days\n",
    "df_rfm['exp_num_purchases'] = bgf.conditional_expected_number_of_purchases_up_to_time(\n",
    "    t,\n",
    "    df_rfm['frequency'],\n",
    "    df_rfm['recency'],\n",
    "    df_rfm['T'])\n",
    "\n",
    "df1 = df_rfm.sort_values(by='exp_num_purchases', ascending=False).head()\n",
    "df1"
   ]
  },
  {
   "cell_type": "code",
   "execution_count": 35,
   "id": "cd00825d",
   "metadata": {
    "ExecuteTime": {
     "end_time": "2021-08-07T18:53:31.570728Z",
     "start_time": "2021-08-07T18:53:31.562732Z"
    }
   },
   "outputs": [
    {
     "data": {
      "text/plain": [
       "customer_id             12748.0\n",
       "frequency                 112.0\n",
       "recency                   373.0\n",
       "T                         373.0\n",
       "monetary_value       301.024821\n",
       "prob_alive             0.999954\n",
       "exp_num_purchases      7.645667\n",
       "Name: 2, dtype: object"
      ]
     },
     "execution_count": 35,
     "metadata": {},
     "output_type": "execute_result"
    }
   ],
   "source": [
    "# look at topmost customer\n",
    "ser = df1.iloc[0]\n",
    "ser"
   ]
  },
  {
   "cell_type": "code",
   "execution_count": 36,
   "id": "58c681fd",
   "metadata": {
    "ExecuteTime": {
     "end_time": "2021-08-07T18:53:31.582819Z",
     "start_time": "2021-08-07T18:53:31.575402Z"
    }
   },
   "outputs": [
    {
     "name": "stdout",
     "output_type": "stream",
     "text": [
      "In 373 days,\n",
      "he purchased 112 times.\n",
      "\n",
      "Average per day is: 112/373 =  0.3003 times.\n",
      "\n",
      "In 30 days : 30 * 0.3003 = 9.0080\n",
      "\n",
      "Our prediction is: 7.6457\n",
      "\n",
      "Difference = 9.0080 - 7.6457 = 1.3624\n",
      "\n"
     ]
    }
   ],
   "source": [
    "print(f\"\"\"In {ser['recency']:.0f} days,\n",
    "he purchased {ser['frequency']:.0f} times.\n",
    "\n",
    "Average per day is: {ser['frequency']:.0f}/{ser['recency']:.0f} =  {ser['frequency']/ser['recency']:.4f} times.\n",
    "\n",
    "In {t} days : {t} * {ser['frequency']/ser['recency']:.4f} = {t * ser['frequency']/ser['recency']:.4f}\n",
    "\n",
    "Our prediction is: {ser['exp_num_purchases']:.4f}\n",
    "\n",
    "Difference = {t * ser['frequency']/ser['recency']:.4f} - {ser['exp_num_purchases']:.4f} = {(t * ser['frequency']/ser['recency']) - (ser['exp_num_purchases']):.4f}\n",
    "\"\"\")"
   ]
  },
  {
   "cell_type": "markdown",
   "id": "c0dd6410",
   "metadata": {
    "ExecuteTime": {
     "end_time": "2021-08-07T17:58:54.223921Z",
     "start_time": "2021-08-07T17:58:54.214124Z"
    }
   },
   "source": [
    "## Gamma-Gamma Modelling for Monetary Value\n",
    "\n",
    "assumptions of Gamma-Gamma model are:\n",
    "\n",
    "1. The monetary value of a customer's given transaction varies randomly around their average transaction value.\n",
    "1. Average transaction value varies across customers but do not vary over time for any given customer.\n",
    "1. The distribution of average transaction values across customers is independent of the transaction process.\n",
    "\n",
    "**NOTE**: We are considering only customers who made repeat purchases with the business i.e., frequency > 0. Because, if frequency is 0, it means that they are one time customer and are considered already dead."
   ]
  },
  {
   "cell_type": "code",
   "execution_count": 37,
   "id": "703f484e",
   "metadata": {
    "ExecuteTime": {
     "end_time": "2021-08-07T18:53:31.598116Z",
     "start_time": "2021-08-07T18:53:31.584677Z"
    }
   },
   "outputs": [
    {
     "data": {
      "text/html": [
       "<div>\n",
       "<style scoped>\n",
       "    .dataframe tbody tr th:only-of-type {\n",
       "        vertical-align: middle;\n",
       "    }\n",
       "\n",
       "    .dataframe tbody tr th {\n",
       "        vertical-align: top;\n",
       "    }\n",
       "\n",
       "    .dataframe thead th {\n",
       "        text-align: right;\n",
       "    }\n",
       "</style>\n",
       "<table border=\"1\" class=\"dataframe\">\n",
       "  <thead>\n",
       "    <tr style=\"text-align: right;\">\n",
       "      <th></th>\n",
       "      <th>customer_id</th>\n",
       "      <th>frequency</th>\n",
       "      <th>recency</th>\n",
       "      <th>T</th>\n",
       "      <th>monetary_value</th>\n",
       "      <th>prob_alive</th>\n",
       "      <th>exp_num_purchases</th>\n",
       "    </tr>\n",
       "  </thead>\n",
       "  <tbody>\n",
       "    <tr>\n",
       "      <th>0</th>\n",
       "      <td>12346.0</td>\n",
       "      <td>0.0</td>\n",
       "      <td>0.0</td>\n",
       "      <td>325.0</td>\n",
       "      <td>0.000</td>\n",
       "      <td>1.00000</td>\n",
       "      <td>0.063354</td>\n",
       "    </tr>\n",
       "    <tr>\n",
       "      <th>1</th>\n",
       "      <td>12747.0</td>\n",
       "      <td>10.0</td>\n",
       "      <td>367.0</td>\n",
       "      <td>369.0</td>\n",
       "      <td>383.745</td>\n",
       "      <td>0.99966</td>\n",
       "      <td>0.740595</td>\n",
       "    </tr>\n",
       "  </tbody>\n",
       "</table>\n",
       "</div>"
      ],
      "text/plain": [
       "  customer_id  frequency  recency      T  monetary_value  prob_alive  \\\n",
       "0     12346.0        0.0      0.0  325.0           0.000     1.00000   \n",
       "1     12747.0       10.0    367.0  369.0         383.745     0.99966   \n",
       "\n",
       "   exp_num_purchases  \n",
       "0           0.063354  \n",
       "1           0.740595  "
      ]
     },
     "execution_count": 37,
     "metadata": {},
     "output_type": "execute_result"
    }
   ],
   "source": [
    "df_rfm.head(2)"
   ]
  },
  {
   "cell_type": "code",
   "execution_count": 38,
   "id": "344ab4c6",
   "metadata": {
    "ExecuteTime": {
     "end_time": "2021-08-07T18:53:31.648673Z",
     "start_time": "2021-08-07T18:53:31.600306Z"
    }
   },
   "outputs": [
    {
     "data": {
      "text/plain": [
       "(1398, 7)"
      ]
     },
     "execution_count": 38,
     "metadata": {},
     "output_type": "execute_result"
    }
   ],
   "source": [
    "df_rfm.query(\"frequency==0\").shape"
   ]
  },
  {
   "cell_type": "code",
   "execution_count": 39,
   "id": "08c16d8e",
   "metadata": {
    "ExecuteTime": {
     "end_time": "2021-08-07T18:53:31.664886Z",
     "start_time": "2021-08-07T18:53:31.653679Z"
    }
   },
   "outputs": [],
   "source": [
    "df_rfm2 = df_rfm.query(\"frequency >0\")"
   ]
  },
  {
   "cell_type": "code",
   "execution_count": 40,
   "id": "ff92d9e2",
   "metadata": {
    "ExecuteTime": {
     "end_time": "2021-08-07T18:53:31.678825Z",
     "start_time": "2021-08-07T18:53:31.668339Z"
    }
   },
   "outputs": [
    {
     "data": {
      "text/html": [
       "<div>\n",
       "<style scoped>\n",
       "    .dataframe tbody tr th:only-of-type {\n",
       "        vertical-align: middle;\n",
       "    }\n",
       "\n",
       "    .dataframe tbody tr th {\n",
       "        vertical-align: top;\n",
       "    }\n",
       "\n",
       "    .dataframe thead th {\n",
       "        text-align: right;\n",
       "    }\n",
       "</style>\n",
       "<table border=\"1\" class=\"dataframe\">\n",
       "  <thead>\n",
       "    <tr style=\"text-align: right;\">\n",
       "      <th></th>\n",
       "      <th>frequency</th>\n",
       "      <th>monetary_value</th>\n",
       "    </tr>\n",
       "  </thead>\n",
       "  <tbody>\n",
       "    <tr>\n",
       "      <th>frequency</th>\n",
       "      <td>1.00000</td>\n",
       "      <td>0.00954</td>\n",
       "    </tr>\n",
       "    <tr>\n",
       "      <th>monetary_value</th>\n",
       "      <td>0.00954</td>\n",
       "      <td>1.00000</td>\n",
       "    </tr>\n",
       "  </tbody>\n",
       "</table>\n",
       "</div>"
      ],
      "text/plain": [
       "                frequency  monetary_value\n",
       "frequency         1.00000         0.00954\n",
       "monetary_value    0.00954         1.00000"
      ]
     },
     "execution_count": 40,
     "metadata": {},
     "output_type": "execute_result"
    }
   ],
   "source": [
    "df_rfm2[['frequency', 'monetary_value']].corr()"
   ]
  },
  {
   "cell_type": "code",
   "execution_count": 41,
   "id": "1b0b8290",
   "metadata": {
    "ExecuteTime": {
     "end_time": "2021-08-07T18:53:31.686709Z",
     "start_time": "2021-08-07T18:53:31.682828Z"
    }
   },
   "outputs": [],
   "source": [
    "\"\"\"\n",
    "Observation:\n",
    "\n",
    "The correlation seems very weak. Hence, we can conclude that, \n",
    "the assumption is satisfied and we can fit the model to our data.\n",
    "\n",
    "\"\"\";"
   ]
  },
  {
   "cell_type": "markdown",
   "id": "364aef04",
   "metadata": {},
   "source": [
    "## Fitting GammaGamma Model"
   ]
  },
  {
   "cell_type": "code",
   "execution_count": 42,
   "id": "94ec22bd",
   "metadata": {
    "ExecuteTime": {
     "end_time": "2021-08-07T18:53:31.766048Z",
     "start_time": "2021-08-07T18:53:31.698634Z"
    }
   },
   "outputs": [
    {
     "data": {
      "text/html": [
       "<div>\n",
       "<style scoped>\n",
       "    .dataframe tbody tr th:only-of-type {\n",
       "        vertical-align: middle;\n",
       "    }\n",
       "\n",
       "    .dataframe tbody tr th {\n",
       "        vertical-align: top;\n",
       "    }\n",
       "\n",
       "    .dataframe thead th {\n",
       "        text-align: right;\n",
       "    }\n",
       "</style>\n",
       "<table border=\"1\" class=\"dataframe\">\n",
       "  <thead>\n",
       "    <tr style=\"text-align: right;\">\n",
       "      <th></th>\n",
       "      <th>coef</th>\n",
       "      <th>se(coef)</th>\n",
       "      <th>lower 95% bound</th>\n",
       "      <th>upper 95% bound</th>\n",
       "    </tr>\n",
       "  </thead>\n",
       "  <tbody>\n",
       "    <tr>\n",
       "      <th>p</th>\n",
       "      <td>11.133452</td>\n",
       "      <td>0.282670</td>\n",
       "      <td>10.579419</td>\n",
       "      <td>11.687486</td>\n",
       "    </tr>\n",
       "    <tr>\n",
       "      <th>q</th>\n",
       "      <td>0.860041</td>\n",
       "      <td>0.021344</td>\n",
       "      <td>0.818207</td>\n",
       "      <td>0.901875</td>\n",
       "    </tr>\n",
       "    <tr>\n",
       "      <th>v</th>\n",
       "      <td>11.330566</td>\n",
       "      <td>0.296364</td>\n",
       "      <td>10.749692</td>\n",
       "      <td>11.911440</td>\n",
       "    </tr>\n",
       "  </tbody>\n",
       "</table>\n",
       "</div>"
      ],
      "text/plain": [
       "        coef  se(coef)  lower 95% bound  upper 95% bound\n",
       "p  11.133452  0.282670        10.579419        11.687486\n",
       "q   0.860041  0.021344         0.818207         0.901875\n",
       "v  11.330566  0.296364        10.749692        11.911440"
      ]
     },
     "execution_count": 42,
     "metadata": {},
     "output_type": "execute_result"
    }
   ],
   "source": [
    "ggf = lifetimes.GammaGammaFitter(penalizer_coef=0.001)\n",
    "\n",
    "ggf.fit(df_rfm2['frequency'],\n",
    "       df_rfm2['monetary_value'])\n",
    "\n",
    "ggf.summary"
   ]
  },
  {
   "cell_type": "code",
   "execution_count": 43,
   "id": "c6d60d41",
   "metadata": {
    "ExecuteTime": {
     "end_time": "2021-08-07T18:53:31.777458Z",
     "start_time": "2021-08-07T18:53:31.768269Z"
    }
   },
   "outputs": [
    {
     "data": {
      "text/plain": [
       "(0, 7)"
      ]
     },
     "execution_count": 43,
     "metadata": {},
     "output_type": "execute_result"
    }
   ],
   "source": [
    "df_rfm2.query(\"monetary_value == 0\").shape"
   ]
  },
  {
   "cell_type": "code",
   "execution_count": 44,
   "id": "e2ab4077",
   "metadata": {
    "ExecuteTime": {
     "end_time": "2021-08-07T18:53:31.797263Z",
     "start_time": "2021-08-07T18:53:31.782931Z"
    }
   },
   "outputs": [],
   "source": [
    "df_rfm2 = df_rfm2.query(\"monetary_value != 0\")"
   ]
  },
  {
   "cell_type": "code",
   "execution_count": 45,
   "id": "c5cf6430",
   "metadata": {
    "ExecuteTime": {
     "end_time": "2021-08-07T18:53:31.814945Z",
     "start_time": "2021-08-07T18:53:31.800960Z"
    }
   },
   "outputs": [
    {
     "data": {
      "text/html": [
       "<div>\n",
       "<style scoped>\n",
       "    .dataframe tbody tr th:only-of-type {\n",
       "        vertical-align: middle;\n",
       "    }\n",
       "\n",
       "    .dataframe tbody tr th {\n",
       "        vertical-align: top;\n",
       "    }\n",
       "\n",
       "    .dataframe thead th {\n",
       "        text-align: right;\n",
       "    }\n",
       "</style>\n",
       "<table border=\"1\" class=\"dataframe\">\n",
       "  <thead>\n",
       "    <tr style=\"text-align: right;\">\n",
       "      <th></th>\n",
       "      <th>0</th>\n",
       "      <th>1</th>\n",
       "      <th>2</th>\n",
       "    </tr>\n",
       "  </thead>\n",
       "  <tbody>\n",
       "    <tr>\n",
       "      <th>0</th>\n",
       "      <td>conditional_expected_average_profit</td>\n",
       "      <td>fit</td>\n",
       "      <td>save_model</td>\n",
       "    </tr>\n",
       "    <tr>\n",
       "      <th>1</th>\n",
       "      <td>confidence_intervals_</td>\n",
       "      <td>load_model</td>\n",
       "      <td>standard_errors_</td>\n",
       "    </tr>\n",
       "    <tr>\n",
       "      <th>2</th>\n",
       "      <td>customer_lifetime_value</td>\n",
       "      <td>params_</td>\n",
       "      <td>summary</td>\n",
       "    </tr>\n",
       "    <tr>\n",
       "      <th>3</th>\n",
       "      <td>data</td>\n",
       "      <td>penalizer_coef</td>\n",
       "      <td>variance_matrix_</td>\n",
       "    </tr>\n",
       "  </tbody>\n",
       "</table>\n",
       "</div>"
      ],
      "text/plain": [
       "                                     0               1                 2\n",
       "0  conditional_expected_average_profit             fit        save_model\n",
       "1                confidence_intervals_      load_model  standard_errors_\n",
       "2              customer_lifetime_value         params_           summary\n",
       "3                                 data  penalizer_coef  variance_matrix_"
      ]
     },
     "execution_count": 45,
     "metadata": {},
     "output_type": "execute_result"
    }
   ],
   "source": [
    "bp.show_methods(ggf)"
   ]
  },
  {
   "cell_type": "code",
   "execution_count": 46,
   "id": "4d21c8c1",
   "metadata": {
    "ExecuteTime": {
     "end_time": "2021-08-07T18:53:31.834634Z",
     "start_time": "2021-08-07T18:53:31.818070Z"
    }
   },
   "outputs": [
    {
     "data": {
      "text/html": [
       "<div>\n",
       "<style scoped>\n",
       "    .dataframe tbody tr th:only-of-type {\n",
       "        vertical-align: middle;\n",
       "    }\n",
       "\n",
       "    .dataframe tbody tr th {\n",
       "        vertical-align: top;\n",
       "    }\n",
       "\n",
       "    .dataframe thead th {\n",
       "        text-align: right;\n",
       "    }\n",
       "</style>\n",
       "<table border=\"1\" class=\"dataframe\">\n",
       "  <thead>\n",
       "    <tr style=\"text-align: right;\">\n",
       "      <th></th>\n",
       "      <th>customer_id</th>\n",
       "      <th>frequency</th>\n",
       "      <th>recency</th>\n",
       "      <th>T</th>\n",
       "      <th>monetary_value</th>\n",
       "      <th>prob_alive</th>\n",
       "      <th>exp_num_purchases</th>\n",
       "      <th>exp_avg_sales</th>\n",
       "    </tr>\n",
       "  </thead>\n",
       "  <tbody>\n",
       "    <tr>\n",
       "      <th>1</th>\n",
       "      <td>12747.0</td>\n",
       "      <td>10.0</td>\n",
       "      <td>367.0</td>\n",
       "      <td>369.0</td>\n",
       "      <td>383.745000</td>\n",
       "      <td>0.999660</td>\n",
       "      <td>0.740595</td>\n",
       "      <td>385.362498</td>\n",
       "    </tr>\n",
       "    <tr>\n",
       "      <th>2</th>\n",
       "      <td>12748.0</td>\n",
       "      <td>112.0</td>\n",
       "      <td>373.0</td>\n",
       "      <td>373.0</td>\n",
       "      <td>301.024821</td>\n",
       "      <td>0.999954</td>\n",
       "      <td>7.645667</td>\n",
       "      <td>301.159790</td>\n",
       "    </tr>\n",
       "    <tr>\n",
       "      <th>3</th>\n",
       "      <td>12749.0</td>\n",
       "      <td>3.0</td>\n",
       "      <td>210.0</td>\n",
       "      <td>213.0</td>\n",
       "      <td>1077.260000</td>\n",
       "      <td>0.999426</td>\n",
       "      <td>0.406607</td>\n",
       "      <td>1085.585845</td>\n",
       "    </tr>\n",
       "    <tr>\n",
       "      <th>4</th>\n",
       "      <td>12820.0</td>\n",
       "      <td>3.0</td>\n",
       "      <td>323.0</td>\n",
       "      <td>326.0</td>\n",
       "      <td>257.293333</td>\n",
       "      <td>0.999432</td>\n",
       "      <td>0.290486</td>\n",
       "      <td>262.168769</td>\n",
       "    </tr>\n",
       "    <tr>\n",
       "      <th>6</th>\n",
       "      <td>12822.0</td>\n",
       "      <td>1.0</td>\n",
       "      <td>17.0</td>\n",
       "      <td>87.0</td>\n",
       "      <td>257.980000</td>\n",
       "      <td>0.997959</td>\n",
       "      <td>0.350374</td>\n",
       "      <td>272.739188</td>\n",
       "    </tr>\n",
       "  </tbody>\n",
       "</table>\n",
       "</div>"
      ],
      "text/plain": [
       "  customer_id  frequency  recency      T  monetary_value  prob_alive  \\\n",
       "1     12747.0       10.0    367.0  369.0      383.745000    0.999660   \n",
       "2     12748.0      112.0    373.0  373.0      301.024821    0.999954   \n",
       "3     12749.0        3.0    210.0  213.0     1077.260000    0.999426   \n",
       "4     12820.0        3.0    323.0  326.0      257.293333    0.999432   \n",
       "6     12822.0        1.0     17.0   87.0      257.980000    0.997959   \n",
       "\n",
       "   exp_num_purchases  exp_avg_sales  \n",
       "1           0.740595     385.362498  \n",
       "2           7.645667     301.159790  \n",
       "3           0.406607    1085.585845  \n",
       "4           0.290486     262.168769  \n",
       "6           0.350374     272.739188  "
      ]
     },
     "execution_count": 46,
     "metadata": {},
     "output_type": "execute_result"
    }
   ],
   "source": [
    "# Here, we get exp avg sales NOT exp avg profit (we will mulitply by profit_margin later.)\n",
    "df_rfm2['exp_avg_sales'] = ggf.conditional_expected_average_profit(\n",
    "    df_rfm2['frequency'],\n",
    "    df_rfm2['monetary_value'])\n",
    "\n",
    "df_rfm2.head()"
   ]
  },
  {
   "cell_type": "code",
   "execution_count": 47,
   "id": "c7724c5f",
   "metadata": {
    "ExecuteTime": {
     "end_time": "2021-08-07T18:53:31.841586Z",
     "start_time": "2021-08-07T18:53:31.836444Z"
    }
   },
   "outputs": [
    {
     "name": "stdout",
     "output_type": "stream",
     "text": [
      "Expected Average Sales: 464.5104833021637\n",
      "Actual Average Sales: 455.5710405734213\n"
     ]
    }
   ],
   "source": [
    "print(f\"Expected Average Sales: {df_rfm2['exp_avg_sales'].mean()}\")\n",
    "print(f\"Actual Average Sales: {df_rfm2['monetary_value'].mean()}\")"
   ]
  },
  {
   "cell_type": "markdown",
   "id": "bf242ecb",
   "metadata": {},
   "source": [
    "## Predict cutomer life time value using ggf"
   ]
  },
  {
   "cell_type": "code",
   "execution_count": 48,
   "id": "68053ae1",
   "metadata": {
    "ExecuteTime": {
     "end_time": "2021-08-07T18:53:31.880996Z",
     "start_time": "2021-08-07T18:53:31.844075Z"
    }
   },
   "outputs": [
    {
     "data": {
      "text/html": [
       "<div>\n",
       "<style scoped>\n",
       "    .dataframe tbody tr th:only-of-type {\n",
       "        vertical-align: middle;\n",
       "    }\n",
       "\n",
       "    .dataframe tbody tr th {\n",
       "        vertical-align: top;\n",
       "    }\n",
       "\n",
       "    .dataframe thead th {\n",
       "        text-align: right;\n",
       "    }\n",
       "</style>\n",
       "<table border=\"1\" class=\"dataframe\">\n",
       "  <thead>\n",
       "    <tr style=\"text-align: right;\">\n",
       "      <th></th>\n",
       "      <th>customer_id</th>\n",
       "      <th>frequency</th>\n",
       "      <th>recency</th>\n",
       "      <th>T</th>\n",
       "      <th>monetary_value</th>\n",
       "      <th>prob_alive</th>\n",
       "      <th>exp_num_purchases</th>\n",
       "      <th>exp_avg_sales</th>\n",
       "      <th>predicted_clv</th>\n",
       "    </tr>\n",
       "  </thead>\n",
       "  <tbody>\n",
       "    <tr>\n",
       "      <th>1</th>\n",
       "      <td>12747.0</td>\n",
       "      <td>10.0</td>\n",
       "      <td>367.0</td>\n",
       "      <td>369.0</td>\n",
       "      <td>383.745000</td>\n",
       "      <td>0.999660</td>\n",
       "      <td>0.740595</td>\n",
       "      <td>385.362498</td>\n",
       "      <td>282.571679</td>\n",
       "    </tr>\n",
       "    <tr>\n",
       "      <th>2</th>\n",
       "      <td>12748.0</td>\n",
       "      <td>112.0</td>\n",
       "      <td>373.0</td>\n",
       "      <td>373.0</td>\n",
       "      <td>301.024821</td>\n",
       "      <td>0.999954</td>\n",
       "      <td>7.645667</td>\n",
       "      <td>301.159790</td>\n",
       "      <td>2279.769847</td>\n",
       "    </tr>\n",
       "    <tr>\n",
       "      <th>3</th>\n",
       "      <td>12749.0</td>\n",
       "      <td>3.0</td>\n",
       "      <td>210.0</td>\n",
       "      <td>213.0</td>\n",
       "      <td>1077.260000</td>\n",
       "      <td>0.999426</td>\n",
       "      <td>0.406607</td>\n",
       "      <td>1085.585845</td>\n",
       "      <td>437.036033</td>\n",
       "    </tr>\n",
       "    <tr>\n",
       "      <th>4</th>\n",
       "      <td>12820.0</td>\n",
       "      <td>3.0</td>\n",
       "      <td>323.0</td>\n",
       "      <td>326.0</td>\n",
       "      <td>257.293333</td>\n",
       "      <td>0.999432</td>\n",
       "      <td>0.290486</td>\n",
       "      <td>262.168769</td>\n",
       "      <td>75.402351</td>\n",
       "    </tr>\n",
       "    <tr>\n",
       "      <th>6</th>\n",
       "      <td>12822.0</td>\n",
       "      <td>1.0</td>\n",
       "      <td>17.0</td>\n",
       "      <td>87.0</td>\n",
       "      <td>257.980000</td>\n",
       "      <td>0.997959</td>\n",
       "      <td>0.350374</td>\n",
       "      <td>272.739188</td>\n",
       "      <td>94.614601</td>\n",
       "    </tr>\n",
       "  </tbody>\n",
       "</table>\n",
       "</div>"
      ],
      "text/plain": [
       "  customer_id  frequency  recency      T  monetary_value  prob_alive  \\\n",
       "1     12747.0       10.0    367.0  369.0      383.745000    0.999660   \n",
       "2     12748.0      112.0    373.0  373.0      301.024821    0.999954   \n",
       "3     12749.0        3.0    210.0  213.0     1077.260000    0.999426   \n",
       "4     12820.0        3.0    323.0  326.0      257.293333    0.999432   \n",
       "6     12822.0        1.0     17.0   87.0      257.980000    0.997959   \n",
       "\n",
       "   exp_num_purchases  exp_avg_sales  predicted_clv  \n",
       "1           0.740595     385.362498     282.571679  \n",
       "2           7.645667     301.159790    2279.769847  \n",
       "3           0.406607    1085.585845     437.036033  \n",
       "4           0.290486     262.168769      75.402351  \n",
       "6           0.350374     272.739188      94.614601  "
      ]
     },
     "execution_count": 48,
     "metadata": {},
     "output_type": "execute_result"
    }
   ],
   "source": [
    "# Predicting Customer Lifetime Value for the next 30 days\n",
    "df_rfm2['predicted_clv'] = ggf.customer_lifetime_value(bgf,\n",
    "    df_rfm2['frequency'],\n",
    "    df_rfm2['recency'],\n",
    "    df_rfm2['T'],\n",
    "    df_rfm2['monetary_value'],\n",
    "    time=1,     # lifetime in months\n",
    "    freq='D',   # frequency in which the data is present(T)      \n",
    "    discount_rate=0.01 # discount rate per month is 0.01 (per year is about 12.7)\n",
    "    )\n",
    "df_rfm2.head()"
   ]
  },
  {
   "cell_type": "code",
   "execution_count": 49,
   "id": "218e06b6",
   "metadata": {
    "ExecuteTime": {
     "end_time": "2021-08-07T18:53:31.897837Z",
     "start_time": "2021-08-07T18:53:31.883920Z"
    }
   },
   "outputs": [
    {
     "data": {
      "text/html": [
       "<div>\n",
       "<style scoped>\n",
       "    .dataframe tbody tr th:only-of-type {\n",
       "        vertical-align: middle;\n",
       "    }\n",
       "\n",
       "    .dataframe tbody tr th {\n",
       "        vertical-align: top;\n",
       "    }\n",
       "\n",
       "    .dataframe thead th {\n",
       "        text-align: right;\n",
       "    }\n",
       "</style>\n",
       "<table border=\"1\" class=\"dataframe\">\n",
       "  <thead>\n",
       "    <tr style=\"text-align: right;\">\n",
       "      <th></th>\n",
       "      <th>customer_id</th>\n",
       "      <th>frequency</th>\n",
       "      <th>recency</th>\n",
       "      <th>T</th>\n",
       "      <th>monetary_value</th>\n",
       "      <th>prob_alive</th>\n",
       "      <th>exp_num_purchases</th>\n",
       "      <th>exp_avg_sales</th>\n",
       "      <th>predicted_clv</th>\n",
       "      <th>manual_predicted_clv</th>\n",
       "    </tr>\n",
       "  </thead>\n",
       "  <tbody>\n",
       "    <tr>\n",
       "      <th>1</th>\n",
       "      <td>12747.0</td>\n",
       "      <td>10.0</td>\n",
       "      <td>367.0</td>\n",
       "      <td>369.0</td>\n",
       "      <td>383.745000</td>\n",
       "      <td>0.999660</td>\n",
       "      <td>0.740595</td>\n",
       "      <td>385.362498</td>\n",
       "      <td>282.571679</td>\n",
       "      <td>285.397396</td>\n",
       "    </tr>\n",
       "    <tr>\n",
       "      <th>2</th>\n",
       "      <td>12748.0</td>\n",
       "      <td>112.0</td>\n",
       "      <td>373.0</td>\n",
       "      <td>373.0</td>\n",
       "      <td>301.024821</td>\n",
       "      <td>0.999954</td>\n",
       "      <td>7.645667</td>\n",
       "      <td>301.159790</td>\n",
       "      <td>2279.769847</td>\n",
       "      <td>2302.567546</td>\n",
       "    </tr>\n",
       "    <tr>\n",
       "      <th>3</th>\n",
       "      <td>12749.0</td>\n",
       "      <td>3.0</td>\n",
       "      <td>210.0</td>\n",
       "      <td>213.0</td>\n",
       "      <td>1077.260000</td>\n",
       "      <td>0.999426</td>\n",
       "      <td>0.406607</td>\n",
       "      <td>1085.585845</td>\n",
       "      <td>437.036033</td>\n",
       "      <td>441.406393</td>\n",
       "    </tr>\n",
       "    <tr>\n",
       "      <th>4</th>\n",
       "      <td>12820.0</td>\n",
       "      <td>3.0</td>\n",
       "      <td>323.0</td>\n",
       "      <td>326.0</td>\n",
       "      <td>257.293333</td>\n",
       "      <td>0.999432</td>\n",
       "      <td>0.290486</td>\n",
       "      <td>262.168769</td>\n",
       "      <td>75.402351</td>\n",
       "      <td>76.156375</td>\n",
       "    </tr>\n",
       "    <tr>\n",
       "      <th>6</th>\n",
       "      <td>12822.0</td>\n",
       "      <td>1.0</td>\n",
       "      <td>17.0</td>\n",
       "      <td>87.0</td>\n",
       "      <td>257.980000</td>\n",
       "      <td>0.997959</td>\n",
       "      <td>0.350374</td>\n",
       "      <td>272.739188</td>\n",
       "      <td>94.614601</td>\n",
       "      <td>95.560747</td>\n",
       "    </tr>\n",
       "  </tbody>\n",
       "</table>\n",
       "</div>"
      ],
      "text/plain": [
       "  customer_id  frequency  recency      T  monetary_value  prob_alive  \\\n",
       "1     12747.0       10.0    367.0  369.0      383.745000    0.999660   \n",
       "2     12748.0      112.0    373.0  373.0      301.024821    0.999954   \n",
       "3     12749.0        3.0    210.0  213.0     1077.260000    0.999426   \n",
       "4     12820.0        3.0    323.0  326.0      257.293333    0.999432   \n",
       "6     12822.0        1.0     17.0   87.0      257.980000    0.997959   \n",
       "\n",
       "   exp_num_purchases  exp_avg_sales  predicted_clv  manual_predicted_clv  \n",
       "1           0.740595     385.362498     282.571679            285.397396  \n",
       "2           7.645667     301.159790    2279.769847           2302.567546  \n",
       "3           0.406607    1085.585845     437.036033            441.406393  \n",
       "4           0.290486     262.168769      75.402351             76.156375  \n",
       "6           0.350374     272.739188      94.614601             95.560747  "
      ]
     },
     "execution_count": 49,
     "metadata": {},
     "output_type": "execute_result"
    }
   ],
   "source": [
    "df_rfm2['manual_predicted_clv'] = df_rfm2['exp_num_purchases'] * df_rfm2['exp_avg_sales']\n",
    "df_rfm2.head()"
   ]
  },
  {
   "cell_type": "code",
   "execution_count": 50,
   "id": "0d8a42ff",
   "metadata": {
    "ExecuteTime": {
     "end_time": "2021-08-07T18:53:31.909425Z",
     "start_time": "2021-08-07T18:53:31.899691Z"
    }
   },
   "outputs": [
    {
     "data": {
      "text/plain": [
       "count    2522.000000\n",
       "mean       -2.255118\n",
       "std         9.024262\n",
       "min      -338.071944\n",
       "25%        -2.114399\n",
       "50%        -1.102105\n",
       "75%        -0.544666\n",
       "max        -0.027260\n",
       "dtype: float64"
      ]
     },
     "execution_count": 50,
     "metadata": {},
     "output_type": "execute_result"
    }
   ],
   "source": [
    "# how different are the sales predictions?\n",
    "(df_rfm2['predicted_clv']-\n",
    "    df_rfm2['manual_predicted_clv']).describe()"
   ]
  },
  {
   "cell_type": "code",
   "execution_count": 51,
   "id": "58068bda",
   "metadata": {
    "ExecuteTime": {
     "end_time": "2021-08-07T18:53:32.082716Z",
     "start_time": "2021-08-07T18:53:31.912491Z"
    }
   },
   "outputs": [
    {
     "data": {
      "text/plain": [
       "<AxesSubplot:>"
      ]
     },
     "execution_count": 51,
     "metadata": {},
     "output_type": "execute_result"
    },
    {
     "data": {
      "image/png": "[encoded data removed]",
      "text/plain": [
       "<Figure size 432x288 with 1 Axes>"
      ]
     },
     "metadata": {},
     "output_type": "display_data"
    }
   ],
   "source": [
    "# how different are the sales predictions?\n",
    "(df_rfm2['predicted_clv']-\n",
    "    df_rfm2['manual_predicted_clv']).hist()"
   ]
  },
  {
   "cell_type": "code",
   "execution_count": 52,
   "id": "ee40cdc2",
   "metadata": {
    "ExecuteTime": {
     "end_time": "2021-08-07T18:53:32.087994Z",
     "start_time": "2021-08-07T18:53:32.084830Z"
    }
   },
   "outputs": [],
   "source": [
    "\"\"\"\n",
    "Note:\n",
    "\n",
    "Here, clv is for the sales NOT for the profit.\n",
    "To get clv for profit we need to mulitply by profit_margin.\n",
    "\"\"\";"
   ]
  },
  {
   "cell_type": "code",
   "execution_count": 53,
   "id": "6e12efe8",
   "metadata": {
    "ExecuteTime": {
     "end_time": "2021-08-07T18:53:32.108123Z",
     "start_time": "2021-08-07T18:53:32.090524Z"
    }
   },
   "outputs": [
    {
     "data": {
      "text/html": [
       "<div>\n",
       "<style scoped>\n",
       "    .dataframe tbody tr th:only-of-type {\n",
       "        vertical-align: middle;\n",
       "    }\n",
       "\n",
       "    .dataframe tbody tr th {\n",
       "        vertical-align: top;\n",
       "    }\n",
       "\n",
       "    .dataframe thead th {\n",
       "        text-align: right;\n",
       "    }\n",
       "</style>\n",
       "<table border=\"1\" class=\"dataframe\">\n",
       "  <thead>\n",
       "    <tr style=\"text-align: right;\">\n",
       "      <th></th>\n",
       "      <th>customer_id</th>\n",
       "      <th>frequency</th>\n",
       "      <th>recency</th>\n",
       "      <th>T</th>\n",
       "      <th>monetary_value</th>\n",
       "      <th>prob_alive</th>\n",
       "      <th>exp_num_purchases</th>\n",
       "      <th>exp_avg_sales</th>\n",
       "      <th>predicted_clv</th>\n",
       "      <th>manual_predicted_clv</th>\n",
       "      <th>CLV</th>\n",
       "    </tr>\n",
       "  </thead>\n",
       "  <tbody>\n",
       "    <tr>\n",
       "      <th>1</th>\n",
       "      <td>12747.0</td>\n",
       "      <td>10.0</td>\n",
       "      <td>367.0</td>\n",
       "      <td>369.0</td>\n",
       "      <td>383.745000</td>\n",
       "      <td>0.999660</td>\n",
       "      <td>0.740595</td>\n",
       "      <td>385.362498</td>\n",
       "      <td>282.571679</td>\n",
       "      <td>285.397396</td>\n",
       "      <td>14.128584</td>\n",
       "    </tr>\n",
       "    <tr>\n",
       "      <th>2</th>\n",
       "      <td>12748.0</td>\n",
       "      <td>112.0</td>\n",
       "      <td>373.0</td>\n",
       "      <td>373.0</td>\n",
       "      <td>301.024821</td>\n",
       "      <td>0.999954</td>\n",
       "      <td>7.645667</td>\n",
       "      <td>301.159790</td>\n",
       "      <td>2279.769847</td>\n",
       "      <td>2302.567546</td>\n",
       "      <td>113.988492</td>\n",
       "    </tr>\n",
       "    <tr>\n",
       "      <th>3</th>\n",
       "      <td>12749.0</td>\n",
       "      <td>3.0</td>\n",
       "      <td>210.0</td>\n",
       "      <td>213.0</td>\n",
       "      <td>1077.260000</td>\n",
       "      <td>0.999426</td>\n",
       "      <td>0.406607</td>\n",
       "      <td>1085.585845</td>\n",
       "      <td>437.036033</td>\n",
       "      <td>441.406393</td>\n",
       "      <td>21.851802</td>\n",
       "    </tr>\n",
       "    <tr>\n",
       "      <th>4</th>\n",
       "      <td>12820.0</td>\n",
       "      <td>3.0</td>\n",
       "      <td>323.0</td>\n",
       "      <td>326.0</td>\n",
       "      <td>257.293333</td>\n",
       "      <td>0.999432</td>\n",
       "      <td>0.290486</td>\n",
       "      <td>262.168769</td>\n",
       "      <td>75.402351</td>\n",
       "      <td>76.156375</td>\n",
       "      <td>3.770118</td>\n",
       "    </tr>\n",
       "    <tr>\n",
       "      <th>6</th>\n",
       "      <td>12822.0</td>\n",
       "      <td>1.0</td>\n",
       "      <td>17.0</td>\n",
       "      <td>87.0</td>\n",
       "      <td>257.980000</td>\n",
       "      <td>0.997959</td>\n",
       "      <td>0.350374</td>\n",
       "      <td>272.739188</td>\n",
       "      <td>94.614601</td>\n",
       "      <td>95.560747</td>\n",
       "      <td>4.730730</td>\n",
       "    </tr>\n",
       "  </tbody>\n",
       "</table>\n",
       "</div>"
      ],
      "text/plain": [
       "  customer_id  frequency  recency      T  monetary_value  prob_alive  \\\n",
       "1     12747.0       10.0    367.0  369.0      383.745000    0.999660   \n",
       "2     12748.0      112.0    373.0  373.0      301.024821    0.999954   \n",
       "3     12749.0        3.0    210.0  213.0     1077.260000    0.999426   \n",
       "4     12820.0        3.0    323.0  326.0      257.293333    0.999432   \n",
       "6     12822.0        1.0     17.0   87.0      257.980000    0.997959   \n",
       "\n",
       "   exp_num_purchases  exp_avg_sales  predicted_clv  manual_predicted_clv  \\\n",
       "1           0.740595     385.362498     282.571679            285.397396   \n",
       "2           7.645667     301.159790    2279.769847           2302.567546   \n",
       "3           0.406607    1085.585845     437.036033            441.406393   \n",
       "4           0.290486     262.168769      75.402351             76.156375   \n",
       "6           0.350374     272.739188      94.614601             95.560747   \n",
       "\n",
       "          CLV  \n",
       "1   14.128584  \n",
       "2  113.988492  \n",
       "3   21.851802  \n",
       "4    3.770118  \n",
       "6    4.730730  "
      ]
     },
     "execution_count": 53,
     "metadata": {},
     "output_type": "execute_result"
    }
   ],
   "source": [
    "# CLV in terms of profit (profit margin is 5%)\n",
    "profit_margin = 0.05\n",
    "df_rfm2['CLV'] = df_rfm2['predicted_clv'] * profit_margin\n",
    "df_rfm2.head()"
   ]
  },
  {
   "cell_type": "markdown",
   "id": "f2033aca",
   "metadata": {},
   "source": [
    "# Time Taken"
   ]
  },
  {
   "cell_type": "code",
   "execution_count": 54,
   "id": "6597227d",
   "metadata": {
    "ExecuteTime": {
     "end_time": "2021-08-07T18:53:32.116918Z",
     "start_time": "2021-08-07T18:53:32.110404Z"
    }
   },
   "outputs": [
    {
     "name": "stdout",
     "output_type": "stream",
     "text": [
      "Time taken to run whole notebook: 0 hr 0 min 6 secs\n"
     ]
    }
   ],
   "source": [
    "time_taken = time.time() - time_start_notebook\n",
    "h,m = divmod(time_taken,60*60)\n",
    "print('Time taken to run whole notebook: {:.0f} hr '\\\n",
    "      '{:.0f} min {:.0f} secs'.format(h, *divmod(m,60)))"
   ]
  }
 ],
 "metadata": {
  "kernelspec": {
   "display_name": "Python3.9 (fin)",
   "language": "python",
   "name": "fin"
  },
  "language_info": {
   "codemirror_mode": {
    "name": "ipython",
    "version": 3
   },
   "file_extension": ".py",
   "mimetype": "text/x-python",
   "name": "python",
   "nbconvert_exporter": "python",
   "pygments_lexer": "ipython3",
   "version": "3.9.5"
  },
  "toc": {
   "base_numbering": 1,
   "nav_menu": {},
   "number_sections": true,
   "sideBar": true,
   "skip_h1_title": false,
   "title_cell": "Table of Contents",
   "title_sidebar": "Contents",
   "toc_cell": true,
   "toc_position": {},
   "toc_section_display": true,
   "toc_window_display": false
  }
 },
 "nbformat": 4,
 "nbformat_minor": 5
}
